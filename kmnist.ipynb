{
  "nbformat": 4,
  "nbformat_minor": 0,
  "metadata": {
    "colab": {
      "name": "kmnist.ipynb",
      "provenance": [],
      "collapsed_sections": [],
      "toc_visible": true,
      "authorship_tag": "ABX9TyN2010lVY4CTbJ2dNAiO5PQ",
      "include_colab_link": true
    },
    "kernelspec": {
      "name": "python3",
      "display_name": "Python 3"
    },
    "accelerator": "GPU"
  },
  "cells": [
    {
      "cell_type": "markdown",
      "metadata": {
        "id": "view-in-github",
        "colab_type": "text"
      },
      "source": [
        "<a href=\"https://colab.research.google.com/github/nico-gith/kuzushizi/blob/main/kmnist.ipynb\" target=\"_parent\"><img src=\"https://colab.research.google.com/assets/colab-badge.svg\" alt=\"Open In Colab\"/></a>"
      ]
    },
    {
      "cell_type": "markdown",
      "metadata": {
        "id": "pS1lHCXkTK9s"
      },
      "source": [
        "#深層学習によるくずし字画像の分類\n",
        "\n",
        "くずし字(日本古典のひらがな)10種類について70000枚の画像データを用いて深層学習による分類を行い、\n",
        "\n",
        "正解率が最大となるようなモデルを構築した。\n",
        "\n",
        "<方法>\n",
        "\n",
        "1.TensorFlowにあるkmnistの画像データ70000枚を使用し、10000枚をテスト用、60000枚を訓練用とする。\n",
        "\n",
        "2.比較としてロジステティック回帰、FNN、CNNの3つのモデルを使用し性能の改善を検討する。\n",
        "\n",
        "<結果>　　\n",
        "\n",
        "正解率は以下の通り。　ロジスティック回帰：0.67、 FNN：0.87、 CNN:0.98\n",
        "\n",
        "性能を改善出来、CNNについては種々のパターンで試行した結果、最も性能の良いモデルは\n",
        "\n",
        "下段「6.モデル性能の改善」の「#モデルの構造を表示」の記載モデルとなった。"
      ]
    },
    {
      "cell_type": "markdown",
      "metadata": {
        "id": "GryZjq56SJ4P"
      },
      "source": [
        "#0.ドライブのマウント"
      ]
    },
    {
      "cell_type": "code",
      "metadata": {
        "colab": {
          "base_uri": "https://localhost:8080/"
        },
        "id": "XSYQ23gX9EM4",
        "outputId": "dfd230b8-80fb-4488-cb2c-f9e41c687d5c"
      },
      "source": [
        "#ドライブのマウント\n",
        "from google.colab import drive\n",
        "drive.mount('/content/drive')"
      ],
      "execution_count": null,
      "outputs": [
        {
          "output_type": "stream",
          "text": [
            "Drive already mounted at /content/drive; to attempt to forcibly remount, call drive.mount(\"/content/drive\", force_remount=True).\n"
          ],
          "name": "stdout"
        }
      ]
    },
    {
      "cell_type": "markdown",
      "metadata": {
        "id": "Ud495XaNS1KG"
      },
      "source": [
        "#1.必要ライブラリのインポート"
      ]
    },
    {
      "cell_type": "code",
      "metadata": {
        "id": "a2S-AhGxdulW"
      },
      "source": [
        "#必要なライブラリのインポート\n",
        "import numpy as np\n",
        "import matplotlib.pyplot as plt\n",
        "import pandas as pd"
      ],
      "execution_count": null,
      "outputs": []
    },
    {
      "cell_type": "markdown",
      "metadata": {
        "id": "L9sIz-YOiiDr"
      },
      "source": [
        "2.**データの準備**"
      ]
    },
    {
      "cell_type": "markdown",
      "metadata": {
        "id": "edRzRYrCS-Rm"
      },
      "source": [
        "#2.データの準備"
      ]
    },
    {
      "cell_type": "markdown",
      "metadata": {
        "id": "HH_KhEBqT1yN"
      },
      "source": [
        "2.1　データの確認"
      ]
    },
    {
      "cell_type": "code",
      "metadata": {
        "id": "S2wfxrCevb6c"
      },
      "source": [
        "#npz(numpyバイナリ)ファイルの読み込み(特徴量のテストデータ)\n",
        "x_testf = np.load('/content/drive/MyDrive/mnist/kmnist-test-imgs.npz')"
      ],
      "execution_count": null,
      "outputs": []
    },
    {
      "cell_type": "code",
      "metadata": {
        "colab": {
          "base_uri": "https://localhost:8080/"
        },
        "id": "wOQ4ukBVMQAS",
        "outputId": "ad8bb517-319d-48e1-c334-19064ab0ea2d"
      },
      "source": [
        "#x_testのデータ型を確認\n",
        "type(x_testf)\n",
        "\n",
        "#npz型となっている"
      ],
      "execution_count": null,
      "outputs": [
        {
          "output_type": "execute_result",
          "data": {
            "text/plain": [
              "numpy.lib.npyio.NpzFile"
            ]
          },
          "metadata": {
            "tags": []
          },
          "execution_count": 5
        }
      ]
    },
    {
      "cell_type": "code",
      "metadata": {
        "colab": {
          "base_uri": "https://localhost:8080/"
        },
        "id": "bNLL8h3E9fUx",
        "outputId": "cc691ca1-f604-4c57-c4c4-a711678763f5"
      },
      "source": [
        "#npz型のオブジェクトなのでそれに格納されているndarrayのファイル名をfilesで取得\n",
        "print(x_testf.files)"
      ],
      "execution_count": null,
      "outputs": [
        {
          "output_type": "stream",
          "text": [
            "['arr_0']\n"
          ],
          "name": "stdout"
        }
      ]
    },
    {
      "cell_type": "code",
      "metadata": {
        "colab": {
          "base_uri": "https://localhost:8080/"
        },
        "id": "qePXOo_JMdJT",
        "outputId": "37f551d5-095a-471f-a40f-601380407041"
      },
      "source": [
        "#x_testf['arr_0']のデータ型を確認\n",
        "x_test = x_testf['arr_0']\n",
        "\n",
        "type(x_test)"
      ],
      "execution_count": null,
      "outputs": [
        {
          "output_type": "execute_result",
          "data": {
            "text/plain": [
              "numpy.ndarray"
            ]
          },
          "metadata": {
            "tags": []
          },
          "execution_count": 7
        }
      ]
    },
    {
      "cell_type": "code",
      "metadata": {
        "colab": {
          "base_uri": "https://localhost:8080/"
        },
        "id": "6PYjZRzw-GH8",
        "outputId": "a312f845-4cfc-4198-999b-8b9968484947"
      },
      "source": [
        "#arr_0(ndarrayデータ)の中身を確認\n",
        "x_test"
      ],
      "execution_count": null,
      "outputs": [
        {
          "output_type": "execute_result",
          "data": {
            "text/plain": [
              "array([[[  0,  97,  35, ...,   0,   0,   0],\n",
              "        [  0,  34, 143, ...,   0,   0,   0],\n",
              "        [  0,   0,  49, ...,   0,   0,   0],\n",
              "        ...,\n",
              "        [  0, 126, 254, ...,   0,   0,   0],\n",
              "        [  0,  15, 224, ...,   0,   0,   0],\n",
              "        [  0,   0,  68, ...,   0,   0,   0]],\n",
              "\n",
              "       [[  0,   0,   0, ...,   0,   0,   0],\n",
              "        [  0,   0,   0, ...,   0,   0,   0],\n",
              "        [  0,   0,   0, ...,   0,   0,   0],\n",
              "        ...,\n",
              "        [  0,   0,   0, ...,   0,   0,   0],\n",
              "        [  0,   0,   0, ...,   0,   0,   0],\n",
              "        [  0,   0,   0, ...,   0,   0,   0]],\n",
              "\n",
              "       [[  0,   0,   0, ...,   0,   0,   0],\n",
              "        [  0,   0,   0, ...,   0,   0,   0],\n",
              "        [  0,   0,   0, ...,   0,   0,   0],\n",
              "        ...,\n",
              "        [  0,   0,   0, ...,   0,   0,   0],\n",
              "        [  0,   0,   0, ...,   0,   0,   0],\n",
              "        [  0,   0,   0, ...,   0,   0,   0]],\n",
              "\n",
              "       ...,\n",
              "\n",
              "       [[  0,   0,   0, ...,   0,   0,   0],\n",
              "        [  0,   0,   0, ...,   0,   0,   0],\n",
              "        [  0,   0,   0, ...,   0,   0,   0],\n",
              "        ...,\n",
              "        [  0,   0,   0, ...,   0,   0,   0],\n",
              "        [  0,   0,   0, ...,   0,   0,   0],\n",
              "        [  0,   0,   0, ...,   0,   0,   0]],\n",
              "\n",
              "       [[  0,   0,   0, ...,   0,   0,   0],\n",
              "        [  0,   0,   0, ...,   0,   0,   0],\n",
              "        [  0,   0,   0, ...,   0,   0,   0],\n",
              "        ...,\n",
              "        [  0,   0,   0, ...,  46,  28,  28],\n",
              "        [  0,   0,   0, ...,   0,   0,   0],\n",
              "        [  0,   0,   0, ...,   0,   0,   0]],\n",
              "\n",
              "       [[  0,   0,   0, ...,   0,   0,   0],\n",
              "        [  0,   0,  34, ...,   0,   0,   0],\n",
              "        [  0,   0,  33, ...,   0,   0,   0],\n",
              "        ...,\n",
              "        [  0,  27, 246, ..., 220, 111,   0],\n",
              "        [  0,   1, 133, ...,   0,   0,   0],\n",
              "        [  0,   0,  10, ...,   0,   0,   0]]], dtype=uint8)"
            ]
          },
          "metadata": {
            "tags": []
          },
          "execution_count": 8
        }
      ]
    },
    {
      "cell_type": "code",
      "metadata": {
        "colab": {
          "base_uri": "https://localhost:8080/"
        },
        "id": "T4zBCL2NAVlj",
        "outputId": "cfff2548-09b9-4585-9fc6-1fdc5ab88340"
      },
      "source": [
        "#arr_0の0番目のデータを確認\n",
        "x_test[0]"
      ],
      "execution_count": null,
      "outputs": [
        {
          "output_type": "execute_result",
          "data": {
            "text/plain": [
              "array([[  0,  97,  35,   0,   0,   0,   0,   0,   0,   0,   0,   0,   0,\n",
              "          0,   0,   0,   0,   0,   0,   0,   0,   0,   0,   0,   0,   0,\n",
              "          0,   0],\n",
              "       [  0,  34, 143,   5,   0,   0,   0,   0,   0,   0,   0,   0,   0,\n",
              "          0,   0,  25,  20,   0,   0,   0,  30, 127, 117,  34,   0,   0,\n",
              "          0,   0],\n",
              "       [  0,   0,  49,  89,   0,   0,   0,   0,   0,   0,   0,   0,   0,\n",
              "          0,  77, 238, 235,  39,  20, 133, 181, 165, 210, 243,  82,   0,\n",
              "          0,   0],\n",
              "       [  0,   0,   0, 134,   0,   0,   0,   0,   0,   0,   0,   0,   2,\n",
              "        126, 145, 227, 255, 235, 238, 138,   8,   0,  16, 236, 173,   0,\n",
              "          0,   0],\n",
              "       [  0,   0,   0, 173,   5,   0,   0,   0,   0,   0,   0,   0, 133,\n",
              "         94,   2, 207, 255, 255, 172,   0,   2,   8,   0, 172, 180,   0,\n",
              "          0,   0],\n",
              "       [  0,   0,   0, 164,   8,   0,   0,   0,   0,   0,   0,  90,  71,\n",
              "          0,  11, 236, 251, 223,  43,   6, 167, 182,  41, 233, 133,   0,\n",
              "          0,   0],\n",
              "       [  0,   0,   0, 204,  30,   0,   0,   0,   0,   0,  47,  73,   0,\n",
              "          0,  88, 255, 233,  59,   0,  89, 255, 238, 234, 230,  14,   0,\n",
              "          0,   0],\n",
              "       [  0,   0,   0, 218,  20,   0,   0,   0,   0,  12,  99,   0,   0,\n",
              "          0, 184, 255, 107,   0,   0, 145, 254, 234, 218,  56,   0,   0,\n",
              "          0,   0],\n",
              "       [  0,   0,  21, 210,   2,   0,   0,   0,   0, 116,  27,   0,   0,\n",
              "          0, 200, 230,  23,   0,   0, 167, 231,  11,   4,   0,   0,   0,\n",
              "          0,   0],\n",
              "       [  0,   0,  93, 189,   0,   0,   0,   0,  53,  95,   0,   0,   0,\n",
              "          0, 126,  94,   0,   0,   3, 229, 183,   0,   0,   0,   0,   0,\n",
              "          0,   0],\n",
              "       [  0,   0, 170, 141,   0,   0,   0,   9, 182,   9,   0,   0,   0,\n",
              "          0,   0,   0,   0,   0,  49, 255, 120,   0,   0,   0,   0,   0,\n",
              "          0,   0],\n",
              "       [  0,   8, 227,  83,   0,   0,   0, 111, 144,   0,   0,   0,   0,\n",
              "          0,   0,   0,   0,   0, 122, 255,  55,   0,   0,   0,   0,   0,\n",
              "          0,   0],\n",
              "       [  0,  54, 252,  35,   0,   0,  15, 212,  23,   0,   0,   0,   0,\n",
              "          0,   0,   0,   0,   0, 187, 236,  14,   0,   0,   0,   0,   0,\n",
              "          0,   0],\n",
              "       [  0, 118, 218,   3,   0,   0,  87, 196,   1,   0,   0,   0,   0,\n",
              "          0,   0,   0,   0,  14, 242, 198,   0,  32, 113, 120,  58,   5,\n",
              "          0,   0],\n",
              "       [  0, 180, 161,   0,   0,   1, 193, 126,   0,   0,   0,   0,   0,\n",
              "          0,   0,   0,   0,  75, 255, 241, 199, 193,  93, 187, 255, 228,\n",
              "        101,   0],\n",
              "       [  7, 234, 133,   0,   0,  28, 239,  33,   0,   0,   0,   0,   0,\n",
              "          0,   0,   0,   0, 152, 255, 254, 179,   9,   0,  26, 223, 255,\n",
              "        250,  60],\n",
              "       [ 44, 255,  98,   0,   0, 133, 194,   2,   0,   0,   0,   0,   0,\n",
              "          0,   0,   0,  14, 233, 255, 212,  12,   0,   0,   0, 107, 255,\n",
              "        255, 176],\n",
              "       [ 62, 255,  79,   0,   8, 224, 153,   0,   0,   0,   0,   0,   0,\n",
              "          0,   0,   0,  34, 252, 254,  77,   0,   0,   0,   0,  44, 255,\n",
              "        255, 246],\n",
              "       [119, 252,  46,   0,  70, 255,  70,   0,   0,   0,   0,   0,   0,\n",
              "          0,   0,   0,  16, 245, 223,   3,   0,   0,   0,   0,  35, 253,\n",
              "        255, 225],\n",
              "       [151, 254,  51,   0, 151, 238,  11,   0,   0,   0,   0,   0,   0,\n",
              "          0,   0,   0,   0, 183, 137,   0,   0,   0,   0,   0,   5, 222,\n",
              "        255, 151],\n",
              "       [184, 255,  52,  24, 241, 182,   0,   0,   0,   0,   0,   0,   0,\n",
              "          0,   0,   0,   0,  19,  12,   0,   0,   0,   0,   0,   0, 131,\n",
              "        195,  33],\n",
              "       [179, 249,  35, 113, 255, 114,   0,   0,   0,   0,   0,   0,   0,\n",
              "          0,   0,   0,   0,   0,   0,   0,   0,   0,   0,   0,   0,   9,\n",
              "          8,   0],\n",
              "       [172, 253,  73, 212, 255,  63,   0,   0,   0,   0,   0,   0,   0,\n",
              "          0,   0,   0,   0,   0,   0,   0,   0,   0,   0,   0,   0,   0,\n",
              "          0,   0],\n",
              "       [110, 255, 248, 255, 250,  19,   0,   0,   0,   0,   0,   0,   0,\n",
              "          0,   0,   0,   0,   0,   0,   0,   0,   0,   0,   0,   0,   0,\n",
              "          0,   0],\n",
              "       [ 23, 241, 255, 255, 223,   0,   0,   0,   0,   0,   0,   0,   0,\n",
              "          0,   0,   0,   0,   0,   0,   0,   0,   0,   0,   0,   0,   0,\n",
              "          0,   0],\n",
              "       [  0, 126, 254, 255, 160,   0,   0,   0,   0,   0,   0,   0,   0,\n",
              "          0,   0,   0,   0,   0,   0,   0,   0,   0,   0,   0,   0,   0,\n",
              "          0,   0],\n",
              "       [  0,  15, 224, 242,  55,   0,   0,   0,   0,   0,   0,   0,   0,\n",
              "          0,   0,   0,   0,   0,   0,   0,   0,   0,   0,   0,   0,   0,\n",
              "          0,   0],\n",
              "       [  0,   0,  68, 105,   0,   0,   0,   0,   0,   0,   0,   0,   0,\n",
              "          0,   0,   0,   0,   0,   0,   0,   0,   0,   0,   0,   0,   0,\n",
              "          0,   0]], dtype=uint8)"
            ]
          },
          "metadata": {
            "tags": []
          },
          "execution_count": 9
        }
      ]
    },
    {
      "cell_type": "code",
      "metadata": {
        "colab": {
          "base_uri": "https://localhost:8080/"
        },
        "id": "Pdu5b82CA3CV",
        "outputId": "e1af1cf2-dfed-4aed-d5ee-6332761fa947"
      },
      "source": [
        "#arr_0とarr_0の0番目のデータの形状を確認\n",
        "print(x_test.shape)\n",
        "print(x_test[0].shape)"
      ],
      "execution_count": null,
      "outputs": [
        {
          "output_type": "stream",
          "text": [
            "(10000, 28, 28)\n",
            "(28, 28)\n"
          ],
          "name": "stdout"
        }
      ]
    },
    {
      "cell_type": "code",
      "metadata": {
        "colab": {
          "base_uri": "https://localhost:8080/",
          "height": 282
        },
        "id": "V1uC_2anCbuG",
        "outputId": "50a9f4cd-19a5-4614-8d26-602fcb5eec49"
      },
      "source": [
        "#画像で表示(matplotlibのimshow関数を使用する)\n",
        "#第一引数:配列オブジェクト,第二引数:アスペクト(縦横)比、色彩(RGBA次元を持たない場合)\n",
        "plt.imshow(x_test[0], cmap='Greys')"
      ],
      "execution_count": null,
      "outputs": [
        {
          "output_type": "execute_result",
          "data": {
            "text/plain": [
              "<matplotlib.image.AxesImage at 0x7fe9ca159950>"
            ]
          },
          "metadata": {
            "tags": []
          },
          "execution_count": 11
        },
        {
          "output_type": "display_data",
          "data": {
            "image/png": "[encoded data removed]",
            "text/plain": [
              "<Figure size 432x288 with 1 Axes>"
            ]
          },
          "metadata": {
            "tags": [],
            "needs_background": "light"
          }
        }
      ]
    },
    {
      "cell_type": "code",
      "metadata": {
        "id": "TEyVqK8QJ0Q9"
      },
      "source": [
        "#ラベルのテストデータの読み込み\n",
        "y_testf = np.load('/content/drive/MyDrive/mnist/kmnist-test-labels.npz')"
      ],
      "execution_count": null,
      "outputs": []
    },
    {
      "cell_type": "code",
      "metadata": {
        "colab": {
          "base_uri": "https://localhost:8080/"
        },
        "id": "XwLm4pIoSulN",
        "outputId": "a25f7d25-e764-44fe-b810-db623c4a3537"
      },
      "source": [
        "#y_testのデータ型を確認\n",
        "type(y_testf)\n",
        "\n",
        "#npz型となっている"
      ],
      "execution_count": null,
      "outputs": [
        {
          "output_type": "execute_result",
          "data": {
            "text/plain": [
              "numpy.lib.npyio.NpzFile"
            ]
          },
          "metadata": {
            "tags": []
          },
          "execution_count": 13
        }
      ]
    },
    {
      "cell_type": "code",
      "metadata": {
        "colab": {
          "base_uri": "https://localhost:8080/"
        },
        "id": "axrn-Q6GWdtM",
        "outputId": "b1702da0-3dbc-4a0a-9ec9-1bfb899f7147"
      },
      "source": [
        "##npz型のオブジェクトなのでそれに格納されているndarrayのファイル名をfilesで取得\n",
        "y_testf.files"
      ],
      "execution_count": null,
      "outputs": [
        {
          "output_type": "execute_result",
          "data": {
            "text/plain": [
              "['arr_0']"
            ]
          },
          "metadata": {
            "tags": []
          },
          "execution_count": 14
        }
      ]
    },
    {
      "cell_type": "code",
      "metadata": {
        "colab": {
          "base_uri": "https://localhost:8080/"
        },
        "id": "lFC0413_W1WE",
        "outputId": "5d9b9a50-907b-41b4-de28-6cc5b1492aae"
      },
      "source": [
        "#y_testのデータ型はndarrayなのでshapeを使用して形状を確認する\n",
        "y_test = y_testf['arr_0']\n",
        "\n",
        "y_test.shape"
      ],
      "execution_count": null,
      "outputs": [
        {
          "output_type": "execute_result",
          "data": {
            "text/plain": [
              "(10000,)"
            ]
          },
          "metadata": {
            "tags": []
          },
          "execution_count": 15
        }
      ]
    },
    {
      "cell_type": "code",
      "metadata": {
        "colab": {
          "base_uri": "https://localhost:8080/"
        },
        "id": "2n0A8tzuXGEQ",
        "outputId": "71ba2b7e-c67e-4055-cde2-3503e9d090c0"
      },
      "source": [
        "#y_test['arr_0']の中身\n",
        "y_test"
      ],
      "execution_count": null,
      "outputs": [
        {
          "output_type": "execute_result",
          "data": {
            "text/plain": [
              "array([2, 9, 3, ..., 9, 4, 2], dtype=uint8)"
            ]
          },
          "metadata": {
            "tags": []
          },
          "execution_count": 16
        }
      ]
    },
    {
      "cell_type": "code",
      "metadata": {
        "colab": {
          "base_uri": "https://localhost:8080/",
          "height": 359
        },
        "id": "o4C0kqw_XPcP",
        "outputId": "0c0796fc-e3dd-4b46-d1b8-b1b73270ad02"
      },
      "source": [
        "#ラベルとひらがなの対応表\n",
        "corr_table = pd.read_csv('/content/drive/MyDrive/mnist/kmnist_classmap (1).csv')\n",
        "\n",
        "corr_table"
      ],
      "execution_count": null,
      "outputs": [
        {
          "output_type": "execute_result",
          "data": {
            "text/html": [
              "<div>\n",
              "<style scoped>\n",
              "    .dataframe tbody tr th:only-of-type {\n",
              "        vertical-align: middle;\n",
              "    }\n",
              "\n",
              "    .dataframe tbody tr th {\n",
              "        vertical-align: top;\n",
              "    }\n",
              "\n",
              "    .dataframe thead th {\n",
              "        text-align: right;\n",
              "    }\n",
              "</style>\n",
              "<table border=\"1\" class=\"dataframe\">\n",
              "  <thead>\n",
              "    <tr style=\"text-align: right;\">\n",
              "      <th></th>\n",
              "      <th>index</th>\n",
              "      <th>codepoint</th>\n",
              "      <th>char</th>\n",
              "    </tr>\n",
              "  </thead>\n",
              "  <tbody>\n",
              "    <tr>\n",
              "      <th>0</th>\n",
              "      <td>0</td>\n",
              "      <td>U+304A</td>\n",
              "      <td>お</td>\n",
              "    </tr>\n",
              "    <tr>\n",
              "      <th>1</th>\n",
              "      <td>1</td>\n",
              "      <td>U+304D</td>\n",
              "      <td>き</td>\n",
              "    </tr>\n",
              "    <tr>\n",
              "      <th>2</th>\n",
              "      <td>2</td>\n",
              "      <td>U+3059</td>\n",
              "      <td>す</td>\n",
              "    </tr>\n",
              "    <tr>\n",
              "      <th>3</th>\n",
              "      <td>3</td>\n",
              "      <td>U+3064</td>\n",
              "      <td>つ</td>\n",
              "    </tr>\n",
              "    <tr>\n",
              "      <th>4</th>\n",
              "      <td>4</td>\n",
              "      <td>U+306A</td>\n",
              "      <td>な</td>\n",
              "    </tr>\n",
              "    <tr>\n",
              "      <th>5</th>\n",
              "      <td>5</td>\n",
              "      <td>U+306F</td>\n",
              "      <td>は</td>\n",
              "    </tr>\n",
              "    <tr>\n",
              "      <th>6</th>\n",
              "      <td>6</td>\n",
              "      <td>U+307E</td>\n",
              "      <td>ま</td>\n",
              "    </tr>\n",
              "    <tr>\n",
              "      <th>7</th>\n",
              "      <td>7</td>\n",
              "      <td>U+3084</td>\n",
              "      <td>や</td>\n",
              "    </tr>\n",
              "    <tr>\n",
              "      <th>8</th>\n",
              "      <td>8</td>\n",
              "      <td>U+308C</td>\n",
              "      <td>れ</td>\n",
              "    </tr>\n",
              "    <tr>\n",
              "      <th>9</th>\n",
              "      <td>9</td>\n",
              "      <td>U+3092</td>\n",
              "      <td>を</td>\n",
              "    </tr>\n",
              "  </tbody>\n",
              "</table>\n",
              "</div>"
            ],
            "text/plain": [
              "   index codepoint char\n",
              "0      0    U+304A    お\n",
              "1      1    U+304D    き\n",
              "2      2    U+3059    す\n",
              "3      3    U+3064    つ\n",
              "4      4    U+306A    な\n",
              "5      5    U+306F    は\n",
              "6      6    U+307E    ま\n",
              "7      7    U+3084    や\n",
              "8      8    U+308C    れ\n",
              "9      9    U+3092    を"
            ]
          },
          "metadata": {
            "tags": []
          },
          "execution_count": 17
        }
      ]
    },
    {
      "cell_type": "markdown",
      "metadata": {
        "id": "nobJeUnyl6Jr"
      },
      "source": [
        "2.2　訓練データの読み込み"
      ]
    },
    {
      "cell_type": "code",
      "metadata": {
        "id": "OjSYUE99cqOX"
      },
      "source": [
        "#他のデータも読み込み(訓練用データ)\n",
        "x_trainf = np.load('/content/drive/MyDrive/mnist/kmnist-train-imgs.npz')\n",
        "y_trainf = np.load('/content/drive/MyDrive/mnist/kmnist-train-labels.npz')"
      ],
      "execution_count": null,
      "outputs": []
    },
    {
      "cell_type": "code",
      "metadata": {
        "colab": {
          "base_uri": "https://localhost:8080/"
        },
        "id": "mYuIAwhhhZ3k",
        "outputId": "6fc52227-7d02-48ef-f377-df3c79d9e9bf"
      },
      "source": [
        "#訓練用データnpz型のファイル名を確認\n",
        "print(x_trainf.files)\n",
        "print(y_trainf.files)"
      ],
      "execution_count": null,
      "outputs": [
        {
          "output_type": "stream",
          "text": [
            "['arr_0']\n",
            "['arr_0']\n"
          ],
          "name": "stdout"
        }
      ]
    },
    {
      "cell_type": "code",
      "metadata": {
        "colab": {
          "base_uri": "https://localhost:8080/"
        },
        "id": "O4814TFDhxQf",
        "outputId": "306a52b7-2215-4bca-e9ae-2062403ceb06"
      },
      "source": [
        "#訓練用データファイルの形状を確認\n",
        "x_train_ = x_trainf['arr_0']\n",
        "y_train_ = y_trainf['arr_0']\n",
        "\n",
        "print('x_train_:', x_train_.shape)\n",
        "print('y_train_:', y_train_.shape)"
      ],
      "execution_count": null,
      "outputs": [
        {
          "output_type": "stream",
          "text": [
            "x_train_: (60000, 28, 28)\n",
            "y_train_: (60000,)\n"
          ],
          "name": "stdout"
        }
      ]
    },
    {
      "cell_type": "markdown",
      "metadata": {
        "id": "z0s01mqjubmB"
      },
      "source": [
        "  2.3　データセットの分割"
      ]
    },
    {
      "cell_type": "code",
      "metadata": {
        "id": "UEPyksAmufVo"
      },
      "source": [
        "#データセットの分割(ホールドアウト法)\n",
        "\n",
        "#データセットを分割する関数の読み込み\n",
        "from sklearn.model_selection import train_test_split\n",
        "\n",
        "#訓練用データを学習用と検証用に分ける\n",
        "x_train, x_valid, y_train, y_valid = train_test_split(x_train_, y_train_, test_size=0.3, random_state=0)"
      ],
      "execution_count": null,
      "outputs": []
    },
    {
      "cell_type": "markdown",
      "metadata": {
        "id": "FpHdDKUuTmmj"
      },
      "source": [
        "#3.ロジスティック回帰による学習と評価"
      ]
    },
    {
      "cell_type": "code",
      "metadata": {
        "id": "XFUWoSzG2his"
      },
      "source": [
        "#ロジスティック回帰:分類モデル(目的変数の値となる発生確率を出力する)\n",
        "\n",
        "#ロジスティック回帰モデルに必要なライブラリのインポート\n",
        "from sklearn.linear_model import LogisticRegression"
      ],
      "execution_count": null,
      "outputs": []
    },
    {
      "cell_type": "code",
      "metadata": {
        "colab": {
          "base_uri": "https://localhost:8080/"
        },
        "id": "hPfLyi00tLyu",
        "outputId": "4b973d02-5822-45f3-809c-3c1cb828cae1"
      },
      "source": [
        "#データ加工\n",
        "#3次元配列から2次元配列へ形状変更(LogisticRegressionモデルの引数は2次元配列想定の為)\n",
        "#また、要素を変更した際に、元の配列に影響させない為、キャスト変換を行なっている\n",
        "x_train_r = x_train.reshape(len(x_train), -1).astype(np.float64)\n",
        "\n",
        "print('x_train_r:', x_train_r.shape)\n",
        "\n",
        "x_valid_r = x_valid.reshape(len(x_valid), -1).astype(np.float64)\n",
        "\n",
        "print('x_valid_r:', x_valid_r.shape)\n",
        "\n",
        "x_test_r = x_test.reshape(len(x_test), -1).astype(np.float64)\n",
        "\n",
        "print('x_test_r:', x_test_r.shape)"
      ],
      "execution_count": null,
      "outputs": [
        {
          "output_type": "stream",
          "text": [
            "x_train_r: (42000, 784)\n",
            "x_valid_r: (18000, 784)\n",
            "x_test_r: (10000, 784)\n"
          ],
          "name": "stdout"
        }
      ]
    },
    {
      "cell_type": "code",
      "metadata": {
        "colab": {
          "base_uri": "https://localhost:8080/"
        },
        "id": "Ed4TXb4Gg-18",
        "outputId": "0210f18d-341f-4c3f-b918-2c64b8f7b4e1"
      },
      "source": [
        "# ロジスティック回帰（多クラス分類）モデル学習\n",
        "normal_model = LogisticRegression(solver='lbfgs', multi_class='multinomial', max_iter=3000)\n",
        "normal_model.fit(x_train_r, y_train)\n",
        "y_pred = normal_model.predict(x_valid_r)"
      ],
      "execution_count": null,
      "outputs": [
        {
          "output_type": "stream",
          "text": [
            "/usr/local/lib/python3.7/dist-packages/sklearn/linear_model/_logistic.py:940: ConvergenceWarning: lbfgs failed to converge (status=1):\n",
            "STOP: TOTAL NO. of ITERATIONS REACHED LIMIT.\n",
            "\n",
            "Increase the number of iterations (max_iter) or scale the data as shown in:\n",
            "    https://scikit-learn.org/stable/modules/preprocessing.html\n",
            "Please also refer to the documentation for alternative solver options:\n",
            "    https://scikit-learn.org/stable/modules/linear_model.html#logistic-regression\n",
            "  extra_warning_msg=_LOGISTIC_SOLVER_CONVERGENCE_MSG)\n"
          ],
          "name": "stderr"
        }
      ]
    },
    {
      "cell_type": "code",
      "metadata": {
        "colab": {
          "base_uri": "https://localhost:8080/"
        },
        "id": "kD12Mykw7mOW",
        "outputId": "fadc2db0-8692-4fb6-bde9-3b1529d9902e"
      },
      "source": [
        "#モデル評価\n",
        "\n",
        "#モデル評価に必要なライブラリのインポート\n",
        "from sklearn.metrics import classification_report\n",
        "\n",
        "#モデル評価\n",
        "print(classification_report(y_valid, y_pred))"
      ],
      "execution_count": null,
      "outputs": [
        {
          "output_type": "stream",
          "text": [
            "              precision    recall  f1-score   support\n",
            "\n",
            "           0       0.88      0.88      0.88      1777\n",
            "           1       0.79      0.78      0.79      1865\n",
            "           2       0.69      0.67      0.68      1816\n",
            "           3       0.82      0.84      0.83      1772\n",
            "           4       0.76      0.77      0.77      1755\n",
            "           5       0.83      0.80      0.81      1775\n",
            "           6       0.76      0.80      0.78      1838\n",
            "           7       0.85      0.83      0.84      1814\n",
            "           8       0.78      0.80      0.79      1787\n",
            "           9       0.81      0.81      0.81      1801\n",
            "\n",
            "    accuracy                           0.80     18000\n",
            "   macro avg       0.80      0.80      0.80     18000\n",
            "weighted avg       0.80      0.80      0.80     18000\n",
            "\n"
          ],
          "name": "stdout"
        }
      ]
    },
    {
      "cell_type": "code",
      "metadata": {
        "colab": {
          "base_uri": "https://localhost:8080/"
        },
        "id": "e7aWNBWMFrzL",
        "outputId": "54ee09aa-2931-4086-abb8-c3d4020d07c2"
      },
      "source": [
        "#モデル評価(テストデータ)\n",
        "\n",
        "#テストデータの予測\n",
        "y_pred_test = normal_model.predict(x_test_r)\n",
        "\n",
        "#テストデータの評価\n",
        "print(classification_report(y_pred_test, y_test))"
      ],
      "execution_count": null,
      "outputs": [
        {
          "output_type": "stream",
          "text": [
            "              precision    recall  f1-score   support\n",
            "\n",
            "           0       0.76      0.81      0.78       934\n",
            "           1       0.66      0.64      0.65      1028\n",
            "           2       0.62      0.54      0.58      1161\n",
            "           3       0.74      0.78      0.76       954\n",
            "           4       0.66      0.63      0.64      1038\n",
            "           5       0.69      0.75      0.72       917\n",
            "           6       0.73      0.66      0.69      1103\n",
            "           7       0.54      0.69      0.61       783\n",
            "           8       0.70      0.59      0.64      1182\n",
            "           9       0.64      0.71      0.67       900\n",
            "\n",
            "    accuracy                           0.67     10000\n",
            "   macro avg       0.67      0.68      0.67     10000\n",
            "weighted avg       0.68      0.67      0.67     10000\n",
            "\n"
          ],
          "name": "stdout"
        }
      ]
    },
    {
      "cell_type": "code",
      "metadata": {
        "colab": {
          "base_uri": "https://localhost:8080/"
        },
        "id": "G-kHhcvKGAaK",
        "outputId": "77a6f8dd-d028-49f1-e7ec-20edebcab407"
      },
      "source": [
        "print('テストデータ予測値:', y_pred_test[6])\n",
        "print('テストデータ正解値', y_test[6])"
      ],
      "execution_count": null,
      "outputs": [
        {
          "output_type": "stream",
          "text": [
            "テストデータ予測値: 8\n",
            "テストデータ正解値 8\n"
          ],
          "name": "stdout"
        }
      ]
    },
    {
      "cell_type": "code",
      "metadata": {
        "colab": {
          "base_uri": "https://localhost:8080/",
          "height": 282
        },
        "id": "7gS_K8PpIkS6",
        "outputId": "dd00427d-e76f-4149-9bcc-c7291597e49e"
      },
      "source": [
        "plt.imshow(x_test[6], cmap='Greys')"
      ],
      "execution_count": null,
      "outputs": [
        {
          "output_type": "execute_result",
          "data": {
            "text/plain": [
              "<matplotlib.image.AxesImage at 0x7fe9b0832b90>"
            ]
          },
          "metadata": {
            "tags": []
          },
          "execution_count": 28
        },
        {
          "output_type": "display_data",
          "data": {
            "image/png": "[encoded data removed]",
            "text/plain": [
              "<Figure size 432x288 with 1 Axes>"
            ]
          },
          "metadata": {
            "tags": [],
            "needs_background": "light"
          }
        }
      ]
    },
    {
      "cell_type": "code",
      "metadata": {
        "colab": {
          "base_uri": "https://localhost:8080/"
        },
        "id": "Bmr7Q3pUNUVk",
        "outputId": "a288dcfe-8e49-4d7f-86df-e19be79b4acd"
      },
      "source": [
        "#モデルの考察\n",
        "\n",
        "#重みベクトルの取得\n",
        "coefs = normal_model.coef_\n",
        "\n",
        "coefs.shape"
      ],
      "execution_count": null,
      "outputs": [
        {
          "output_type": "execute_result",
          "data": {
            "text/plain": [
              "(10, 784)"
            ]
          },
          "metadata": {
            "tags": []
          },
          "execution_count": 29
        }
      ]
    },
    {
      "cell_type": "code",
      "metadata": {
        "colab": {
          "base_uri": "https://localhost:8080/",
          "height": 242
        },
        "id": "rTSjvL8gT0mW",
        "outputId": "6bed50b0-f269-4103-f3bb-bf8216388ca4"
      },
      "source": [
        "#重みベクトルの画像出力\n",
        "\n",
        "#2行5列にグラフを分割\n",
        "fig, ax = plt.subplots(2, 5, figsize=(8, 4))\n",
        "\n",
        "for i in range(2):\n",
        "  for j in range(5):\n",
        "    z = i * 5 + j\n",
        "\n",
        "    ax[i, j].imshow(coefs[z].reshape(28, 28), cmap='viridis')\n",
        "\n",
        "    ax[i, j].tick_params(left=False, labelleft=False, bottom=False, labelbottom=False)\n",
        "\n",
        "    ax[i, j].set_title(z)\n",
        "\n",
        "plt.show()"
      ],
      "execution_count": null,
      "outputs": [
        {
          "output_type": "display_data",
          "data": {
            "image/png": "[encoded data removed]",
            "text/plain": [
              "<Figure size 576x288 with 10 Axes>"
            ]
          },
          "metadata": {
            "tags": []
          }
        }
      ]
    },
    {
      "cell_type": "markdown",
      "metadata": {
        "id": "zFpQdJo7Ib4h"
      },
      "source": [
        ""
      ]
    },
    {
      "cell_type": "markdown",
      "metadata": {
        "id": "L74EcDmUUL_t"
      },
      "source": [
        "#4.ディープラーニング(FNN)による学習と評価"
      ]
    },
    {
      "cell_type": "code",
      "metadata": {
        "id": "gWrJnPQkIujW"
      },
      "source": [
        "#全結合層ニューラルネットワーク\n",
        "\n",
        "#Keras(pythonで書かれたニューラルネットワークライブラリ)のインポート\n",
        "#(独立版kerasの際はimport kerasであったがtensorflow組込み版kerasは以下のように記載する)\n",
        "from tensorflow import keras\n",
        "\n",
        "#全結合層モジュール、活性化関数モジュール、ドロップアウトモジュールをインポート\n",
        "from tensorflow.keras.layers import Dense, Activation, Dropout\n",
        "\n",
        "#正則化モジュールをインポート\n",
        "from tensorflow.keras import regularizers"
      ],
      "execution_count": null,
      "outputs": []
    },
    {
      "cell_type": "code",
      "metadata": {
        "id": "rV7FCeLwQbzN"
      },
      "source": [
        "#カテゴリー変数への展開(線形回帰やニューラルネットではone-hot表現の方が適切)\n",
        "\n",
        "#to_categorical関数のインポート\n",
        "from tensorflow.keras.utils import to_categorical\n",
        "\n",
        "#目的変数の各種データのカテゴリー変数への展開\n",
        "y_train_c = to_categorical(y_train)\n",
        "y_valid_c = to_categorical(y_valid)\n",
        "y_test_c = to_categorical(y_test)"
      ],
      "execution_count": null,
      "outputs": []
    },
    {
      "cell_type": "code",
      "metadata": {
        "id": "IP2CDw32UaYf"
      },
      "source": [
        "#ニューラルネットワークのモデル構築\n",
        "\n",
        "#モデルの初期化\n",
        "model = keras.Sequential()\n",
        "\n",
        "#入力層(出力形状数は入力側１ユニットから出ているエッジの数に等しい為、入力層のパラメータ数は784*出力形状数+出力形状数)\n",
        "model.add(Dense(256, activation='relu', input_shape=(784,)))\n",
        "\n",
        "#隠れ層\n",
        "model.add(Dense(32, activation='relu'))\n",
        "\n",
        "#出力層(10個に分類するので出力形状は10)\n",
        "model.add(Dense(10, activation='softmax'))\n",
        "\n",
        "#モデルの構築\n",
        "model.compile(optimizer='rmsprop', loss='categorical_crossentropy', metrics=['accuracy'])"
      ],
      "execution_count": null,
      "outputs": []
    },
    {
      "cell_type": "code",
      "metadata": {
        "colab": {
          "base_uri": "https://localhost:8080/"
        },
        "id": "FhH5u9kRRcLV",
        "outputId": "c334d1ea-b605-4a21-a746-b49bad15d144"
      },
      "source": [
        "#モデルの構造を表示\n",
        "model.summary()"
      ],
      "execution_count": null,
      "outputs": [
        {
          "output_type": "stream",
          "text": [
            "Model: \"sequential\"\n",
            "_________________________________________________________________\n",
            "Layer (type)                 Output Shape              Param #   \n",
            "=================================================================\n",
            "dense (Dense)                (None, 256)               200960    \n",
            "_________________________________________________________________\n",
            "dense_1 (Dense)              (None, 32)                8224      \n",
            "_________________________________________________________________\n",
            "dense_2 (Dense)              (None, 10)                330       \n",
            "=================================================================\n",
            "Total params: 209,514\n",
            "Trainable params: 209,514\n",
            "Non-trainable params: 0\n",
            "_________________________________________________________________\n"
          ],
          "name": "stdout"
        }
      ]
    },
    {
      "cell_type": "code",
      "metadata": {
        "colab": {
          "base_uri": "https://localhost:8080/"
        },
        "id": "pYs9eadqhEMY",
        "outputId": "57d3e32e-728b-42e2-a2a9-a32c09dd511d"
      },
      "source": [
        "#ニューラルネットワークの学習\n",
        "\n",
        "%%time\n",
        "\n",
        "log = model.fit(x_train_r, y_train_c, epochs=3000, batch_size=2000, verbose=True,\n",
        "                                callbacks=[keras.callbacks.EarlyStopping(monitor='val_loss',\n",
        "                                                         min_delta=0, patience=100,\n",
        "                                                         verbose=1)],\n",
        "                validation_data=(x_valid_r, y_valid_c))"
      ],
      "execution_count": null,
      "outputs": [
        {
          "output_type": "stream",
          "text": [
            "Epoch 1/3000\n",
            "21/21 [==============================] - 4s 41ms/step - loss: 79.4952 - accuracy: 0.1500 - val_loss: 2.4318 - val_accuracy: 0.1812\n",
            "Epoch 2/3000\n",
            "21/21 [==============================] - 0s 13ms/step - loss: 2.3229 - accuracy: 0.1918 - val_loss: 2.1778 - val_accuracy: 0.2093\n",
            "Epoch 3/3000\n",
            "21/21 [==============================] - 0s 14ms/step - loss: 2.1142 - accuracy: 0.2270 - val_loss: 2.0400 - val_accuracy: 0.2508\n",
            "Epoch 4/3000\n",
            "21/21 [==============================] - 0s 14ms/step - loss: 1.9572 - accuracy: 0.2797 - val_loss: 1.9722 - val_accuracy: 0.2748\n",
            "Epoch 5/3000\n",
            "21/21 [==============================] - 0s 13ms/step - loss: 1.9924 - accuracy: 0.2653 - val_loss: 2.0885 - val_accuracy: 0.2120\n",
            "Epoch 6/3000\n",
            "21/21 [==============================] - 0s 14ms/step - loss: 1.9456 - accuracy: 0.2974 - val_loss: 1.8168 - val_accuracy: 0.3989\n",
            "Epoch 7/3000\n",
            "21/21 [==============================] - 0s 14ms/step - loss: 1.7358 - accuracy: 0.4003 - val_loss: 1.8950 - val_accuracy: 0.4215\n",
            "Epoch 8/3000\n",
            "21/21 [==============================] - 0s 14ms/step - loss: 1.7241 - accuracy: 0.3966 - val_loss: 1.7230 - val_accuracy: 0.3936\n",
            "Epoch 9/3000\n",
            "21/21 [==============================] - 0s 14ms/step - loss: 1.6317 - accuracy: 0.4137 - val_loss: 1.5740 - val_accuracy: 0.4391\n",
            "Epoch 10/3000\n",
            "21/21 [==============================] - 0s 13ms/step - loss: 1.5780 - accuracy: 0.4427 - val_loss: 1.5117 - val_accuracy: 0.4787\n",
            "Epoch 11/3000\n",
            "21/21 [==============================] - 0s 12ms/step - loss: 1.4543 - accuracy: 0.4820 - val_loss: 1.6412 - val_accuracy: 0.5001\n",
            "Epoch 12/3000\n",
            "21/21 [==============================] - 0s 13ms/step - loss: 1.4475 - accuracy: 0.4856 - val_loss: 1.6148 - val_accuracy: 0.4545\n",
            "Epoch 13/3000\n",
            "21/21 [==============================] - 0s 14ms/step - loss: 1.4307 - accuracy: 0.4846 - val_loss: 1.4340 - val_accuracy: 0.4994\n",
            "Epoch 14/3000\n",
            "21/21 [==============================] - 0s 14ms/step - loss: 1.3399 - accuracy: 0.5126 - val_loss: 1.4778 - val_accuracy: 0.5080\n",
            "Epoch 15/3000\n",
            "21/21 [==============================] - 0s 13ms/step - loss: 1.3226 - accuracy: 0.5159 - val_loss: 1.4269 - val_accuracy: 0.5019\n",
            "Epoch 16/3000\n",
            "21/21 [==============================] - 0s 13ms/step - loss: 1.2826 - accuracy: 0.5243 - val_loss: 1.3655 - val_accuracy: 0.5112\n",
            "Epoch 17/3000\n",
            "21/21 [==============================] - 0s 14ms/step - loss: 1.2658 - accuracy: 0.5309 - val_loss: 1.4248 - val_accuracy: 0.5436\n",
            "Epoch 18/3000\n",
            "21/21 [==============================] - 0s 13ms/step - loss: 1.2802 - accuracy: 0.5459 - val_loss: 1.4410 - val_accuracy: 0.5578\n",
            "Epoch 19/3000\n",
            "21/21 [==============================] - 0s 13ms/step - loss: 1.2026 - accuracy: 0.5677 - val_loss: 1.4027 - val_accuracy: 0.5561\n",
            "Epoch 20/3000\n",
            "21/21 [==============================] - 0s 13ms/step - loss: 1.2129 - accuracy: 0.5594 - val_loss: 1.7882 - val_accuracy: 0.5731\n",
            "Epoch 21/3000\n",
            "21/21 [==============================] - 0s 14ms/step - loss: 1.2803 - accuracy: 0.5587 - val_loss: 1.3458 - val_accuracy: 0.5555\n",
            "Epoch 22/3000\n",
            "21/21 [==============================] - 0s 14ms/step - loss: 1.2027 - accuracy: 0.5687 - val_loss: 1.5554 - val_accuracy: 0.5784\n",
            "Epoch 23/3000\n",
            "21/21 [==============================] - 0s 12ms/step - loss: 1.1755 - accuracy: 0.5732 - val_loss: 1.4912 - val_accuracy: 0.5670\n",
            "Epoch 24/3000\n",
            "21/21 [==============================] - 0s 13ms/step - loss: 1.1335 - accuracy: 0.5847 - val_loss: 1.3314 - val_accuracy: 0.5706\n",
            "Epoch 25/3000\n",
            "21/21 [==============================] - 0s 13ms/step - loss: 1.0956 - accuracy: 0.6089 - val_loss: 1.5084 - val_accuracy: 0.6381\n",
            "Epoch 26/3000\n",
            "21/21 [==============================] - 0s 14ms/step - loss: 1.0727 - accuracy: 0.6272 - val_loss: 1.2202 - val_accuracy: 0.6389\n",
            "Epoch 27/3000\n",
            "21/21 [==============================] - 0s 14ms/step - loss: 1.0534 - accuracy: 0.6371 - val_loss: 1.1942 - val_accuracy: 0.6302\n",
            "Epoch 28/3000\n",
            "21/21 [==============================] - 0s 14ms/step - loss: 0.9919 - accuracy: 0.6488 - val_loss: 1.3373 - val_accuracy: 0.6656\n",
            "Epoch 29/3000\n",
            "21/21 [==============================] - 0s 13ms/step - loss: 1.0130 - accuracy: 0.6559 - val_loss: 1.2988 - val_accuracy: 0.6494\n",
            "Epoch 30/3000\n",
            "21/21 [==============================] - 0s 14ms/step - loss: 0.9538 - accuracy: 0.6683 - val_loss: 1.2588 - val_accuracy: 0.6263\n",
            "Epoch 31/3000\n",
            "21/21 [==============================] - 0s 14ms/step - loss: 0.9806 - accuracy: 0.6643 - val_loss: 1.2542 - val_accuracy: 0.6749\n",
            "Epoch 32/3000\n",
            "21/21 [==============================] - 0s 14ms/step - loss: 0.8993 - accuracy: 0.6910 - val_loss: 1.1304 - val_accuracy: 0.6712\n",
            "Epoch 33/3000\n",
            "21/21 [==============================] - 0s 13ms/step - loss: 0.9107 - accuracy: 0.6925 - val_loss: 1.0689 - val_accuracy: 0.6972\n",
            "Epoch 34/3000\n",
            "21/21 [==============================] - 0s 13ms/step - loss: 0.8404 - accuracy: 0.7190 - val_loss: 1.1397 - val_accuracy: 0.6734\n",
            "Epoch 35/3000\n",
            "21/21 [==============================] - 0s 15ms/step - loss: 0.8607 - accuracy: 0.7106 - val_loss: 1.1075 - val_accuracy: 0.7133\n",
            "Epoch 36/3000\n",
            "21/21 [==============================] - 0s 13ms/step - loss: 0.8191 - accuracy: 0.7287 - val_loss: 1.0747 - val_accuracy: 0.7162\n",
            "Epoch 37/3000\n",
            "21/21 [==============================] - 0s 14ms/step - loss: 0.7945 - accuracy: 0.7389 - val_loss: 1.0563 - val_accuracy: 0.7192\n",
            "Epoch 38/3000\n",
            "21/21 [==============================] - 0s 14ms/step - loss: 0.7959 - accuracy: 0.7345 - val_loss: 1.1751 - val_accuracy: 0.7357\n",
            "Epoch 39/3000\n",
            "21/21 [==============================] - 0s 14ms/step - loss: 0.8124 - accuracy: 0.7395 - val_loss: 1.0268 - val_accuracy: 0.7128\n",
            "Epoch 40/3000\n",
            "21/21 [==============================] - 0s 14ms/step - loss: 0.7867 - accuracy: 0.7348 - val_loss: 1.0991 - val_accuracy: 0.7308\n",
            "Epoch 41/3000\n",
            "21/21 [==============================] - 0s 14ms/step - loss: 0.7382 - accuracy: 0.7550 - val_loss: 1.1663 - val_accuracy: 0.7259\n",
            "Epoch 42/3000\n",
            "21/21 [==============================] - 0s 13ms/step - loss: 0.7369 - accuracy: 0.7566 - val_loss: 1.1290 - val_accuracy: 0.7400\n",
            "Epoch 43/3000\n",
            "21/21 [==============================] - 0s 13ms/step - loss: 0.7311 - accuracy: 0.7564 - val_loss: 1.0116 - val_accuracy: 0.7424\n",
            "Epoch 44/3000\n",
            "21/21 [==============================] - 0s 15ms/step - loss: 0.6977 - accuracy: 0.7621 - val_loss: 1.0268 - val_accuracy: 0.7417\n",
            "Epoch 45/3000\n",
            "21/21 [==============================] - 0s 14ms/step - loss: 0.6573 - accuracy: 0.7699 - val_loss: 1.1117 - val_accuracy: 0.7455\n",
            "Epoch 46/3000\n",
            "21/21 [==============================] - 0s 14ms/step - loss: 0.6570 - accuracy: 0.7679 - val_loss: 1.0538 - val_accuracy: 0.7404\n",
            "Epoch 47/3000\n",
            "21/21 [==============================] - 0s 14ms/step - loss: 0.6415 - accuracy: 0.7741 - val_loss: 1.1135 - val_accuracy: 0.7233\n",
            "Epoch 48/3000\n",
            "21/21 [==============================] - 0s 15ms/step - loss: 0.5995 - accuracy: 0.7810 - val_loss: 1.1508 - val_accuracy: 0.7748\n",
            "Epoch 49/3000\n",
            "21/21 [==============================] - 0s 13ms/step - loss: 0.5774 - accuracy: 0.7939 - val_loss: 0.9224 - val_accuracy: 0.7877\n",
            "Epoch 50/3000\n",
            "21/21 [==============================] - 0s 14ms/step - loss: 0.5377 - accuracy: 0.8050 - val_loss: 0.9715 - val_accuracy: 0.7766\n",
            "Epoch 51/3000\n",
            "21/21 [==============================] - 0s 14ms/step - loss: 0.5188 - accuracy: 0.8045 - val_loss: 0.9120 - val_accuracy: 0.7906\n",
            "Epoch 52/3000\n",
            "21/21 [==============================] - 0s 14ms/step - loss: 0.4795 - accuracy: 0.8182 - val_loss: 0.9993 - val_accuracy: 0.8077\n",
            "Epoch 53/3000\n",
            "21/21 [==============================] - 0s 14ms/step - loss: 0.4735 - accuracy: 0.8234 - val_loss: 0.8450 - val_accuracy: 0.7893\n",
            "Epoch 54/3000\n",
            "21/21 [==============================] - 0s 14ms/step - loss: 0.4414 - accuracy: 0.8303 - val_loss: 0.8899 - val_accuracy: 0.8199\n",
            "Epoch 55/3000\n",
            "21/21 [==============================] - 0s 14ms/step - loss: 0.3969 - accuracy: 0.8543 - val_loss: 0.8563 - val_accuracy: 0.8143\n",
            "Epoch 56/3000\n",
            "21/21 [==============================] - 0s 13ms/step - loss: 0.3913 - accuracy: 0.8646 - val_loss: 0.8286 - val_accuracy: 0.8532\n",
            "Epoch 57/3000\n",
            "21/21 [==============================] - 0s 14ms/step - loss: 0.3314 - accuracy: 0.8863 - val_loss: 0.9849 - val_accuracy: 0.8690\n",
            "Epoch 58/3000\n",
            "21/21 [==============================] - 0s 13ms/step - loss: 0.3350 - accuracy: 0.8877 - val_loss: 0.8081 - val_accuracy: 0.8712\n",
            "Epoch 59/3000\n",
            "21/21 [==============================] - 0s 14ms/step - loss: 0.3074 - accuracy: 0.8975 - val_loss: 1.0189 - val_accuracy: 0.8649\n",
            "Epoch 60/3000\n",
            "21/21 [==============================] - 0s 14ms/step - loss: 0.2929 - accuracy: 0.9016 - val_loss: 0.8989 - val_accuracy: 0.8861\n",
            "Epoch 61/3000\n",
            "21/21 [==============================] - 0s 13ms/step - loss: 0.2793 - accuracy: 0.9071 - val_loss: 0.7218 - val_accuracy: 0.8938\n",
            "Epoch 62/3000\n",
            "21/21 [==============================] - 0s 13ms/step - loss: 0.2539 - accuracy: 0.9129 - val_loss: 0.7606 - val_accuracy: 0.9017\n",
            "Epoch 63/3000\n",
            "21/21 [==============================] - 0s 13ms/step - loss: 0.2499 - accuracy: 0.9162 - val_loss: 0.7367 - val_accuracy: 0.9014\n",
            "Epoch 64/3000\n",
            "21/21 [==============================] - 0s 15ms/step - loss: 0.2193 - accuracy: 0.9246 - val_loss: 0.9110 - val_accuracy: 0.9035\n",
            "Epoch 65/3000\n",
            "21/21 [==============================] - 0s 14ms/step - loss: 0.2359 - accuracy: 0.9198 - val_loss: 0.7676 - val_accuracy: 0.8884\n",
            "Epoch 66/3000\n",
            "21/21 [==============================] - 0s 14ms/step - loss: 0.2240 - accuracy: 0.9275 - val_loss: 0.9109 - val_accuracy: 0.8988\n",
            "Epoch 67/3000\n",
            "21/21 [==============================] - 0s 13ms/step - loss: 0.2031 - accuracy: 0.9295 - val_loss: 1.0088 - val_accuracy: 0.8441\n",
            "Epoch 68/3000\n",
            "21/21 [==============================] - 0s 14ms/step - loss: 0.2350 - accuracy: 0.9203 - val_loss: 0.8695 - val_accuracy: 0.9075\n",
            "Epoch 69/3000\n",
            "21/21 [==============================] - 0s 14ms/step - loss: 0.2047 - accuracy: 0.9341 - val_loss: 0.7740 - val_accuracy: 0.9118\n",
            "Epoch 70/3000\n",
            "21/21 [==============================] - 0s 14ms/step - loss: 0.1749 - accuracy: 0.9390 - val_loss: 0.9045 - val_accuracy: 0.8888\n",
            "Epoch 71/3000\n",
            "21/21 [==============================] - 0s 14ms/step - loss: 0.1763 - accuracy: 0.9388 - val_loss: 0.7636 - val_accuracy: 0.9071\n",
            "Epoch 72/3000\n",
            "21/21 [==============================] - 0s 14ms/step - loss: 0.1757 - accuracy: 0.9441 - val_loss: 0.7996 - val_accuracy: 0.8822\n",
            "Epoch 73/3000\n",
            "21/21 [==============================] - 0s 15ms/step - loss: 0.1877 - accuracy: 0.9334 - val_loss: 0.7753 - val_accuracy: 0.9134\n",
            "Epoch 74/3000\n",
            "21/21 [==============================] - 0s 15ms/step - loss: 0.1584 - accuracy: 0.9467 - val_loss: 0.6236 - val_accuracy: 0.9180\n",
            "Epoch 75/3000\n",
            "21/21 [==============================] - 0s 14ms/step - loss: 0.2121 - accuracy: 0.9395 - val_loss: 0.7679 - val_accuracy: 0.9227\n",
            "Epoch 76/3000\n",
            "21/21 [==============================] - 0s 13ms/step - loss: 0.1476 - accuracy: 0.9495 - val_loss: 0.7983 - val_accuracy: 0.9131\n",
            "Epoch 77/3000\n",
            "21/21 [==============================] - 0s 14ms/step - loss: 0.1873 - accuracy: 0.9403 - val_loss: 0.6414 - val_accuracy: 0.9189\n",
            "Epoch 78/3000\n",
            "21/21 [==============================] - 0s 15ms/step - loss: 0.1440 - accuracy: 0.9520 - val_loss: 0.7024 - val_accuracy: 0.9254\n",
            "Epoch 79/3000\n",
            "21/21 [==============================] - 0s 14ms/step - loss: 0.1432 - accuracy: 0.9541 - val_loss: 0.7789 - val_accuracy: 0.9213\n",
            "Epoch 80/3000\n",
            "21/21 [==============================] - 0s 14ms/step - loss: 0.1414 - accuracy: 0.9543 - val_loss: 0.8562 - val_accuracy: 0.9244\n",
            "Epoch 81/3000\n",
            "21/21 [==============================] - 0s 13ms/step - loss: 0.1372 - accuracy: 0.9538 - val_loss: 0.7298 - val_accuracy: 0.9189\n",
            "Epoch 82/3000\n",
            "21/21 [==============================] - 0s 15ms/step - loss: 0.1444 - accuracy: 0.9539 - val_loss: 0.7214 - val_accuracy: 0.9237\n",
            "Epoch 83/3000\n",
            "21/21 [==============================] - 0s 14ms/step - loss: 0.1415 - accuracy: 0.9532 - val_loss: 0.7629 - val_accuracy: 0.9261\n",
            "Epoch 84/3000\n",
            "21/21 [==============================] - 0s 15ms/step - loss: 0.1247 - accuracy: 0.9587 - val_loss: 0.6738 - val_accuracy: 0.9247\n",
            "Epoch 85/3000\n",
            "21/21 [==============================] - 0s 14ms/step - loss: 0.1224 - accuracy: 0.9587 - val_loss: 0.7610 - val_accuracy: 0.9120\n",
            "Epoch 86/3000\n",
            "21/21 [==============================] - 0s 14ms/step - loss: 0.1267 - accuracy: 0.9586 - val_loss: 0.6829 - val_accuracy: 0.9258\n",
            "Epoch 87/3000\n",
            "21/21 [==============================] - 0s 14ms/step - loss: 0.1284 - accuracy: 0.9563 - val_loss: 0.8572 - val_accuracy: 0.9266\n",
            "Epoch 88/3000\n",
            "21/21 [==============================] - 0s 14ms/step - loss: 0.1264 - accuracy: 0.9624 - val_loss: 0.9083 - val_accuracy: 0.9294\n",
            "Epoch 89/3000\n",
            "21/21 [==============================] - 0s 14ms/step - loss: 0.1147 - accuracy: 0.9620 - val_loss: 1.0561 - val_accuracy: 0.9108\n",
            "Epoch 90/3000\n",
            "21/21 [==============================] - 0s 14ms/step - loss: 0.1476 - accuracy: 0.9540 - val_loss: 0.7624 - val_accuracy: 0.9301\n",
            "Epoch 91/3000\n",
            "21/21 [==============================] - 0s 13ms/step - loss: 0.1247 - accuracy: 0.9587 - val_loss: 0.7037 - val_accuracy: 0.9248\n",
            "Epoch 92/3000\n",
            "21/21 [==============================] - 0s 14ms/step - loss: 0.1066 - accuracy: 0.9635 - val_loss: 0.7221 - val_accuracy: 0.9262\n",
            "Epoch 93/3000\n",
            "21/21 [==============================] - 0s 14ms/step - loss: 0.1248 - accuracy: 0.9602 - val_loss: 0.7705 - val_accuracy: 0.9320\n",
            "Epoch 94/3000\n",
            "21/21 [==============================] - 0s 13ms/step - loss: 0.1028 - accuracy: 0.9661 - val_loss: 0.7986 - val_accuracy: 0.9331\n",
            "Epoch 95/3000\n",
            "21/21 [==============================] - 0s 14ms/step - loss: 0.1203 - accuracy: 0.9623 - val_loss: 0.7265 - val_accuracy: 0.9337\n",
            "Epoch 96/3000\n",
            "21/21 [==============================] - 0s 14ms/step - loss: 0.1010 - accuracy: 0.9668 - val_loss: 0.7918 - val_accuracy: 0.9307\n",
            "Epoch 97/3000\n",
            "21/21 [==============================] - 0s 15ms/step - loss: 0.1033 - accuracy: 0.9671 - val_loss: 0.7052 - val_accuracy: 0.9305\n",
            "Epoch 98/3000\n",
            "21/21 [==============================] - 0s 13ms/step - loss: 0.1062 - accuracy: 0.9664 - val_loss: 0.6999 - val_accuracy: 0.9347\n",
            "Epoch 99/3000\n",
            "21/21 [==============================] - 0s 14ms/step - loss: 0.0895 - accuracy: 0.9689 - val_loss: 0.9022 - val_accuracy: 0.9256\n",
            "Epoch 100/3000\n",
            "21/21 [==============================] - 0s 14ms/step - loss: 0.1743 - accuracy: 0.9541 - val_loss: 0.8454 - val_accuracy: 0.9370\n",
            "Epoch 101/3000\n",
            "21/21 [==============================] - 0s 14ms/step - loss: 0.0867 - accuracy: 0.9726 - val_loss: 0.9219 - val_accuracy: 0.9327\n",
            "Epoch 102/3000\n",
            "21/21 [==============================] - 0s 14ms/step - loss: 0.0940 - accuracy: 0.9691 - val_loss: 1.0833 - val_accuracy: 0.9270\n",
            "Epoch 103/3000\n",
            "21/21 [==============================] - 0s 14ms/step - loss: 0.1011 - accuracy: 0.9681 - val_loss: 0.9088 - val_accuracy: 0.9381\n",
            "Epoch 104/3000\n",
            "21/21 [==============================] - 0s 13ms/step - loss: 0.0919 - accuracy: 0.9695 - val_loss: 0.7466 - val_accuracy: 0.9367\n",
            "Epoch 105/3000\n",
            "21/21 [==============================] - 0s 14ms/step - loss: 0.0769 - accuracy: 0.9731 - val_loss: 0.8131 - val_accuracy: 0.9263\n",
            "Epoch 106/3000\n",
            "21/21 [==============================] - 0s 15ms/step - loss: 0.0861 - accuracy: 0.9708 - val_loss: 0.7923 - val_accuracy: 0.9379\n",
            "Epoch 107/3000\n",
            "21/21 [==============================] - 0s 15ms/step - loss: 0.0747 - accuracy: 0.9742 - val_loss: 0.7604 - val_accuracy: 0.9366\n",
            "Epoch 108/3000\n",
            "21/21 [==============================] - 0s 14ms/step - loss: 0.0941 - accuracy: 0.9724 - val_loss: 0.7255 - val_accuracy: 0.9358\n",
            "Epoch 109/3000\n",
            "21/21 [==============================] - 0s 14ms/step - loss: 0.1085 - accuracy: 0.9704 - val_loss: 0.8168 - val_accuracy: 0.9387\n",
            "Epoch 110/3000\n",
            "21/21 [==============================] - 0s 13ms/step - loss: 0.0847 - accuracy: 0.9723 - val_loss: 1.1102 - val_accuracy: 0.9162\n",
            "Epoch 111/3000\n",
            "21/21 [==============================] - 0s 15ms/step - loss: 0.1348 - accuracy: 0.9654 - val_loss: 0.7038 - val_accuracy: 0.9344\n",
            "Epoch 112/3000\n",
            "21/21 [==============================] - 0s 15ms/step - loss: 0.0686 - accuracy: 0.9762 - val_loss: 0.9541 - val_accuracy: 0.9273\n",
            "Epoch 113/3000\n",
            "21/21 [==============================] - 0s 14ms/step - loss: 0.0925 - accuracy: 0.9721 - val_loss: 0.7686 - val_accuracy: 0.9365\n",
            "Epoch 114/3000\n",
            "21/21 [==============================] - 0s 14ms/step - loss: 0.1035 - accuracy: 0.9713 - val_loss: 1.0446 - val_accuracy: 0.9373\n",
            "Epoch 115/3000\n",
            "21/21 [==============================] - 0s 14ms/step - loss: 0.0867 - accuracy: 0.9752 - val_loss: 0.8186 - val_accuracy: 0.9357\n",
            "Epoch 116/3000\n",
            "21/21 [==============================] - 0s 14ms/step - loss: 0.0686 - accuracy: 0.9777 - val_loss: 0.8756 - val_accuracy: 0.9376\n",
            "Epoch 117/3000\n",
            "21/21 [==============================] - 0s 14ms/step - loss: 0.0640 - accuracy: 0.9785 - val_loss: 0.8806 - val_accuracy: 0.9312\n",
            "Epoch 118/3000\n",
            "21/21 [==============================] - 0s 14ms/step - loss: 0.0843 - accuracy: 0.9739 - val_loss: 0.8823 - val_accuracy: 0.9410\n",
            "Epoch 119/3000\n",
            "21/21 [==============================] - 0s 14ms/step - loss: 0.0651 - accuracy: 0.9786 - val_loss: 0.7998 - val_accuracy: 0.9380\n",
            "Epoch 120/3000\n",
            "21/21 [==============================] - 0s 15ms/step - loss: 0.1004 - accuracy: 0.9739 - val_loss: 0.7747 - val_accuracy: 0.9387\n",
            "Epoch 121/3000\n",
            "21/21 [==============================] - 0s 14ms/step - loss: 0.0663 - accuracy: 0.9790 - val_loss: 0.9477 - val_accuracy: 0.9396\n",
            "Epoch 122/3000\n",
            "21/21 [==============================] - 0s 14ms/step - loss: 0.0913 - accuracy: 0.9752 - val_loss: 0.9338 - val_accuracy: 0.9381\n",
            "Epoch 123/3000\n",
            "21/21 [==============================] - 0s 12ms/step - loss: 0.0780 - accuracy: 0.9760 - val_loss: 0.8669 - val_accuracy: 0.9360\n",
            "Epoch 124/3000\n",
            "21/21 [==============================] - 0s 15ms/step - loss: 0.0592 - accuracy: 0.9797 - val_loss: 0.8983 - val_accuracy: 0.9387\n",
            "Epoch 125/3000\n",
            "21/21 [==============================] - 0s 13ms/step - loss: 0.0819 - accuracy: 0.9754 - val_loss: 0.8687 - val_accuracy: 0.9411\n",
            "Epoch 126/3000\n",
            "21/21 [==============================] - 0s 14ms/step - loss: 0.0551 - accuracy: 0.9817 - val_loss: 0.9369 - val_accuracy: 0.9351\n",
            "Epoch 127/3000\n",
            "21/21 [==============================] - 0s 14ms/step - loss: 0.0964 - accuracy: 0.9751 - val_loss: 0.8110 - val_accuracy: 0.9397\n",
            "Epoch 128/3000\n",
            "21/21 [==============================] - 0s 14ms/step - loss: 0.0547 - accuracy: 0.9814 - val_loss: 0.9130 - val_accuracy: 0.9334\n",
            "Epoch 129/3000\n",
            "21/21 [==============================] - 0s 13ms/step - loss: 0.0669 - accuracy: 0.9775 - val_loss: 1.0687 - val_accuracy: 0.9309\n",
            "Epoch 130/3000\n",
            "21/21 [==============================] - 0s 15ms/step - loss: 0.0770 - accuracy: 0.9766 - val_loss: 0.8470 - val_accuracy: 0.9384\n",
            "Epoch 131/3000\n",
            "21/21 [==============================] - 0s 14ms/step - loss: 0.0658 - accuracy: 0.9788 - val_loss: 0.7545 - val_accuracy: 0.9387\n",
            "Epoch 132/3000\n",
            "21/21 [==============================] - 0s 14ms/step - loss: 0.0567 - accuracy: 0.9803 - val_loss: 1.0020 - val_accuracy: 0.9351\n",
            "Epoch 133/3000\n",
            "21/21 [==============================] - 0s 14ms/step - loss: 0.0837 - accuracy: 0.9776 - val_loss: 0.8709 - val_accuracy: 0.9387\n",
            "Epoch 134/3000\n",
            "21/21 [==============================] - 0s 16ms/step - loss: 0.0632 - accuracy: 0.9808 - val_loss: 0.8391 - val_accuracy: 0.9399\n",
            "Epoch 135/3000\n",
            "21/21 [==============================] - 0s 14ms/step - loss: 0.0558 - accuracy: 0.9808 - val_loss: 0.8894 - val_accuracy: 0.9401\n",
            "Epoch 136/3000\n",
            "21/21 [==============================] - 0s 14ms/step - loss: 0.0563 - accuracy: 0.9822 - val_loss: 0.8240 - val_accuracy: 0.9363\n",
            "Epoch 137/3000\n",
            "21/21 [==============================] - 0s 14ms/step - loss: 0.0526 - accuracy: 0.9820 - val_loss: 0.9787 - val_accuracy: 0.9416\n",
            "Epoch 138/3000\n",
            "21/21 [==============================] - 0s 14ms/step - loss: 0.0599 - accuracy: 0.9816 - val_loss: 0.8228 - val_accuracy: 0.9281\n",
            "Epoch 139/3000\n",
            "21/21 [==============================] - 0s 15ms/step - loss: 0.0543 - accuracy: 0.9815 - val_loss: 1.0443 - val_accuracy: 0.9358\n",
            "Epoch 140/3000\n",
            "21/21 [==============================] - 0s 14ms/step - loss: 0.0671 - accuracy: 0.9807 - val_loss: 0.9776 - val_accuracy: 0.9431\n",
            "Epoch 141/3000\n",
            "21/21 [==============================] - 0s 14ms/step - loss: 0.0659 - accuracy: 0.9829 - val_loss: 0.9539 - val_accuracy: 0.9372\n",
            "Epoch 142/3000\n",
            "21/21 [==============================] - 0s 14ms/step - loss: 0.0495 - accuracy: 0.9838 - val_loss: 0.8698 - val_accuracy: 0.9365\n",
            "Epoch 143/3000\n",
            "21/21 [==============================] - 0s 15ms/step - loss: 0.0788 - accuracy: 0.9788 - val_loss: 0.8946 - val_accuracy: 0.9419\n",
            "Epoch 144/3000\n",
            "21/21 [==============================] - 0s 15ms/step - loss: 0.0573 - accuracy: 0.9826 - val_loss: 0.9175 - val_accuracy: 0.9422\n",
            "Epoch 145/3000\n",
            "21/21 [==============================] - 0s 14ms/step - loss: 0.0518 - accuracy: 0.9831 - val_loss: 0.8667 - val_accuracy: 0.9388\n",
            "Epoch 146/3000\n",
            "21/21 [==============================] - 0s 14ms/step - loss: 0.0515 - accuracy: 0.9825 - val_loss: 0.9285 - val_accuracy: 0.9388\n",
            "Epoch 147/3000\n",
            "21/21 [==============================] - 0s 14ms/step - loss: 0.0613 - accuracy: 0.9820 - val_loss: 0.9412 - val_accuracy: 0.9436\n",
            "Epoch 148/3000\n",
            "21/21 [==============================] - 0s 14ms/step - loss: 0.0542 - accuracy: 0.9845 - val_loss: 0.9963 - val_accuracy: 0.9429\n",
            "Epoch 149/3000\n",
            "21/21 [==============================] - 0s 14ms/step - loss: 0.0504 - accuracy: 0.9844 - val_loss: 0.9622 - val_accuracy: 0.9410\n",
            "Epoch 150/3000\n",
            "21/21 [==============================] - 0s 14ms/step - loss: 0.0517 - accuracy: 0.9836 - val_loss: 0.8942 - val_accuracy: 0.9407\n",
            "Epoch 151/3000\n",
            "21/21 [==============================] - 0s 14ms/step - loss: 0.0543 - accuracy: 0.9840 - val_loss: 1.0315 - val_accuracy: 0.9418\n",
            "Epoch 152/3000\n",
            "21/21 [==============================] - 0s 14ms/step - loss: 0.0687 - accuracy: 0.9809 - val_loss: 0.9471 - val_accuracy: 0.9420\n",
            "Epoch 153/3000\n",
            "21/21 [==============================] - 0s 14ms/step - loss: 0.0542 - accuracy: 0.9845 - val_loss: 0.8634 - val_accuracy: 0.9436\n",
            "Epoch 154/3000\n",
            "21/21 [==============================] - 0s 14ms/step - loss: 0.0524 - accuracy: 0.9846 - val_loss: 0.7904 - val_accuracy: 0.9421\n",
            "Epoch 155/3000\n",
            "21/21 [==============================] - 0s 14ms/step - loss: 0.0443 - accuracy: 0.9860 - val_loss: 0.9805 - val_accuracy: 0.9431\n",
            "Epoch 156/3000\n",
            "21/21 [==============================] - 0s 14ms/step - loss: 0.0472 - accuracy: 0.9851 - val_loss: 0.8881 - val_accuracy: 0.9372\n",
            "Epoch 157/3000\n",
            "21/21 [==============================] - 0s 14ms/step - loss: 0.0586 - accuracy: 0.9827 - val_loss: 0.9044 - val_accuracy: 0.9448\n",
            "Epoch 158/3000\n",
            "21/21 [==============================] - 0s 15ms/step - loss: 0.0525 - accuracy: 0.9837 - val_loss: 0.9626 - val_accuracy: 0.9419\n",
            "Epoch 159/3000\n",
            "21/21 [==============================] - 0s 15ms/step - loss: 0.0473 - accuracy: 0.9850 - val_loss: 0.9839 - val_accuracy: 0.9424\n",
            "Epoch 160/3000\n",
            "21/21 [==============================] - 0s 14ms/step - loss: 0.0678 - accuracy: 0.9836 - val_loss: 0.9352 - val_accuracy: 0.9445\n",
            "Epoch 161/3000\n",
            "21/21 [==============================] - 0s 14ms/step - loss: 0.0406 - accuracy: 0.9871 - val_loss: 0.9896 - val_accuracy: 0.9405\n",
            "Epoch 162/3000\n",
            "21/21 [==============================] - 0s 14ms/step - loss: 0.0453 - accuracy: 0.9855 - val_loss: 1.0533 - val_accuracy: 0.9274\n",
            "Epoch 163/3000\n",
            "21/21 [==============================] - 0s 15ms/step - loss: 0.0607 - accuracy: 0.9834 - val_loss: 1.0107 - val_accuracy: 0.9383\n",
            "Epoch 164/3000\n",
            "21/21 [==============================] - 0s 14ms/step - loss: 0.0526 - accuracy: 0.9851 - val_loss: 0.9155 - val_accuracy: 0.9428\n",
            "Epoch 165/3000\n",
            "21/21 [==============================] - 0s 14ms/step - loss: 0.0405 - accuracy: 0.9870 - val_loss: 1.1919 - val_accuracy: 0.9339\n",
            "Epoch 166/3000\n",
            "21/21 [==============================] - 0s 15ms/step - loss: 0.0477 - accuracy: 0.9855 - val_loss: 1.1799 - val_accuracy: 0.9328\n",
            "Epoch 167/3000\n",
            "21/21 [==============================] - 0s 14ms/step - loss: 0.0669 - accuracy: 0.9826 - val_loss: 1.1475 - val_accuracy: 0.9440\n",
            "Epoch 168/3000\n",
            "21/21 [==============================] - 0s 14ms/step - loss: 0.0487 - accuracy: 0.9853 - val_loss: 1.0575 - val_accuracy: 0.9393\n",
            "Epoch 169/3000\n",
            "21/21 [==============================] - 0s 14ms/step - loss: 0.0478 - accuracy: 0.9856 - val_loss: 0.9196 - val_accuracy: 0.9412\n",
            "Epoch 170/3000\n",
            "21/21 [==============================] - 0s 15ms/step - loss: 0.0455 - accuracy: 0.9858 - val_loss: 1.0226 - val_accuracy: 0.9427\n",
            "Epoch 171/3000\n",
            "21/21 [==============================] - 0s 14ms/step - loss: 0.0462 - accuracy: 0.9862 - val_loss: 0.9144 - val_accuracy: 0.9433\n",
            "Epoch 172/3000\n",
            "21/21 [==============================] - 0s 14ms/step - loss: 0.0413 - accuracy: 0.9869 - val_loss: 1.0394 - val_accuracy: 0.9428\n",
            "Epoch 173/3000\n",
            "21/21 [==============================] - 0s 14ms/step - loss: 0.0437 - accuracy: 0.9867 - val_loss: 1.2522 - val_accuracy: 0.9402\n",
            "Epoch 174/3000\n",
            "21/21 [==============================] - 0s 15ms/step - loss: 0.0573 - accuracy: 0.9848 - val_loss: 0.9148 - val_accuracy: 0.9441\n",
            "Epoch 00174: early stopping\n",
            "CPU times: user 1min, sys: 4.59 s, total: 1min 5s\n",
            "Wall time: 55.4 s\n"
          ],
          "name": "stdout"
        }
      ]
    },
    {
      "cell_type": "code",
      "metadata": {
        "colab": {
          "base_uri": "https://localhost:8080/",
          "height": 279
        },
        "id": "ZyDwL-yTk7Dv",
        "outputId": "56fb96ff-a89d-4786-a93c-05f87cef7cea"
      },
      "source": [
        "#グラフ表示\n",
        "plt.plot(log.history['loss'], label='loss')\n",
        "plt.plot(log.history['val_loss'], label='val_loss')\n",
        "plt.legend(frameon=False) #凡例フレームを表示しない\n",
        "plt.xlabel('epochs')\n",
        "plt.ylabel('clossentropy')\n",
        "plt.show()"
      ],
      "execution_count": null,
      "outputs": [
        {
          "output_type": "display_data",
          "data": {
            "image/png": "[encoded data removed]",
            "text/plain": [
              "<Figure size 432x288 with 1 Axes>"
            ]
          },
          "metadata": {
            "tags": [],
            "needs_background": "light"
          }
        }
      ]
    },
    {
      "cell_type": "code",
      "metadata": {
        "colab": {
          "base_uri": "https://localhost:8080/"
        },
        "id": "whmYop9cpAXt",
        "outputId": "2940b29f-e871-46c7-bc4a-ac42097041e4"
      },
      "source": [
        "#モデルの評価(テストデータによる評価)\n",
        "y_pred = model.predict_classes(x_test_r)\n",
        "\n",
        "print(classification_report(y_test, y_pred))"
      ],
      "execution_count": null,
      "outputs": [
        {
          "output_type": "stream",
          "text": [
            "/usr/local/lib/python3.7/dist-packages/tensorflow/python/keras/engine/sequential.py:450: UserWarning: `model.predict_classes()` is deprecated and will be removed after 2021-01-01. Please use instead:* `np.argmax(model.predict(x), axis=-1)`,   if your model does multi-class classification   (e.g. if it uses a `softmax` last-layer activation).* `(model.predict(x) > 0.5).astype(\"int32\")`,   if your model does binary classification   (e.g. if it uses a `sigmoid` last-layer activation).\n",
            "  warnings.warn('`model.predict_classes()` is deprecated and '\n"
          ],
          "name": "stderr"
        },
        {
          "output_type": "stream",
          "text": [
            "              precision    recall  f1-score   support\n",
            "\n",
            "           0       0.93      0.88      0.90      1000\n",
            "           1       0.89      0.84      0.86      1000\n",
            "           2       0.83      0.82      0.82      1000\n",
            "           3       0.89      0.93      0.91      1000\n",
            "           4       0.66      0.90      0.76      1000\n",
            "           5       0.91      0.85      0.88      1000\n",
            "           6       0.88      0.91      0.90      1000\n",
            "           7       0.92      0.83      0.87      1000\n",
            "           8       0.90      0.83      0.86      1000\n",
            "           9       0.93      0.86      0.89      1000\n",
            "\n",
            "    accuracy                           0.86     10000\n",
            "   macro avg       0.87      0.86      0.87     10000\n",
            "weighted avg       0.87      0.86      0.87     10000\n",
            "\n"
          ],
          "name": "stdout"
        }
      ]
    },
    {
      "cell_type": "markdown",
      "metadata": {
        "id": "dKbD5gT7UUCH"
      },
      "source": [
        "#5.ディープラーニング(CNN)による学習と評価"
      ]
    },
    {
      "cell_type": "code",
      "metadata": {
        "id": "31tIU1dxYOc4"
      },
      "source": [
        "#CNNに必要なライブラリのインポート\n",
        "from tensorflow.keras.layers import Conv2D\n",
        "from tensorflow.keras.layers import Flatten"
      ],
      "execution_count": null,
      "outputs": []
    },
    {
      "cell_type": "code",
      "metadata": {
        "colab": {
          "base_uri": "https://localhost:8080/"
        },
        "id": "1x23H_jTCgay",
        "outputId": "26568f84-6ae1-452a-af8b-fc6a8aaa1194"
      },
      "source": [
        "#入力データをグレースケールを含んだ形状にreshape(色指定が無いとCNNの際にエラーとなる)\n",
        "x_train_g = x_train.reshape(len(x_train), 28, 28, 1)\n",
        "x_valid_g = x_valid.reshape(len(x_valid), 28, 28, 1)\n",
        "x_test_g = x_test.reshape(len(x_test), 28, 28, 1)\n",
        "\n",
        "print('x_train_g:', x_train_g.shape)\n",
        "print('x_valid_g:', x_valid_g.shape)\n",
        "print('x_test_g:', x_test_g.shape)"
      ],
      "execution_count": null,
      "outputs": [
        {
          "output_type": "stream",
          "text": [
            "x_train_g: (42000, 28, 28, 1)\n",
            "x_valid_g: (18000, 28, 28, 1)\n",
            "x_test_g: (10000, 28, 28, 1)\n"
          ],
          "name": "stdout"
        }
      ]
    },
    {
      "cell_type": "code",
      "metadata": {
        "id": "DAjqxNyUG2Yj"
      },
      "source": [
        "#ニューラルネットワークモデルの構築(Conv2Dを入力層に使用)\n",
        "\n",
        "#モデルの初期化\n",
        "model = keras.Sequential()\n",
        "\n",
        "#入力層(パラメータ数はフィルター縦×横×入力チャネル数×出力チャネル数＋出力チャネル数)\n",
        "model.add(Conv2D(392, kernel_size=3, padding='same', strides=1,\n",
        "                 input_shape=(28, 28, 1), activation='relu'))\n",
        "\n",
        "model.add(Flatten())#最終的な出力層の形状と同じ1次元に変換\n",
        "\n",
        "#隠れ層\n",
        "model.add(Dense(32, activation='relu'))\n",
        "\n",
        "#出力層\n",
        "model.add(Dense(10, activation='softmax'))\n",
        "\n",
        "#モデルの構築\n",
        "model.compile(optimizer='rmsprop', loss='categorical_crossentropy', metrics=['accuracy'])"
      ],
      "execution_count": null,
      "outputs": []
    },
    {
      "cell_type": "code",
      "metadata": {
        "colab": {
          "base_uri": "https://localhost:8080/"
        },
        "id": "B7GhXF-oKt1n",
        "outputId": "3880d0aa-9efe-477e-a501-1bc72fa16951"
      },
      "source": [
        "#モデルの構造を表示\n",
        "model.summary()"
      ],
      "execution_count": null,
      "outputs": [
        {
          "output_type": "stream",
          "text": [
            "Model: \"sequential_3\"\n",
            "_________________________________________________________________\n",
            "Layer (type)                 Output Shape              Param #   \n",
            "=================================================================\n",
            "conv2d_2 (Conv2D)            (None, 28, 28, 392)       3920      \n",
            "_________________________________________________________________\n",
            "flatten_2 (Flatten)          (None, 307328)            0         \n",
            "_________________________________________________________________\n",
            "dense_7 (Dense)              (None, 32)                9834528   \n",
            "_________________________________________________________________\n",
            "dense_8 (Dense)              (None, 10)                330       \n",
            "=================================================================\n",
            "Total params: 9,838,778\n",
            "Trainable params: 9,838,778\n",
            "Non-trainable params: 0\n",
            "_________________________________________________________________\n"
          ],
          "name": "stdout"
        }
      ]
    },
    {
      "cell_type": "code",
      "metadata": {
        "colab": {
          "base_uri": "https://localhost:8080/"
        },
        "id": "1eXr04yMLKc5",
        "outputId": "529869dd-2b19-437b-f34a-92a464b83510"
      },
      "source": [
        "#ニューラルネットワークの学習\n",
        "\n",
        "%%time\n",
        "\n",
        "log = model.fit(x_train_g, y_train_c, epochs=3000, batch_size=1000, verbose=True,\n",
        "                                callbacks=[keras.callbacks.EarlyStopping(monitor='val_loss',\n",
        "                                                         min_delta=0, patience=100,\n",
        "                                                         verbose=1)],\n",
        "                validation_data=(x_valid_g, y_valid_c))"
      ],
      "execution_count": null,
      "outputs": [
        {
          "output_type": "stream",
          "text": [
            "Epoch 1/3000\n",
            "42/42 [==============================] - 17s 402ms/step - loss: 121.0213 - accuracy: 0.2990 - val_loss: 1.6384 - val_accuracy: 0.4368\n",
            "Epoch 2/3000\n",
            "42/42 [==============================] - 17s 400ms/step - loss: 1.6379 - accuracy: 0.4524 - val_loss: 1.7288 - val_accuracy: 0.3918\n",
            "Epoch 3/3000\n",
            "42/42 [==============================] - 17s 403ms/step - loss: 1.5342 - accuracy: 0.4671 - val_loss: 1.1096 - val_accuracy: 0.6447\n",
            "Epoch 4/3000\n",
            "42/42 [==============================] - 17s 404ms/step - loss: 1.0366 - accuracy: 0.6640 - val_loss: 0.8402 - val_accuracy: 0.6951\n",
            "Epoch 5/3000\n",
            "42/42 [==============================] - 17s 399ms/step - loss: 0.7452 - accuracy: 0.7282 - val_loss: 0.5932 - val_accuracy: 0.7953\n",
            "Epoch 6/3000\n",
            "42/42 [==============================] - 17s 402ms/step - loss: 0.4838 - accuracy: 0.8248 - val_loss: 0.4901 - val_accuracy: 0.8683\n",
            "Epoch 7/3000\n",
            "42/42 [==============================] - 17s 405ms/step - loss: 0.2615 - accuracy: 0.9156 - val_loss: 0.3264 - val_accuracy: 0.9173\n",
            "Epoch 8/3000\n",
            "42/42 [==============================] - 17s 404ms/step - loss: 0.1230 - accuracy: 0.9611 - val_loss: 0.3233 - val_accuracy: 0.9253\n",
            "Epoch 9/3000\n",
            "42/42 [==============================] - 17s 399ms/step - loss: 0.0796 - accuracy: 0.9743 - val_loss: 0.3306 - val_accuracy: 0.9239\n",
            "Epoch 10/3000\n",
            "42/42 [==============================] - 17s 401ms/step - loss: 0.0595 - accuracy: 0.9814 - val_loss: 0.3615 - val_accuracy: 0.9291\n",
            "Epoch 11/3000\n",
            "42/42 [==============================] - 17s 404ms/step - loss: 0.0403 - accuracy: 0.9881 - val_loss: 0.3662 - val_accuracy: 0.9298\n",
            "Epoch 12/3000\n",
            "42/42 [==============================] - 17s 404ms/step - loss: 0.0312 - accuracy: 0.9908 - val_loss: 0.3584 - val_accuracy: 0.9366\n",
            "Epoch 13/3000\n",
            "42/42 [==============================] - 17s 398ms/step - loss: 0.0280 - accuracy: 0.9922 - val_loss: 0.4100 - val_accuracy: 0.9346\n",
            "Epoch 14/3000\n",
            "42/42 [==============================] - 17s 402ms/step - loss: 0.0226 - accuracy: 0.9928 - val_loss: 0.3943 - val_accuracy: 0.9367\n",
            "Epoch 15/3000\n",
            "42/42 [==============================] - 17s 404ms/step - loss: 0.0216 - accuracy: 0.9949 - val_loss: 0.4428 - val_accuracy: 0.9364\n",
            "Epoch 16/3000\n",
            "42/42 [==============================] - 17s 402ms/step - loss: 0.0170 - accuracy: 0.9950 - val_loss: 0.4276 - val_accuracy: 0.9385\n",
            "Epoch 17/3000\n",
            "42/42 [==============================] - 17s 398ms/step - loss: 0.0140 - accuracy: 0.9964 - val_loss: 0.4422 - val_accuracy: 0.9376\n",
            "Epoch 18/3000\n",
            "42/42 [==============================] - 17s 401ms/step - loss: 0.0120 - accuracy: 0.9967 - val_loss: 0.4719 - val_accuracy: 0.9377\n",
            "Epoch 19/3000\n",
            "42/42 [==============================] - 17s 404ms/step - loss: 0.0138 - accuracy: 0.9962 - val_loss: 0.4686 - val_accuracy: 0.9407\n",
            "Epoch 20/3000\n",
            "42/42 [==============================] - 17s 402ms/step - loss: 0.0094 - accuracy: 0.9972 - val_loss: 0.5346 - val_accuracy: 0.9319\n",
            "Epoch 21/3000\n",
            "42/42 [==============================] - 17s 397ms/step - loss: 0.0089 - accuracy: 0.9972 - val_loss: 0.4996 - val_accuracy: 0.9367\n",
            "Epoch 22/3000\n",
            "42/42 [==============================] - 17s 401ms/step - loss: 0.0121 - accuracy: 0.9969 - val_loss: 0.5019 - val_accuracy: 0.9358\n",
            "Epoch 23/3000\n",
            "42/42 [==============================] - 17s 403ms/step - loss: 0.0068 - accuracy: 0.9980 - val_loss: 0.5801 - val_accuracy: 0.9380\n",
            "Epoch 24/3000\n",
            "42/42 [==============================] - 17s 405ms/step - loss: 0.0076 - accuracy: 0.9978 - val_loss: 0.5593 - val_accuracy: 0.9364\n",
            "Epoch 25/3000\n",
            "42/42 [==============================] - 17s 398ms/step - loss: 0.0062 - accuracy: 0.9980 - val_loss: 0.5778 - val_accuracy: 0.9369\n",
            "Epoch 26/3000\n",
            "42/42 [==============================] - 17s 400ms/step - loss: 0.0083 - accuracy: 0.9976 - val_loss: 0.5491 - val_accuracy: 0.9345\n",
            "Epoch 27/3000\n",
            "42/42 [==============================] - 17s 404ms/step - loss: 0.0066 - accuracy: 0.9979 - val_loss: 0.6197 - val_accuracy: 0.9383\n",
            "Epoch 28/3000\n",
            "42/42 [==============================] - 17s 403ms/step - loss: 0.0053 - accuracy: 0.9981 - val_loss: 0.6138 - val_accuracy: 0.9391\n",
            "Epoch 29/3000\n",
            "42/42 [==============================] - 17s 398ms/step - loss: 0.0077 - accuracy: 0.9980 - val_loss: 0.5751 - val_accuracy: 0.9401\n",
            "Epoch 30/3000\n",
            "42/42 [==============================] - 17s 401ms/step - loss: 0.0042 - accuracy: 0.9983 - val_loss: 0.5453 - val_accuracy: 0.9404\n",
            "Epoch 31/3000\n",
            "42/42 [==============================] - 17s 404ms/step - loss: 0.0038 - accuracy: 0.9988 - val_loss: 0.6049 - val_accuracy: 0.9393\n",
            "Epoch 32/3000\n",
            "42/42 [==============================] - 17s 403ms/step - loss: 0.0043 - accuracy: 0.9985 - val_loss: 0.7424 - val_accuracy: 0.9350\n",
            "Epoch 33/3000\n",
            "42/42 [==============================] - 17s 398ms/step - loss: 0.0045 - accuracy: 0.9982 - val_loss: 0.7096 - val_accuracy: 0.9344\n",
            "Epoch 34/3000\n",
            "42/42 [==============================] - 17s 400ms/step - loss: 0.0046 - accuracy: 0.9985 - val_loss: 0.6425 - val_accuracy: 0.9348\n",
            "Epoch 35/3000\n",
            "42/42 [==============================] - 17s 403ms/step - loss: 0.0042 - accuracy: 0.9986 - val_loss: 0.6381 - val_accuracy: 0.9389\n",
            "Epoch 36/3000\n",
            "42/42 [==============================] - 17s 403ms/step - loss: 0.0036 - accuracy: 0.9986 - val_loss: 0.7053 - val_accuracy: 0.9331\n",
            "Epoch 37/3000\n",
            "42/42 [==============================] - 17s 399ms/step - loss: 0.0049 - accuracy: 0.9987 - val_loss: 0.7522 - val_accuracy: 0.9385\n",
            "Epoch 38/3000\n",
            "42/42 [==============================] - 17s 400ms/step - loss: 0.0043 - accuracy: 0.9985 - val_loss: 0.6991 - val_accuracy: 0.9400\n",
            "Epoch 39/3000\n",
            "42/42 [==============================] - 17s 403ms/step - loss: 0.0028 - accuracy: 0.9990 - val_loss: 0.7591 - val_accuracy: 0.9408\n",
            "Epoch 40/3000\n",
            "42/42 [==============================] - 17s 403ms/step - loss: 0.0033 - accuracy: 0.9989 - val_loss: 0.7177 - val_accuracy: 0.9384\n",
            "Epoch 41/3000\n",
            "42/42 [==============================] - 17s 398ms/step - loss: 0.0023 - accuracy: 0.9991 - val_loss: 0.7041 - val_accuracy: 0.9406\n",
            "Epoch 42/3000\n",
            "42/42 [==============================] - 17s 402ms/step - loss: 0.0089 - accuracy: 0.9981 - val_loss: 0.7649 - val_accuracy: 0.9419\n",
            "Epoch 43/3000\n",
            "42/42 [==============================] - 17s 405ms/step - loss: 0.0029 - accuracy: 0.9989 - val_loss: 0.8552 - val_accuracy: 0.9386\n",
            "Epoch 44/3000\n",
            "42/42 [==============================] - 17s 404ms/step - loss: 0.0031 - accuracy: 0.9990 - val_loss: 0.8801 - val_accuracy: 0.9383\n",
            "Epoch 45/3000\n",
            "42/42 [==============================] - 17s 398ms/step - loss: 0.0042 - accuracy: 0.9986 - val_loss: 0.7773 - val_accuracy: 0.9399\n",
            "Epoch 46/3000\n",
            "42/42 [==============================] - 17s 401ms/step - loss: 0.0023 - accuracy: 0.9992 - val_loss: 0.9032 - val_accuracy: 0.9382\n",
            "Epoch 47/3000\n",
            "42/42 [==============================] - 17s 404ms/step - loss: 0.0048 - accuracy: 0.9985 - val_loss: 0.8225 - val_accuracy: 0.9422\n",
            "Epoch 48/3000\n",
            "42/42 [==============================] - 17s 403ms/step - loss: 0.0032 - accuracy: 0.9988 - val_loss: 0.8105 - val_accuracy: 0.9407\n",
            "Epoch 49/3000\n",
            "42/42 [==============================] - 17s 399ms/step - loss: 0.0033 - accuracy: 0.9990 - val_loss: 0.7901 - val_accuracy: 0.9400\n",
            "Epoch 50/3000\n",
            "42/42 [==============================] - 17s 401ms/step - loss: 0.0060 - accuracy: 0.9987 - val_loss: 0.8813 - val_accuracy: 0.9392\n",
            "Epoch 51/3000\n",
            "42/42 [==============================] - 17s 404ms/step - loss: 0.0023 - accuracy: 0.9992 - val_loss: 0.8627 - val_accuracy: 0.9374\n",
            "Epoch 52/3000\n",
            "42/42 [==============================] - 17s 404ms/step - loss: 0.0024 - accuracy: 0.9991 - val_loss: 0.9619 - val_accuracy: 0.9394\n",
            "Epoch 53/3000\n",
            "42/42 [==============================] - 17s 398ms/step - loss: 0.0027 - accuracy: 0.9990 - val_loss: 0.9220 - val_accuracy: 0.9393\n",
            "Epoch 54/3000\n",
            "42/42 [==============================] - 17s 401ms/step - loss: 0.0034 - accuracy: 0.9988 - val_loss: 0.8947 - val_accuracy: 0.9396\n",
            "Epoch 55/3000\n",
            "42/42 [==============================] - 17s 404ms/step - loss: 0.0016 - accuracy: 0.9994 - val_loss: 0.9610 - val_accuracy: 0.9404\n",
            "Epoch 56/3000\n",
            "42/42 [==============================] - 17s 403ms/step - loss: 0.0021 - accuracy: 0.9992 - val_loss: 1.0455 - val_accuracy: 0.9394\n",
            "Epoch 57/3000\n",
            "42/42 [==============================] - 17s 398ms/step - loss: 0.0031 - accuracy: 0.9992 - val_loss: 0.9092 - val_accuracy: 0.9409\n",
            "Epoch 58/3000\n",
            "42/42 [==============================] - 17s 401ms/step - loss: 0.0032 - accuracy: 0.9989 - val_loss: 0.9118 - val_accuracy: 0.9421\n",
            "Epoch 59/3000\n",
            "42/42 [==============================] - 17s 404ms/step - loss: 0.0024 - accuracy: 0.9991 - val_loss: 0.9412 - val_accuracy: 0.9386\n",
            "Epoch 60/3000\n",
            "42/42 [==============================] - 17s 404ms/step - loss: 0.0025 - accuracy: 0.9992 - val_loss: 1.0183 - val_accuracy: 0.9355\n",
            "Epoch 61/3000\n",
            "42/42 [==============================] - 17s 398ms/step - loss: 0.0043 - accuracy: 0.9990 - val_loss: 0.9768 - val_accuracy: 0.9418\n",
            "Epoch 62/3000\n",
            "42/42 [==============================] - 17s 401ms/step - loss: 0.0023 - accuracy: 0.9991 - val_loss: 0.9920 - val_accuracy: 0.9392\n",
            "Epoch 63/3000\n",
            "42/42 [==============================] - 17s 403ms/step - loss: 0.0017 - accuracy: 0.9994 - val_loss: 0.9072 - val_accuracy: 0.9396\n",
            "Epoch 64/3000\n",
            "42/42 [==============================] - 17s 404ms/step - loss: 0.0027 - accuracy: 0.9993 - val_loss: 0.9030 - val_accuracy: 0.9416\n",
            "Epoch 65/3000\n",
            "42/42 [==============================] - 17s 397ms/step - loss: 0.0016 - accuracy: 0.9995 - val_loss: 0.8732 - val_accuracy: 0.9408\n",
            "Epoch 66/3000\n",
            "42/42 [==============================] - 17s 401ms/step - loss: 0.0042 - accuracy: 0.9988 - val_loss: 0.9672 - val_accuracy: 0.9424\n",
            "Epoch 67/3000\n",
            "42/42 [==============================] - 17s 405ms/step - loss: 0.0017 - accuracy: 0.9995 - val_loss: 1.1426 - val_accuracy: 0.9371\n",
            "Epoch 68/3000\n",
            "42/42 [==============================] - 17s 403ms/step - loss: 0.0017 - accuracy: 0.9995 - val_loss: 0.9279 - val_accuracy: 0.9441\n",
            "Epoch 69/3000\n",
            "42/42 [==============================] - 17s 398ms/step - loss: 0.0019 - accuracy: 0.9993 - val_loss: 0.9833 - val_accuracy: 0.9439\n",
            "Epoch 70/3000\n",
            "42/42 [==============================] - 17s 400ms/step - loss: 0.0021 - accuracy: 0.9994 - val_loss: 1.0989 - val_accuracy: 0.9421\n",
            "Epoch 71/3000\n",
            "42/42 [==============================] - 17s 404ms/step - loss: 0.0018 - accuracy: 0.9993 - val_loss: 1.0965 - val_accuracy: 0.9418\n",
            "Epoch 72/3000\n",
            "42/42 [==============================] - 17s 402ms/step - loss: 0.0034 - accuracy: 0.9993 - val_loss: 0.9771 - val_accuracy: 0.9428\n",
            "Epoch 73/3000\n",
            "42/42 [==============================] - 17s 398ms/step - loss: 0.0019 - accuracy: 0.9994 - val_loss: 1.0104 - val_accuracy: 0.9413\n",
            "Epoch 74/3000\n",
            "42/42 [==============================] - 17s 401ms/step - loss: 0.0021 - accuracy: 0.9994 - val_loss: 0.9552 - val_accuracy: 0.9424\n",
            "Epoch 75/3000\n",
            "42/42 [==============================] - 17s 402ms/step - loss: 0.0017 - accuracy: 0.9995 - val_loss: 1.1071 - val_accuracy: 0.9408\n",
            "Epoch 76/3000\n",
            "42/42 [==============================] - 17s 403ms/step - loss: 0.0024 - accuracy: 0.9992 - val_loss: 1.0290 - val_accuracy: 0.9403\n",
            "Epoch 77/3000\n",
            "42/42 [==============================] - 17s 399ms/step - loss: 0.0019 - accuracy: 0.9993 - val_loss: 1.0968 - val_accuracy: 0.9402\n",
            "Epoch 78/3000\n",
            "42/42 [==============================] - 17s 401ms/step - loss: 0.0021 - accuracy: 0.9995 - val_loss: 1.0786 - val_accuracy: 0.9389\n",
            "Epoch 79/3000\n",
            "42/42 [==============================] - 17s 404ms/step - loss: 0.0033 - accuracy: 0.9992 - val_loss: 1.0234 - val_accuracy: 0.9395\n",
            "Epoch 80/3000\n",
            "42/42 [==============================] - 17s 404ms/step - loss: 0.0021 - accuracy: 0.9993 - val_loss: 1.0626 - val_accuracy: 0.9417\n",
            "Epoch 81/3000\n",
            "42/42 [==============================] - 17s 399ms/step - loss: 0.0022 - accuracy: 0.9994 - val_loss: 1.0322 - val_accuracy: 0.9392\n",
            "Epoch 82/3000\n",
            "42/42 [==============================] - 17s 401ms/step - loss: 0.0022 - accuracy: 0.9993 - val_loss: 1.0430 - val_accuracy: 0.9373\n",
            "Epoch 83/3000\n",
            "42/42 [==============================] - 17s 405ms/step - loss: 0.0027 - accuracy: 0.9992 - val_loss: 1.2108 - val_accuracy: 0.9387\n",
            "Epoch 84/3000\n",
            "42/42 [==============================] - 17s 404ms/step - loss: 0.0018 - accuracy: 0.9994 - val_loss: 1.1317 - val_accuracy: 0.9414\n",
            "Epoch 85/3000\n",
            "42/42 [==============================] - 17s 398ms/step - loss: 0.0017 - accuracy: 0.9994 - val_loss: 1.2591 - val_accuracy: 0.9376\n",
            "Epoch 86/3000\n",
            "42/42 [==============================] - 17s 401ms/step - loss: 0.0030 - accuracy: 0.9991 - val_loss: 1.2415 - val_accuracy: 0.9372\n",
            "Epoch 87/3000\n",
            "42/42 [==============================] - 17s 403ms/step - loss: 0.0017 - accuracy: 0.9996 - val_loss: 1.1120 - val_accuracy: 0.9409\n",
            "Epoch 88/3000\n",
            "42/42 [==============================] - 17s 404ms/step - loss: 0.0020 - accuracy: 0.9993 - val_loss: 1.3566 - val_accuracy: 0.9384\n",
            "Epoch 89/3000\n",
            "42/42 [==============================] - 17s 398ms/step - loss: 0.0022 - accuracy: 0.9993 - val_loss: 1.2450 - val_accuracy: 0.9357\n",
            "Epoch 90/3000\n",
            "42/42 [==============================] - 17s 402ms/step - loss: 0.0028 - accuracy: 0.9991 - val_loss: 1.1213 - val_accuracy: 0.9395\n",
            "Epoch 91/3000\n",
            "42/42 [==============================] - 17s 404ms/step - loss: 0.0019 - accuracy: 0.9994 - val_loss: 1.2479 - val_accuracy: 0.9382\n",
            "Epoch 92/3000\n",
            "42/42 [==============================] - 17s 404ms/step - loss: 0.0024 - accuracy: 0.9992 - val_loss: 1.1533 - val_accuracy: 0.9403\n",
            "Epoch 93/3000\n",
            "42/42 [==============================] - 17s 398ms/step - loss: 0.0013 - accuracy: 0.9996 - val_loss: 1.1899 - val_accuracy: 0.9413\n",
            "Epoch 94/3000\n",
            "42/42 [==============================] - 17s 403ms/step - loss: 0.0017 - accuracy: 0.9994 - val_loss: 1.2260 - val_accuracy: 0.9414\n",
            "Epoch 95/3000\n",
            "42/42 [==============================] - 17s 404ms/step - loss: 0.0019 - accuracy: 0.9994 - val_loss: 1.3337 - val_accuracy: 0.9381\n",
            "Epoch 96/3000\n",
            "42/42 [==============================] - 17s 404ms/step - loss: 0.0030 - accuracy: 0.9992 - val_loss: 1.2535 - val_accuracy: 0.9396\n",
            "Epoch 97/3000\n",
            "42/42 [==============================] - 17s 398ms/step - loss: 0.0014 - accuracy: 0.9996 - val_loss: 1.4160 - val_accuracy: 0.9416\n",
            "Epoch 98/3000\n",
            "42/42 [==============================] - 17s 402ms/step - loss: 0.0018 - accuracy: 0.9994 - val_loss: 1.2525 - val_accuracy: 0.9353\n",
            "Epoch 99/3000\n",
            "42/42 [==============================] - 17s 404ms/step - loss: 0.0037 - accuracy: 0.9990 - val_loss: 1.4294 - val_accuracy: 0.9388\n",
            "Epoch 100/3000\n",
            "42/42 [==============================] - 17s 404ms/step - loss: 0.0021 - accuracy: 0.9994 - val_loss: 1.2815 - val_accuracy: 0.9408\n",
            "Epoch 101/3000\n",
            "42/42 [==============================] - 17s 398ms/step - loss: 0.0018 - accuracy: 0.9994 - val_loss: 1.2813 - val_accuracy: 0.9389\n",
            "Epoch 102/3000\n",
            "42/42 [==============================] - 17s 401ms/step - loss: 0.0023 - accuracy: 0.9992 - val_loss: 1.2974 - val_accuracy: 0.9413\n",
            "Epoch 103/3000\n",
            "42/42 [==============================] - 17s 404ms/step - loss: 0.0012 - accuracy: 0.9996 - val_loss: 1.3199 - val_accuracy: 0.9396\n",
            "Epoch 104/3000\n",
            "42/42 [==============================] - 17s 404ms/step - loss: 0.0017 - accuracy: 0.9995 - val_loss: 1.3407 - val_accuracy: 0.9401\n",
            "Epoch 105/3000\n",
            "42/42 [==============================] - 17s 398ms/step - loss: 9.8000e-04 - accuracy: 0.9997 - val_loss: 1.2465 - val_accuracy: 0.9409\n",
            "Epoch 106/3000\n",
            "42/42 [==============================] - 17s 401ms/step - loss: 0.0013 - accuracy: 0.9996 - val_loss: 1.3451 - val_accuracy: 0.9426\n",
            "Epoch 107/3000\n",
            "42/42 [==============================] - 17s 404ms/step - loss: 0.0017 - accuracy: 0.9995 - val_loss: 1.4994 - val_accuracy: 0.9401\n",
            "Epoch 108/3000\n",
            "42/42 [==============================] - 17s 403ms/step - loss: 0.0018 - accuracy: 0.9994 - val_loss: 1.4884 - val_accuracy: 0.9403\n",
            "Epoch 00108: early stopping\n",
            "CPU times: user 29min 47s, sys: 11.5 s, total: 29min 59s\n",
            "Wall time: 30min 15s\n"
          ],
          "name": "stdout"
        }
      ]
    },
    {
      "cell_type": "code",
      "metadata": {
        "colab": {
          "base_uri": "https://localhost:8080/",
          "height": 279
        },
        "id": "1F6PlxYDPQtE",
        "outputId": "90b0b341-557f-486f-c7a3-16cca4a43bb6"
      },
      "source": [
        "#グラフ表示\n",
        "plt.plot(log.history['loss'], label='loss')\n",
        "plt.plot(log.history['val_loss'], label='val_loss')\n",
        "plt.legend(frameon=False) #凡例フレームを表示しない\n",
        "plt.xlabel('epochs')\n",
        "plt.ylabel('clossentropy')\n",
        "plt.show()"
      ],
      "execution_count": null,
      "outputs": [
        {
          "output_type": "display_data",
          "data": {
            "image/png": "[encoded data removed]",
            "text/plain": [
              "<Figure size 432x288 with 1 Axes>"
            ]
          },
          "metadata": {
            "tags": [],
            "needs_background": "light"
          }
        }
      ]
    },
    {
      "cell_type": "code",
      "metadata": {
        "colab": {
          "base_uri": "https://localhost:8080/"
        },
        "id": "L_AUJmRiPh1W",
        "outputId": "c46c59a9-ea1c-4674-8350-cbd4c191d289"
      },
      "source": [
        "#モデルの評価(テストデータによる評価)\n",
        "y_pred = model.predict_classes(x_test_g)\n",
        "\n",
        "print(classification_report(y_test, y_pred))"
      ],
      "execution_count": null,
      "outputs": [
        {
          "output_type": "stream",
          "text": [
            "/usr/local/lib/python3.7/dist-packages/tensorflow/python/keras/engine/sequential.py:450: UserWarning: `model.predict_classes()` is deprecated and will be removed after 2021-01-01. Please use instead:* `np.argmax(model.predict(x), axis=-1)`,   if your model does multi-class classification   (e.g. if it uses a `softmax` last-layer activation).* `(model.predict(x) > 0.5).astype(\"int32\")`,   if your model does binary classification   (e.g. if it uses a `sigmoid` last-layer activation).\n",
            "  warnings.warn('`model.predict_classes()` is deprecated and '\n"
          ],
          "name": "stderr"
        },
        {
          "output_type": "stream",
          "text": [
            "              precision    recall  f1-score   support\n",
            "\n",
            "           0       0.91      0.89      0.90      1000\n",
            "           1       0.84      0.86      0.85      1000\n",
            "           2       0.83      0.85      0.84      1000\n",
            "           3       0.91      0.93      0.92      1000\n",
            "           4       0.84      0.84      0.84      1000\n",
            "           5       0.91      0.85      0.88      1000\n",
            "           6       0.84      0.88      0.86      1000\n",
            "           7       0.88      0.81      0.85      1000\n",
            "           8       0.87      0.90      0.89      1000\n",
            "           9       0.88      0.90      0.89      1000\n",
            "\n",
            "    accuracy                           0.87     10000\n",
            "   macro avg       0.87      0.87      0.87     10000\n",
            "weighted avg       0.87      0.87      0.87     10000\n",
            "\n"
          ],
          "name": "stdout"
        }
      ]
    },
    {
      "cell_type": "markdown",
      "metadata": {
        "id": "McHG575-Ua5N"
      },
      "source": [
        "#5補足:CNNモデルの考察"
      ]
    },
    {
      "cell_type": "code",
      "metadata": {
        "colab": {
          "base_uri": "https://localhost:8080/"
        },
        "id": "WJOwQnq6nfIy",
        "outputId": "13a8ceb8-e274-4f16-8ee1-d59207ed3b5f"
      },
      "source": [
        "#フィルタの確認\n",
        "\n",
        "#(1)フィルタの取得\n",
        "\n",
        "#全パラメータの取得\n",
        "w = model.get_weights()\n",
        "\n",
        "#0層目(Conv2D)の全パラメータ(フィルタ)の形状確認\n",
        "w[0].shape"
      ],
      "execution_count": null,
      "outputs": [
        {
          "output_type": "execute_result",
          "data": {
            "text/plain": [
              "(3, 3, 1, 392)"
            ]
          },
          "metadata": {
            "tags": []
          },
          "execution_count": 52
        }
      ]
    },
    {
      "cell_type": "code",
      "metadata": {
        "id": "KEKWq_Rw0yXQ",
        "colab": {
          "base_uri": "https://localhost:8080/",
          "height": 320
        },
        "outputId": "663a9b4c-973a-430e-cb7c-d8770f9d6f40"
      },
      "source": [
        "#(2)フィルタの可視化\n",
        "\n",
        "#4行4列にグラフを分割(上から16個のフィルタを抜粋)\n",
        "#subplot()はAxesオブジェクト(グラフ描画等)、subplots()はFigure(領域確保)とAxesオブジェクトを返す。\n",
        "fig, ax = plt.subplots(4, 4, figsize=(5, 5))\n",
        "\n",
        "for i in range(4):\n",
        "  for j in range(4):\n",
        "    z = i*4+j\n",
        "    #グレースケールの場合、形状は(M,N)でcmap='Grey'で描画する\n",
        "    ax[i, j].imshow(w[0][:,:,:,z].reshape(3, 3),cmap='Greys')\n",
        "    #tick_paramsは目盛りの設定を行う\n",
        "    ax[i, j].tick_params(left=False, labelleft=False, bottom=False, labelbottom=False)\n",
        "\n",
        "plt.show()\n",
        "print('ax形状:', ax.shape)"
      ],
      "execution_count": null,
      "outputs": [
        {
          "output_type": "display_data",
          "data": {
            "image/png": "[encoded data removed]",
            "text/plain": [
              "<Figure size 360x360 with 16 Axes>"
            ]
          },
          "metadata": {
            "tags": []
          }
        },
        {
          "output_type": "stream",
          "text": [
            "ax形状: (4, 4)\n"
          ],
          "name": "stdout"
        }
      ]
    },
    {
      "cell_type": "code",
      "metadata": {
        "colab": {
          "base_uri": "https://localhost:8080/"
        },
        "id": "6-KkLqt0D5d3",
        "outputId": "ec380cc9-61be-41d0-c76c-5865347241b7"
      },
      "source": [
        "#テストデータの出力値の確認\n",
        "\n",
        "#各層の(学習データの）出力値を取得\n",
        "#ライブラリの読込み\n",
        "from tensorflow.keras import models\n",
        "\n",
        "#CNNモデルの各層出力を取得(リスト内包表式)*modelは上のライブラリのmodelsでは無く先ほどのモデル\n",
        "layer_outputs = [layer.output for layer in model.layers[:5]]\n",
        "\n",
        "#function API記法（モデルの一部の入出力を取り出す等複雑なモデルを作成出来る）により先ほどの入出力となるモデルを作成\n",
        "activation_model = models.Model(inputs=model.input, outputs=layer_outputs[0])\n",
        "activation_model.summary()"
      ],
      "execution_count": null,
      "outputs": [
        {
          "output_type": "stream",
          "text": [
            "Model: \"model\"\n",
            "_________________________________________________________________\n",
            "Layer (type)                 Output Shape              Param #   \n",
            "=================================================================\n",
            "conv2d_2_input (InputLayer)  [(None, 28, 28, 1)]       0         \n",
            "_________________________________________________________________\n",
            "conv2d_2 (Conv2D)            (None, 28, 28, 392)       3920      \n",
            "=================================================================\n",
            "Total params: 3,920\n",
            "Trainable params: 3,920\n",
            "Non-trainable params: 0\n",
            "_________________________________________________________________\n"
          ],
          "name": "stdout"
        }
      ]
    },
    {
      "cell_type": "code",
      "metadata": {
        "colab": {
          "base_uri": "https://localhost:8080/",
          "height": 303
        },
        "id": "oaLtbr7rZdmh",
        "outputId": "ce7203d4-0b0f-49ee-db4e-9aff2fe2632a"
      },
      "source": [
        "#出力値の可視化\n",
        "\n",
        "#API作成モデルにpredictを施すと出力値が得られる(predictの引数は学習データと同じ4次元に揃えている)\n",
        "activations = activation_model.predict(x_test_g[0:1])\n",
        "\n",
        "#4行4列にグラフを分割(上から16個のフィルタを通した出力値を抜粋)\n",
        "fig, ax = plt.subplots(4, 4, figsize=(5, 5))\n",
        "\n",
        "for i in range(4):\n",
        "  for j in range(4):\n",
        "    z = i*4+j\n",
        "    #テストデータの0番目(:にすると次元オーバでエラーとなるので0で次元削減している)\n",
        "    ax[i, j].imshow(activations[0,:,:,z], cmap='Greys')\n",
        "    ax[i, j].tick_params(left=False, labelleft=False, bottom=False, labelbottom=False)\n",
        "  \n",
        "plt.show()"
      ],
      "execution_count": null,
      "outputs": [
        {
          "output_type": "display_data",
          "data": {
            "image/png": "[encoded data removed]",
            "text/plain": [
              "<Figure size 360x360 with 16 Axes>"
            ]
          },
          "metadata": {
            "tags": []
          }
        }
      ]
    },
    {
      "cell_type": "code",
      "metadata": {
        "colab": {
          "base_uri": "https://localhost:8080/",
          "height": 282
        },
        "id": "R2SjZM71h1Nw",
        "outputId": "2ed5b9ea-d095-4d8e-8ea8-41b5df395ec5"
      },
      "source": [
        "#入力したテストデータの確認\n",
        "plt.imshow(x_test[0], cmap='Greys')\n",
        "print(y_test[0])\n",
        "\n",
        "#考察：入力画像の線の向きは縦方向が多い為、縦型(左右のどちらが黒でどちらかが白）のフィルタを\n",
        "#通過した出力が入力画像の特徴をよく捉えている事が分かる"
      ],
      "execution_count": null,
      "outputs": [
        {
          "output_type": "stream",
          "text": [
            "2\n"
          ],
          "name": "stdout"
        },
        {
          "output_type": "display_data",
          "data": {
            "image/png": "[encoded data removed]",
            "text/plain": [
              "<Figure size 432x288 with 1 Axes>"
            ]
          },
          "metadata": {
            "tags": [],
            "needs_background": "light"
          }
        }
      ]
    },
    {
      "cell_type": "markdown",
      "metadata": {
        "id": "JA0j5TiFUlxv"
      },
      "source": [
        "#6.モデル性能の改善"
      ]
    },
    {
      "cell_type": "code",
      "metadata": {
        "id": "DXCR0ZuBnFq3"
      },
      "source": [
        "#必要なライブラリのインポート\n",
        "from tensorflow.keras.layers import MaxPooling2D"
      ],
      "execution_count": null,
      "outputs": []
    },
    {
      "cell_type": "code",
      "metadata": {
        "id": "b2YbSAXNfB3D"
      },
      "source": [
        "#ニューラルネットワークモデルの構築\n",
        "\n",
        "#モデルの初期化\n",
        "model = keras.Sequential()\n",
        "\n",
        "#CNN層(入力層)　(パディングによって出力形状が入力形状と同じ28×28になるよう可能)\n",
        "model.add(Conv2D(32, kernel_size=3, padding='same', strides=1,\n",
        "                 input_shape=(28, 28, 1), activation='relu'))\n",
        "\n",
        "\n",
        "#プーリング層(不変性を実現する為、集約演算を行う)\n",
        "model.add(MaxPooling2D(pool_size=(2, 2)))\n",
        "\n",
        "\n",
        "#ドロップアウト層(特定ユニットの過大or過小学習を防ぐ為、ランダムにユニットを休ませる)\n",
        "model.add(Dropout(0.25))\n",
        "\n",
        "\n",
        "#繰り返し層\n",
        "#プーリング層で画像サイズが1/2になったのでパラメータ数を2倍にして情報量を維持している\n",
        "model.add(Conv2D(64, kernel_size=3, padding='same', strides=1,\n",
        "                 input_shape=(28, 28, 1), activation='relu'))\n",
        "\n",
        "model.add(MaxPooling2D(pool_size=(2, 2)))\n",
        "\n",
        "model.add(Dropout(0.25))\n",
        "\n",
        "\n",
        "#繰り返し層(2)\n",
        "#プーリング層で画像サイズが1/2になったのでパラメータ数を2倍にして情報量を維持している\n",
        "model.add(Conv2D(128, kernel_size=3, padding='same', strides=1,\n",
        "                 input_shape=(28, 28, 1), activation='relu'))\n",
        "\n",
        "model.add(MaxPooling2D(pool_size=(2, 2)))\n",
        "\n",
        "model.add(Dropout(0.25))\n",
        "\n",
        "#繰り返し層(3)\n",
        "#プーリング層で画像サイズが1/2になったのでパラメータ数を2倍にして情報量を維持している\n",
        "model.add(Conv2D(256, kernel_size=3, padding='same', strides=1,\n",
        "                 input_shape=(28, 28, 1), activation='relu'))\n",
        "\n",
        "model.add(MaxPooling2D(pool_size=(2, 2)))\n",
        "\n",
        "model.add(Dropout(0.25))\n",
        "\n",
        "\n",
        "#平滑化層\n",
        "model.add(Flatten())#最終的な出力層の形状と同じ1次元に変換\n",
        "\n",
        "#全結合層\n",
        "model.add(Dense(32, activation='relu', kernel_regularizer=regularizers.l2(0.001)))\n",
        "\n",
        "#ドロップアウト層\n",
        "model.add(Dropout(0.5))\n",
        "\n",
        "#全結合層(出力層)\n",
        "model.add(Dense(10, activation='softmax'))\n",
        "\n",
        "#モデルの構築\n",
        "model.compile(optimizer='rmsprop', loss='categorical_crossentropy', metrics=['accuracy'])"
      ],
      "execution_count": null,
      "outputs": []
    },
    {
      "cell_type": "code",
      "metadata": {
        "id": "a406eZ6m761N",
        "colab": {
          "base_uri": "https://localhost:8080/"
        },
        "outputId": "5e823a2f-7c48-4921-a11b-3aa3cf3a95f9"
      },
      "source": [
        "#モデルの構造を表示\n",
        "model.summary()"
      ],
      "execution_count": null,
      "outputs": [
        {
          "output_type": "stream",
          "text": [
            "Model: \"sequential_4\"\n",
            "_________________________________________________________________\n",
            "Layer (type)                 Output Shape              Param #   \n",
            "=================================================================\n",
            "conv2d_3 (Conv2D)            (None, 28, 28, 32)        320       \n",
            "_________________________________________________________________\n",
            "max_pooling2d (MaxPooling2D) (None, 14, 14, 32)        0         \n",
            "_________________________________________________________________\n",
            "dropout (Dropout)            (None, 14, 14, 32)        0         \n",
            "_________________________________________________________________\n",
            "conv2d_4 (Conv2D)            (None, 14, 14, 64)        18496     \n",
            "_________________________________________________________________\n",
            "max_pooling2d_1 (MaxPooling2 (None, 7, 7, 64)          0         \n",
            "_________________________________________________________________\n",
            "dropout_1 (Dropout)          (None, 7, 7, 64)          0         \n",
            "_________________________________________________________________\n",
            "conv2d_5 (Conv2D)            (None, 7, 7, 128)         73856     \n",
            "_________________________________________________________________\n",
            "max_pooling2d_2 (MaxPooling2 (None, 3, 3, 128)         0         \n",
            "_________________________________________________________________\n",
            "dropout_2 (Dropout)          (None, 3, 3, 128)         0         \n",
            "_________________________________________________________________\n",
            "conv2d_6 (Conv2D)            (None, 3, 3, 256)         295168    \n",
            "_________________________________________________________________\n",
            "max_pooling2d_3 (MaxPooling2 (None, 1, 1, 256)         0         \n",
            "_________________________________________________________________\n",
            "dropout_3 (Dropout)          (None, 1, 1, 256)         0         \n",
            "_________________________________________________________________\n",
            "flatten_3 (Flatten)          (None, 256)               0         \n",
            "_________________________________________________________________\n",
            "dense_9 (Dense)              (None, 32)                8224      \n",
            "_________________________________________________________________\n",
            "dropout_4 (Dropout)          (None, 32)                0         \n",
            "_________________________________________________________________\n",
            "dense_10 (Dense)             (None, 10)                330       \n",
            "=================================================================\n",
            "Total params: 396,394\n",
            "Trainable params: 396,394\n",
            "Non-trainable params: 0\n",
            "_________________________________________________________________\n"
          ],
          "name": "stdout"
        }
      ]
    },
    {
      "cell_type": "code",
      "metadata": {
        "colab": {
          "base_uri": "https://localhost:8080/"
        },
        "id": "-cbChikNutWM",
        "outputId": "e8f6716e-020d-485f-fe41-7a8ece9a8306"
      },
      "source": [
        "#ニューラルネットワークの学習\n",
        "%%time\n",
        "\n",
        "log = model.fit(x_train_g, y_train_c, epochs=3000,batch_size=2000, verbose=True,\n",
        "                                callbacks=[keras.callbacks.EarlyStopping(monitor='val_loss',\n",
        "                                                         min_delta=0, patience=100,\n",
        "                                                         verbose=1)],\n",
        "                validation_data=(x_valid_g, y_valid_c))"
      ],
      "execution_count": null,
      "outputs": [
        {
          "output_type": "stream",
          "text": [
            "Epoch 1/3000\n",
            "21/21 [==============================] - 7s 174ms/step - loss: 19.9405 - accuracy: 0.1008 - val_loss: 2.3598 - val_accuracy: 0.0984\n",
            "Epoch 2/3000\n",
            "21/21 [==============================] - 3s 161ms/step - loss: 2.3733 - accuracy: 0.0991 - val_loss: 2.3593 - val_accuracy: 0.0975\n",
            "Epoch 3/3000\n",
            "21/21 [==============================] - 3s 162ms/step - loss: 2.3620 - accuracy: 0.1029 - val_loss: 2.3581 - val_accuracy: 0.0975\n",
            "Epoch 4/3000\n",
            "21/21 [==============================] - 3s 163ms/step - loss: 2.3596 - accuracy: 0.1005 - val_loss: 2.3557 - val_accuracy: 0.0975\n",
            "Epoch 5/3000\n",
            "21/21 [==============================] - 3s 161ms/step - loss: 2.3550 - accuracy: 0.1006 - val_loss: 2.3517 - val_accuracy: 0.0975\n",
            "Epoch 6/3000\n",
            "21/21 [==============================] - 3s 161ms/step - loss: 2.3526 - accuracy: 0.1021 - val_loss: 2.3458 - val_accuracy: 0.0975\n",
            "Epoch 7/3000\n",
            "21/21 [==============================] - 3s 162ms/step - loss: 2.3472 - accuracy: 0.1024 - val_loss: 2.3387 - val_accuracy: 0.0975\n",
            "Epoch 8/3000\n",
            "21/21 [==============================] - 3s 162ms/step - loss: 2.3373 - accuracy: 0.1010 - val_loss: 2.3310 - val_accuracy: 0.0975\n",
            "Epoch 9/3000\n",
            "21/21 [==============================] - 3s 162ms/step - loss: 2.3296 - accuracy: 0.0947 - val_loss: 2.3239 - val_accuracy: 0.0975\n",
            "Epoch 10/3000\n",
            "21/21 [==============================] - 3s 161ms/step - loss: 2.3227 - accuracy: 0.1001 - val_loss: 2.3183 - val_accuracy: 0.0975\n",
            "Epoch 11/3000\n",
            "21/21 [==============================] - 3s 161ms/step - loss: 2.3201 - accuracy: 0.0987 - val_loss: 2.3144 - val_accuracy: 0.0975\n",
            "Epoch 12/3000\n",
            "21/21 [==============================] - 3s 161ms/step - loss: 2.3144 - accuracy: 0.1004 - val_loss: 2.3115 - val_accuracy: 0.0975\n",
            "Epoch 13/3000\n",
            "21/21 [==============================] - 3s 161ms/step - loss: 2.3114 - accuracy: 0.1031 - val_loss: 2.3097 - val_accuracy: 0.0975\n",
            "Epoch 14/3000\n",
            "21/21 [==============================] - 3s 161ms/step - loss: 2.3092 - accuracy: 0.1010 - val_loss: 2.3084 - val_accuracy: 0.0975\n",
            "Epoch 15/3000\n",
            "21/21 [==============================] - 3s 160ms/step - loss: 2.3108 - accuracy: 0.1008 - val_loss: 2.2975 - val_accuracy: 0.1029\n",
            "Epoch 16/3000\n",
            "21/21 [==============================] - 3s 161ms/step - loss: 2.3493 - accuracy: 0.1021 - val_loss: 2.3062 - val_accuracy: 0.0976\n",
            "Epoch 17/3000\n",
            "21/21 [==============================] - 3s 160ms/step - loss: 2.2948 - accuracy: 0.1133 - val_loss: 2.0273 - val_accuracy: 0.2679\n",
            "Epoch 18/3000\n",
            "21/21 [==============================] - 3s 161ms/step - loss: 1.9560 - accuracy: 0.2628 - val_loss: 1.2429 - val_accuracy: 0.6689\n",
            "Epoch 19/3000\n",
            "21/21 [==============================] - 3s 161ms/step - loss: 1.4728 - accuracy: 0.4832 - val_loss: 0.8286 - val_accuracy: 0.7780\n",
            "Epoch 20/3000\n",
            "21/21 [==============================] - 3s 163ms/step - loss: 1.0677 - accuracy: 0.6492 - val_loss: 0.4569 - val_accuracy: 0.8697\n",
            "Epoch 21/3000\n",
            "21/21 [==============================] - 3s 161ms/step - loss: 0.7937 - accuracy: 0.7455 - val_loss: 0.3153 - val_accuracy: 0.9102\n",
            "Epoch 22/3000\n",
            "21/21 [==============================] - 3s 163ms/step - loss: 0.5455 - accuracy: 0.8354 - val_loss: 0.2027 - val_accuracy: 0.9509\n",
            "Epoch 23/3000\n",
            "21/21 [==============================] - 3s 162ms/step - loss: 0.4093 - accuracy: 0.8800 - val_loss: 0.1554 - val_accuracy: 0.9597\n",
            "Epoch 24/3000\n",
            "21/21 [==============================] - 3s 162ms/step - loss: 0.3602 - accuracy: 0.8962 - val_loss: 0.1343 - val_accuracy: 0.9662\n",
            "Epoch 25/3000\n",
            "21/21 [==============================] - 3s 161ms/step - loss: 0.3032 - accuracy: 0.9145 - val_loss: 0.1113 - val_accuracy: 0.9745\n",
            "Epoch 26/3000\n",
            "21/21 [==============================] - 3s 162ms/step - loss: 0.2622 - accuracy: 0.9267 - val_loss: 0.0976 - val_accuracy: 0.9773\n",
            "Epoch 27/3000\n",
            "21/21 [==============================] - 3s 162ms/step - loss: 0.2305 - accuracy: 0.9370 - val_loss: 0.0923 - val_accuracy: 0.9778\n",
            "Epoch 28/3000\n",
            "21/21 [==============================] - 3s 162ms/step - loss: 0.2057 - accuracy: 0.9436 - val_loss: 0.0881 - val_accuracy: 0.9799\n",
            "Epoch 29/3000\n",
            "21/21 [==============================] - 3s 161ms/step - loss: 0.1797 - accuracy: 0.9503 - val_loss: 0.0882 - val_accuracy: 0.9794\n",
            "Epoch 30/3000\n",
            "21/21 [==============================] - 3s 162ms/step - loss: 0.1704 - accuracy: 0.9547 - val_loss: 0.0855 - val_accuracy: 0.9781\n",
            "Epoch 31/3000\n",
            "21/21 [==============================] - 3s 161ms/step - loss: 0.1618 - accuracy: 0.9561 - val_loss: 0.0704 - val_accuracy: 0.9835\n",
            "Epoch 32/3000\n",
            "21/21 [==============================] - 3s 162ms/step - loss: 0.1380 - accuracy: 0.9615 - val_loss: 0.0705 - val_accuracy: 0.9848\n",
            "Epoch 33/3000\n",
            "21/21 [==============================] - 3s 162ms/step - loss: 0.1346 - accuracy: 0.9630 - val_loss: 0.0704 - val_accuracy: 0.9837\n",
            "Epoch 34/3000\n",
            "21/21 [==============================] - 3s 162ms/step - loss: 0.1266 - accuracy: 0.9652 - val_loss: 0.0702 - val_accuracy: 0.9838\n",
            "Epoch 35/3000\n",
            "21/21 [==============================] - 3s 160ms/step - loss: 0.1192 - accuracy: 0.9680 - val_loss: 0.0662 - val_accuracy: 0.9854\n",
            "Epoch 36/3000\n",
            "21/21 [==============================] - 3s 162ms/step - loss: 0.1113 - accuracy: 0.9704 - val_loss: 0.0594 - val_accuracy: 0.9863\n",
            "Epoch 37/3000\n",
            "21/21 [==============================] - 3s 161ms/step - loss: 0.1025 - accuracy: 0.9729 - val_loss: 0.0646 - val_accuracy: 0.9862\n",
            "Epoch 38/3000\n",
            "21/21 [==============================] - 3s 162ms/step - loss: 0.1062 - accuracy: 0.9703 - val_loss: 0.0605 - val_accuracy: 0.9871\n",
            "Epoch 39/3000\n",
            "21/21 [==============================] - 3s 161ms/step - loss: 0.1006 - accuracy: 0.9722 - val_loss: 0.0605 - val_accuracy: 0.9877\n",
            "Epoch 40/3000\n",
            "21/21 [==============================] - 3s 161ms/step - loss: 0.0969 - accuracy: 0.9739 - val_loss: 0.0610 - val_accuracy: 0.9869\n",
            "Epoch 41/3000\n",
            "21/21 [==============================] - 3s 161ms/step - loss: 0.0912 - accuracy: 0.9745 - val_loss: 0.0603 - val_accuracy: 0.9874\n",
            "Epoch 42/3000\n",
            "21/21 [==============================] - 3s 161ms/step - loss: 0.0897 - accuracy: 0.9776 - val_loss: 0.0553 - val_accuracy: 0.9887\n",
            "Epoch 43/3000\n",
            "21/21 [==============================] - 3s 162ms/step - loss: 0.0792 - accuracy: 0.9777 - val_loss: 0.0602 - val_accuracy: 0.9876\n",
            "Epoch 44/3000\n",
            "21/21 [==============================] - 3s 162ms/step - loss: 0.0862 - accuracy: 0.9767 - val_loss: 0.0531 - val_accuracy: 0.9892\n",
            "Epoch 45/3000\n",
            "21/21 [==============================] - 3s 160ms/step - loss: 0.0791 - accuracy: 0.9795 - val_loss: 0.0593 - val_accuracy: 0.9878\n",
            "Epoch 46/3000\n",
            "21/21 [==============================] - 3s 162ms/step - loss: 0.0763 - accuracy: 0.9786 - val_loss: 0.0530 - val_accuracy: 0.9891\n",
            "Epoch 47/3000\n",
            "21/21 [==============================] - 3s 162ms/step - loss: 0.0754 - accuracy: 0.9794 - val_loss: 0.0555 - val_accuracy: 0.9886\n",
            "Epoch 48/3000\n",
            "21/21 [==============================] - 3s 162ms/step - loss: 0.0800 - accuracy: 0.9774 - val_loss: 0.0600 - val_accuracy: 0.9882\n",
            "Epoch 49/3000\n",
            "21/21 [==============================] - 3s 162ms/step - loss: 0.0736 - accuracy: 0.9797 - val_loss: 0.0507 - val_accuracy: 0.9884\n",
            "Epoch 50/3000\n",
            "21/21 [==============================] - 3s 163ms/step - loss: 0.0726 - accuracy: 0.9798 - val_loss: 0.0561 - val_accuracy: 0.9884\n",
            "Epoch 51/3000\n",
            "21/21 [==============================] - 3s 162ms/step - loss: 0.0691 - accuracy: 0.9813 - val_loss: 0.0563 - val_accuracy: 0.9894\n",
            "Epoch 52/3000\n",
            "21/21 [==============================] - 3s 162ms/step - loss: 0.0711 - accuracy: 0.9807 - val_loss: 0.0530 - val_accuracy: 0.9888\n",
            "Epoch 53/3000\n",
            "21/21 [==============================] - 3s 161ms/step - loss: 0.0641 - accuracy: 0.9824 - val_loss: 0.0613 - val_accuracy: 0.9888\n",
            "Epoch 54/3000\n",
            "21/21 [==============================] - 3s 161ms/step - loss: 0.0659 - accuracy: 0.9814 - val_loss: 0.0525 - val_accuracy: 0.9902\n",
            "Epoch 55/3000\n",
            "21/21 [==============================] - 3s 161ms/step - loss: 0.0621 - accuracy: 0.9833 - val_loss: 0.0593 - val_accuracy: 0.9873\n",
            "Epoch 56/3000\n",
            "21/21 [==============================] - 3s 161ms/step - loss: 0.0719 - accuracy: 0.9804 - val_loss: 0.0524 - val_accuracy: 0.9894\n",
            "Epoch 57/3000\n",
            "21/21 [==============================] - 3s 161ms/step - loss: 0.0583 - accuracy: 0.9836 - val_loss: 0.0559 - val_accuracy: 0.9899\n",
            "Epoch 58/3000\n",
            "21/21 [==============================] - 3s 161ms/step - loss: 0.0564 - accuracy: 0.9844 - val_loss: 0.0529 - val_accuracy: 0.9902\n",
            "Epoch 59/3000\n",
            "21/21 [==============================] - 3s 161ms/step - loss: 0.0635 - accuracy: 0.9831 - val_loss: 0.0536 - val_accuracy: 0.9896\n",
            "Epoch 60/3000\n",
            "21/21 [==============================] - 3s 161ms/step - loss: 0.0575 - accuracy: 0.9835 - val_loss: 0.0551 - val_accuracy: 0.9901\n",
            "Epoch 61/3000\n",
            "21/21 [==============================] - 3s 161ms/step - loss: 0.0565 - accuracy: 0.9841 - val_loss: 0.0528 - val_accuracy: 0.9905\n",
            "Epoch 62/3000\n",
            "21/21 [==============================] - 3s 161ms/step - loss: 0.0518 - accuracy: 0.9855 - val_loss: 0.0511 - val_accuracy: 0.9901\n",
            "Epoch 63/3000\n",
            "21/21 [==============================] - 3s 162ms/step - loss: 0.0534 - accuracy: 0.9851 - val_loss: 0.0580 - val_accuracy: 0.9903\n",
            "Epoch 64/3000\n",
            "21/21 [==============================] - 3s 161ms/step - loss: 0.0573 - accuracy: 0.9834 - val_loss: 0.0580 - val_accuracy: 0.9898\n",
            "Epoch 65/3000\n",
            "21/21 [==============================] - 3s 160ms/step - loss: 0.0533 - accuracy: 0.9865 - val_loss: 0.0538 - val_accuracy: 0.9902\n",
            "Epoch 66/3000\n",
            "21/21 [==============================] - 3s 161ms/step - loss: 0.0580 - accuracy: 0.9836 - val_loss: 0.0539 - val_accuracy: 0.9902\n",
            "Epoch 67/3000\n",
            "21/21 [==============================] - 3s 162ms/step - loss: 0.0562 - accuracy: 0.9861 - val_loss: 0.0557 - val_accuracy: 0.9899\n",
            "Epoch 68/3000\n",
            "21/21 [==============================] - 3s 162ms/step - loss: 0.0532 - accuracy: 0.9852 - val_loss: 0.0493 - val_accuracy: 0.9913\n",
            "Epoch 69/3000\n",
            "21/21 [==============================] - 3s 164ms/step - loss: 0.0536 - accuracy: 0.9855 - val_loss: 0.0543 - val_accuracy: 0.9902\n",
            "Epoch 70/3000\n",
            "21/21 [==============================] - 3s 162ms/step - loss: 0.0504 - accuracy: 0.9859 - val_loss: 0.0631 - val_accuracy: 0.9901\n",
            "Epoch 71/3000\n",
            "21/21 [==============================] - 3s 161ms/step - loss: 0.0530 - accuracy: 0.9854 - val_loss: 0.0514 - val_accuracy: 0.9907\n",
            "Epoch 72/3000\n",
            "21/21 [==============================] - 3s 163ms/step - loss: 0.0560 - accuracy: 0.9851 - val_loss: 0.0523 - val_accuracy: 0.9911\n",
            "Epoch 73/3000\n",
            "21/21 [==============================] - 3s 161ms/step - loss: 0.0490 - accuracy: 0.9870 - val_loss: 0.0528 - val_accuracy: 0.9904\n",
            "Epoch 74/3000\n",
            "21/21 [==============================] - 3s 160ms/step - loss: 0.0524 - accuracy: 0.9856 - val_loss: 0.0532 - val_accuracy: 0.9908\n",
            "Epoch 75/3000\n",
            "21/21 [==============================] - 3s 161ms/step - loss: 0.0444 - accuracy: 0.9870 - val_loss: 0.0538 - val_accuracy: 0.9905\n",
            "Epoch 76/3000\n",
            "21/21 [==============================] - 3s 162ms/step - loss: 0.0470 - accuracy: 0.9868 - val_loss: 0.0592 - val_accuracy: 0.9899\n",
            "Epoch 77/3000\n",
            "21/21 [==============================] - 3s 161ms/step - loss: 0.0518 - accuracy: 0.9855 - val_loss: 0.0534 - val_accuracy: 0.9910\n",
            "Epoch 78/3000\n",
            "21/21 [==============================] - 3s 162ms/step - loss: 0.0458 - accuracy: 0.9871 - val_loss: 0.0528 - val_accuracy: 0.9899\n",
            "Epoch 79/3000\n",
            "21/21 [==============================] - 3s 162ms/step - loss: 0.0467 - accuracy: 0.9860 - val_loss: 0.0538 - val_accuracy: 0.9901\n",
            "Epoch 80/3000\n",
            "21/21 [==============================] - 3s 161ms/step - loss: 0.0444 - accuracy: 0.9877 - val_loss: 0.0579 - val_accuracy: 0.9907\n",
            "Epoch 81/3000\n",
            "21/21 [==============================] - 3s 161ms/step - loss: 0.0438 - accuracy: 0.9881 - val_loss: 0.0529 - val_accuracy: 0.9902\n",
            "Epoch 82/3000\n",
            "21/21 [==============================] - 3s 162ms/step - loss: 0.0387 - accuracy: 0.9883 - val_loss: 0.0563 - val_accuracy: 0.9902\n",
            "Epoch 83/3000\n",
            "21/21 [==============================] - 3s 162ms/step - loss: 0.0490 - accuracy: 0.9864 - val_loss: 0.0553 - val_accuracy: 0.9902\n",
            "Epoch 84/3000\n",
            "21/21 [==============================] - 3s 162ms/step - loss: 0.0437 - accuracy: 0.9873 - val_loss: 0.0500 - val_accuracy: 0.9909\n",
            "Epoch 85/3000\n",
            "21/21 [==============================] - 3s 161ms/step - loss: 0.0454 - accuracy: 0.9866 - val_loss: 0.0541 - val_accuracy: 0.9902\n",
            "Epoch 86/3000\n",
            "21/21 [==============================] - 3s 162ms/step - loss: 0.0462 - accuracy: 0.9874 - val_loss: 0.0550 - val_accuracy: 0.9909\n",
            "Epoch 87/3000\n",
            "21/21 [==============================] - 3s 162ms/step - loss: 0.0441 - accuracy: 0.9879 - val_loss: 0.0635 - val_accuracy: 0.9905\n",
            "Epoch 88/3000\n",
            "21/21 [==============================] - 3s 161ms/step - loss: 0.0467 - accuracy: 0.9875 - val_loss: 0.0576 - val_accuracy: 0.9909\n",
            "Epoch 89/3000\n",
            "21/21 [==============================] - 3s 163ms/step - loss: 0.0411 - accuracy: 0.9888 - val_loss: 0.0528 - val_accuracy: 0.9911\n",
            "Epoch 90/3000\n",
            "21/21 [==============================] - 3s 161ms/step - loss: 0.0431 - accuracy: 0.9882 - val_loss: 0.0487 - val_accuracy: 0.9912\n",
            "Epoch 91/3000\n",
            "21/21 [==============================] - 3s 163ms/step - loss: 0.0453 - accuracy: 0.9880 - val_loss: 0.0502 - val_accuracy: 0.9909\n",
            "Epoch 92/3000\n",
            "21/21 [==============================] - 3s 162ms/step - loss: 0.0402 - accuracy: 0.9879 - val_loss: 0.0572 - val_accuracy: 0.9909\n",
            "Epoch 93/3000\n",
            "21/21 [==============================] - 3s 161ms/step - loss: 0.0385 - accuracy: 0.9893 - val_loss: 0.0535 - val_accuracy: 0.9910\n",
            "Epoch 94/3000\n",
            "21/21 [==============================] - 3s 161ms/step - loss: 0.0453 - accuracy: 0.9870 - val_loss: 0.0534 - val_accuracy: 0.9909\n",
            "Epoch 95/3000\n",
            "21/21 [==============================] - 3s 162ms/step - loss: 0.0397 - accuracy: 0.9895 - val_loss: 0.0512 - val_accuracy: 0.9914\n",
            "Epoch 96/3000\n",
            "21/21 [==============================] - 3s 163ms/step - loss: 0.0427 - accuracy: 0.9878 - val_loss: 0.0547 - val_accuracy: 0.9911\n",
            "Epoch 97/3000\n",
            "21/21 [==============================] - 3s 164ms/step - loss: 0.0410 - accuracy: 0.9879 - val_loss: 0.0536 - val_accuracy: 0.9903\n",
            "Epoch 98/3000\n",
            "21/21 [==============================] - 3s 161ms/step - loss: 0.0465 - accuracy: 0.9875 - val_loss: 0.0623 - val_accuracy: 0.9908\n",
            "Epoch 99/3000\n",
            "21/21 [==============================] - 3s 162ms/step - loss: 0.0417 - accuracy: 0.9880 - val_loss: 0.0513 - val_accuracy: 0.9911\n",
            "Epoch 100/3000\n",
            "21/21 [==============================] - 3s 162ms/step - loss: 0.0391 - accuracy: 0.9889 - val_loss: 0.0565 - val_accuracy: 0.9902\n",
            "Epoch 101/3000\n",
            "21/21 [==============================] - 3s 162ms/step - loss: 0.0437 - accuracy: 0.9894 - val_loss: 0.0596 - val_accuracy: 0.9909\n",
            "Epoch 102/3000\n",
            "21/21 [==============================] - 3s 161ms/step - loss: 0.0427 - accuracy: 0.9887 - val_loss: 0.0523 - val_accuracy: 0.9911\n",
            "Epoch 103/3000\n",
            "21/21 [==============================] - 3s 161ms/step - loss: 0.0405 - accuracy: 0.9897 - val_loss: 0.0550 - val_accuracy: 0.9908\n",
            "Epoch 104/3000\n",
            "21/21 [==============================] - 3s 162ms/step - loss: 0.0406 - accuracy: 0.9887 - val_loss: 0.0623 - val_accuracy: 0.9904\n",
            "Epoch 105/3000\n",
            "21/21 [==============================] - 3s 162ms/step - loss: 0.0410 - accuracy: 0.9887 - val_loss: 0.0539 - val_accuracy: 0.9913\n",
            "Epoch 106/3000\n",
            "21/21 [==============================] - 3s 161ms/step - loss: 0.0347 - accuracy: 0.9904 - val_loss: 0.0623 - val_accuracy: 0.9908\n",
            "Epoch 107/3000\n",
            "21/21 [==============================] - 3s 160ms/step - loss: 0.0409 - accuracy: 0.9896 - val_loss: 0.0587 - val_accuracy: 0.9910\n",
            "Epoch 108/3000\n",
            "21/21 [==============================] - 3s 162ms/step - loss: 0.0373 - accuracy: 0.9891 - val_loss: 0.0580 - val_accuracy: 0.9912\n",
            "Epoch 109/3000\n",
            "21/21 [==============================] - 3s 161ms/step - loss: 0.0410 - accuracy: 0.9892 - val_loss: 0.0597 - val_accuracy: 0.9907\n",
            "Epoch 110/3000\n",
            "21/21 [==============================] - 3s 162ms/step - loss: 0.0434 - accuracy: 0.9891 - val_loss: 0.0584 - val_accuracy: 0.9917\n",
            "Epoch 111/3000\n",
            "21/21 [==============================] - 3s 163ms/step - loss: 0.0387 - accuracy: 0.9902 - val_loss: 0.0576 - val_accuracy: 0.9913\n",
            "Epoch 112/3000\n",
            "21/21 [==============================] - 3s 162ms/step - loss: 0.0405 - accuracy: 0.9887 - val_loss: 0.0599 - val_accuracy: 0.9915\n",
            "Epoch 113/3000\n",
            "21/21 [==============================] - 3s 161ms/step - loss: 0.0413 - accuracy: 0.9893 - val_loss: 0.0587 - val_accuracy: 0.9907\n",
            "Epoch 114/3000\n",
            "21/21 [==============================] - 3s 161ms/step - loss: 0.0390 - accuracy: 0.9895 - val_loss: 0.0493 - val_accuracy: 0.9917\n",
            "Epoch 115/3000\n",
            "21/21 [==============================] - 3s 162ms/step - loss: 0.0401 - accuracy: 0.9887 - val_loss: 0.0598 - val_accuracy: 0.9916\n",
            "Epoch 116/3000\n",
            "21/21 [==============================] - 3s 160ms/step - loss: 0.0336 - accuracy: 0.9911 - val_loss: 0.0592 - val_accuracy: 0.9919\n",
            "Epoch 117/3000\n",
            "21/21 [==============================] - 3s 163ms/step - loss: 0.0361 - accuracy: 0.9902 - val_loss: 0.0560 - val_accuracy: 0.9916\n",
            "Epoch 118/3000\n",
            "21/21 [==============================] - 3s 162ms/step - loss: 0.0391 - accuracy: 0.9902 - val_loss: 0.0514 - val_accuracy: 0.9919\n",
            "Epoch 119/3000\n",
            "21/21 [==============================] - 3s 162ms/step - loss: 0.0399 - accuracy: 0.9901 - val_loss: 0.0537 - val_accuracy: 0.9919\n",
            "Epoch 120/3000\n",
            "21/21 [==============================] - 3s 162ms/step - loss: 0.0382 - accuracy: 0.9888 - val_loss: 0.0558 - val_accuracy: 0.9917\n",
            "Epoch 121/3000\n",
            "21/21 [==============================] - 3s 163ms/step - loss: 0.0313 - accuracy: 0.9912 - val_loss: 0.0573 - val_accuracy: 0.9914\n",
            "Epoch 122/3000\n",
            "21/21 [==============================] - 3s 162ms/step - loss: 0.0329 - accuracy: 0.9911 - val_loss: 0.0597 - val_accuracy: 0.9916\n",
            "Epoch 123/3000\n",
            "21/21 [==============================] - 3s 162ms/step - loss: 0.0363 - accuracy: 0.9898 - val_loss: 0.0537 - val_accuracy: 0.9918\n",
            "Epoch 124/3000\n",
            "21/21 [==============================] - 3s 161ms/step - loss: 0.0373 - accuracy: 0.9900 - val_loss: 0.0619 - val_accuracy: 0.9921\n",
            "Epoch 125/3000\n",
            "21/21 [==============================] - 3s 161ms/step - loss: 0.0371 - accuracy: 0.9899 - val_loss: 0.0611 - val_accuracy: 0.9913\n",
            "Epoch 126/3000\n",
            "21/21 [==============================] - 3s 161ms/step - loss: 0.0367 - accuracy: 0.9899 - val_loss: 0.0593 - val_accuracy: 0.9913\n",
            "Epoch 127/3000\n",
            "21/21 [==============================] - 3s 162ms/step - loss: 0.0367 - accuracy: 0.9890 - val_loss: 0.0466 - val_accuracy: 0.9924\n",
            "Epoch 128/3000\n",
            "21/21 [==============================] - 3s 161ms/step - loss: 0.0403 - accuracy: 0.9891 - val_loss: 0.0575 - val_accuracy: 0.9916\n",
            "Epoch 129/3000\n",
            "21/21 [==============================] - 3s 162ms/step - loss: 0.0384 - accuracy: 0.9900 - val_loss: 0.0536 - val_accuracy: 0.9915\n",
            "Epoch 130/3000\n",
            "21/21 [==============================] - 3s 162ms/step - loss: 0.0342 - accuracy: 0.9911 - val_loss: 0.0523 - val_accuracy: 0.9918\n",
            "Epoch 131/3000\n",
            "21/21 [==============================] - 3s 162ms/step - loss: 0.0342 - accuracy: 0.9908 - val_loss: 0.0558 - val_accuracy: 0.9908\n",
            "Epoch 132/3000\n",
            "21/21 [==============================] - 3s 162ms/step - loss: 0.0400 - accuracy: 0.9895 - val_loss: 0.0534 - val_accuracy: 0.9913\n",
            "Epoch 133/3000\n",
            "21/21 [==============================] - 3s 163ms/step - loss: 0.0335 - accuracy: 0.9908 - val_loss: 0.0527 - val_accuracy: 0.9914\n",
            "Epoch 134/3000\n",
            "21/21 [==============================] - 3s 161ms/step - loss: 0.0360 - accuracy: 0.9911 - val_loss: 0.0525 - val_accuracy: 0.9917\n",
            "Epoch 135/3000\n",
            "21/21 [==============================] - 3s 162ms/step - loss: 0.0333 - accuracy: 0.9901 - val_loss: 0.0580 - val_accuracy: 0.9921\n",
            "Epoch 136/3000\n",
            "21/21 [==============================] - 3s 162ms/step - loss: 0.0353 - accuracy: 0.9901 - val_loss: 0.0528 - val_accuracy: 0.9913\n",
            "Epoch 137/3000\n",
            "21/21 [==============================] - 3s 162ms/step - loss: 0.0354 - accuracy: 0.9899 - val_loss: 0.0532 - val_accuracy: 0.9916\n",
            "Epoch 138/3000\n",
            "21/21 [==============================] - 3s 162ms/step - loss: 0.0345 - accuracy: 0.9907 - val_loss: 0.0519 - val_accuracy: 0.9921\n",
            "Epoch 139/3000\n",
            "21/21 [==============================] - 3s 162ms/step - loss: 0.0356 - accuracy: 0.9913 - val_loss: 0.0554 - val_accuracy: 0.9914\n",
            "Epoch 140/3000\n",
            "21/21 [==============================] - 3s 161ms/step - loss: 0.0366 - accuracy: 0.9897 - val_loss: 0.0482 - val_accuracy: 0.9925\n",
            "Epoch 141/3000\n",
            "21/21 [==============================] - 3s 162ms/step - loss: 0.0337 - accuracy: 0.9903 - val_loss: 0.0545 - val_accuracy: 0.9926\n",
            "Epoch 142/3000\n",
            "21/21 [==============================] - 3s 161ms/step - loss: 0.0345 - accuracy: 0.9910 - val_loss: 0.0495 - val_accuracy: 0.9927\n",
            "Epoch 143/3000\n",
            "21/21 [==============================] - 3s 161ms/step - loss: 0.0356 - accuracy: 0.9905 - val_loss: 0.0474 - val_accuracy: 0.9924\n",
            "Epoch 144/3000\n",
            "21/21 [==============================] - 3s 162ms/step - loss: 0.0336 - accuracy: 0.9906 - val_loss: 0.0524 - val_accuracy: 0.9927\n",
            "Epoch 145/3000\n",
            "21/21 [==============================] - 3s 163ms/step - loss: 0.0368 - accuracy: 0.9900 - val_loss: 0.0522 - val_accuracy: 0.9921\n",
            "Epoch 146/3000\n",
            "21/21 [==============================] - 3s 161ms/step - loss: 0.0375 - accuracy: 0.9891 - val_loss: 0.0573 - val_accuracy: 0.9913\n",
            "Epoch 147/3000\n",
            "21/21 [==============================] - 3s 162ms/step - loss: 0.0341 - accuracy: 0.9912 - val_loss: 0.0599 - val_accuracy: 0.9918\n",
            "Epoch 148/3000\n",
            "21/21 [==============================] - 3s 162ms/step - loss: 0.0383 - accuracy: 0.9894 - val_loss: 0.0526 - val_accuracy: 0.9924\n",
            "Epoch 149/3000\n",
            "21/21 [==============================] - 3s 164ms/step - loss: 0.0364 - accuracy: 0.9903 - val_loss: 0.0530 - val_accuracy: 0.9919\n",
            "Epoch 150/3000\n",
            "21/21 [==============================] - 3s 162ms/step - loss: 0.0351 - accuracy: 0.9902 - val_loss: 0.0519 - val_accuracy: 0.9918\n",
            "Epoch 151/3000\n",
            "21/21 [==============================] - 3s 162ms/step - loss: 0.0313 - accuracy: 0.9912 - val_loss: 0.0524 - val_accuracy: 0.9918\n",
            "Epoch 152/3000\n",
            "21/21 [==============================] - 3s 161ms/step - loss: 0.0355 - accuracy: 0.9908 - val_loss: 0.0519 - val_accuracy: 0.9925\n",
            "Epoch 153/3000\n",
            "21/21 [==============================] - 3s 162ms/step - loss: 0.0374 - accuracy: 0.9904 - val_loss: 0.0603 - val_accuracy: 0.9924\n",
            "Epoch 154/3000\n",
            "21/21 [==============================] - 3s 162ms/step - loss: 0.0371 - accuracy: 0.9899 - val_loss: 0.0602 - val_accuracy: 0.9925\n",
            "Epoch 155/3000\n",
            "21/21 [==============================] - 3s 162ms/step - loss: 0.0337 - accuracy: 0.9907 - val_loss: 0.0580 - val_accuracy: 0.9924\n",
            "Epoch 156/3000\n",
            "21/21 [==============================] - 3s 161ms/step - loss: 0.0367 - accuracy: 0.9911 - val_loss: 0.0554 - val_accuracy: 0.9924\n",
            "Epoch 157/3000\n",
            "21/21 [==============================] - 3s 163ms/step - loss: 0.0346 - accuracy: 0.9917 - val_loss: 0.0534 - val_accuracy: 0.9923\n",
            "Epoch 158/3000\n",
            "21/21 [==============================] - 3s 160ms/step - loss: 0.0315 - accuracy: 0.9907 - val_loss: 0.0496 - val_accuracy: 0.9925\n",
            "Epoch 159/3000\n",
            "21/21 [==============================] - 3s 162ms/step - loss: 0.0376 - accuracy: 0.9912 - val_loss: 0.0472 - val_accuracy: 0.9911\n",
            "Epoch 160/3000\n",
            "21/21 [==============================] - 3s 163ms/step - loss: 0.0372 - accuracy: 0.9899 - val_loss: 0.0478 - val_accuracy: 0.9917\n",
            "Epoch 161/3000\n",
            "21/21 [==============================] - 3s 162ms/step - loss: 0.0340 - accuracy: 0.9910 - val_loss: 0.0526 - val_accuracy: 0.9927\n",
            "Epoch 162/3000\n",
            "21/21 [==============================] - 3s 161ms/step - loss: 0.0387 - accuracy: 0.9896 - val_loss: 0.0522 - val_accuracy: 0.9921\n",
            "Epoch 163/3000\n",
            "21/21 [==============================] - 3s 162ms/step - loss: 0.0368 - accuracy: 0.9888 - val_loss: 0.0462 - val_accuracy: 0.9924\n",
            "Epoch 164/3000\n",
            "21/21 [==============================] - 3s 161ms/step - loss: 0.0298 - accuracy: 0.9914 - val_loss: 0.0677 - val_accuracy: 0.9917\n",
            "Epoch 165/3000\n",
            "21/21 [==============================] - 3s 162ms/step - loss: 0.0414 - accuracy: 0.9888 - val_loss: 0.0623 - val_accuracy: 0.9919\n",
            "Epoch 166/3000\n",
            "21/21 [==============================] - 3s 162ms/step - loss: 0.0328 - accuracy: 0.9909 - val_loss: 0.0585 - val_accuracy: 0.9914\n",
            "Epoch 167/3000\n",
            "21/21 [==============================] - 3s 162ms/step - loss: 0.0395 - accuracy: 0.9898 - val_loss: 0.0534 - val_accuracy: 0.9921\n",
            "Epoch 168/3000\n",
            "21/21 [==============================] - 3s 163ms/step - loss: 0.0311 - accuracy: 0.9920 - val_loss: 0.0519 - val_accuracy: 0.9927\n",
            "Epoch 169/3000\n",
            "21/21 [==============================] - 3s 161ms/step - loss: 0.0337 - accuracy: 0.9909 - val_loss: 0.0571 - val_accuracy: 0.9921\n",
            "Epoch 170/3000\n",
            "21/21 [==============================] - 3s 162ms/step - loss: 0.0351 - accuracy: 0.9907 - val_loss: 0.0516 - val_accuracy: 0.9923\n",
            "Epoch 171/3000\n",
            "21/21 [==============================] - 3s 161ms/step - loss: 0.0337 - accuracy: 0.9905 - val_loss: 0.0509 - val_accuracy: 0.9927\n",
            "Epoch 172/3000\n",
            "21/21 [==============================] - 3s 162ms/step - loss: 0.0306 - accuracy: 0.9921 - val_loss: 0.0610 - val_accuracy: 0.9915\n",
            "Epoch 173/3000\n",
            "21/21 [==============================] - 3s 161ms/step - loss: 0.0379 - accuracy: 0.9904 - val_loss: 0.0611 - val_accuracy: 0.9920\n",
            "Epoch 174/3000\n",
            "21/21 [==============================] - 3s 162ms/step - loss: 0.0334 - accuracy: 0.9907 - val_loss: 0.0524 - val_accuracy: 0.9927\n",
            "Epoch 175/3000\n",
            "21/21 [==============================] - 3s 163ms/step - loss: 0.0340 - accuracy: 0.9909 - val_loss: 0.0498 - val_accuracy: 0.9926\n",
            "Epoch 176/3000\n",
            "21/21 [==============================] - 3s 162ms/step - loss: 0.0378 - accuracy: 0.9893 - val_loss: 0.0544 - val_accuracy: 0.9930\n",
            "Epoch 177/3000\n",
            "21/21 [==============================] - 3s 162ms/step - loss: 0.0345 - accuracy: 0.9911 - val_loss: 0.0551 - val_accuracy: 0.9920\n",
            "Epoch 178/3000\n",
            "21/21 [==============================] - 3s 162ms/step - loss: 0.0407 - accuracy: 0.9906 - val_loss: 0.0515 - val_accuracy: 0.9926\n",
            "Epoch 179/3000\n",
            "21/21 [==============================] - 3s 162ms/step - loss: 0.0315 - accuracy: 0.9917 - val_loss: 0.0540 - val_accuracy: 0.9923\n",
            "Epoch 180/3000\n",
            "21/21 [==============================] - 3s 163ms/step - loss: 0.0376 - accuracy: 0.9903 - val_loss: 0.0600 - val_accuracy: 0.9929\n",
            "Epoch 181/3000\n",
            "21/21 [==============================] - 3s 162ms/step - loss: 0.0318 - accuracy: 0.9913 - val_loss: 0.0545 - val_accuracy: 0.9922\n",
            "Epoch 182/3000\n",
            "21/21 [==============================] - 3s 161ms/step - loss: 0.0304 - accuracy: 0.9923 - val_loss: 0.0626 - val_accuracy: 0.9918\n",
            "Epoch 183/3000\n",
            "21/21 [==============================] - 3s 163ms/step - loss: 0.0355 - accuracy: 0.9908 - val_loss: 0.0507 - val_accuracy: 0.9926\n",
            "Epoch 184/3000\n",
            "21/21 [==============================] - 3s 162ms/step - loss: 0.0331 - accuracy: 0.9917 - val_loss: 0.0474 - val_accuracy: 0.9929\n",
            "Epoch 185/3000\n",
            "21/21 [==============================] - 3s 162ms/step - loss: 0.0376 - accuracy: 0.9902 - val_loss: 0.0709 - val_accuracy: 0.9918\n",
            "Epoch 186/3000\n",
            "21/21 [==============================] - 3s 162ms/step - loss: 0.0342 - accuracy: 0.9910 - val_loss: 0.0577 - val_accuracy: 0.9923\n",
            "Epoch 187/3000\n",
            "21/21 [==============================] - 3s 162ms/step - loss: 0.0344 - accuracy: 0.9906 - val_loss: 0.0542 - val_accuracy: 0.9928\n",
            "Epoch 188/3000\n",
            "21/21 [==============================] - 3s 162ms/step - loss: 0.0395 - accuracy: 0.9899 - val_loss: 0.0597 - val_accuracy: 0.9925\n",
            "Epoch 189/3000\n",
            "21/21 [==============================] - 3s 162ms/step - loss: 0.0333 - accuracy: 0.9904 - val_loss: 0.0604 - val_accuracy: 0.9928\n",
            "Epoch 190/3000\n",
            "21/21 [==============================] - 3s 162ms/step - loss: 0.0317 - accuracy: 0.9921 - val_loss: 0.0599 - val_accuracy: 0.9928\n",
            "Epoch 191/3000\n",
            "21/21 [==============================] - 3s 161ms/step - loss: 0.0336 - accuracy: 0.9911 - val_loss: 0.0630 - val_accuracy: 0.9927\n",
            "Epoch 192/3000\n",
            "21/21 [==============================] - 3s 162ms/step - loss: 0.0376 - accuracy: 0.9910 - val_loss: 0.0562 - val_accuracy: 0.9927\n",
            "Epoch 193/3000\n",
            "21/21 [==============================] - 3s 163ms/step - loss: 0.0309 - accuracy: 0.9919 - val_loss: 0.0514 - val_accuracy: 0.9926\n",
            "Epoch 194/3000\n",
            "21/21 [==============================] - 3s 162ms/step - loss: 0.0360 - accuracy: 0.9913 - val_loss: 0.0577 - val_accuracy: 0.9922\n",
            "Epoch 195/3000\n",
            "21/21 [==============================] - 3s 163ms/step - loss: 0.0424 - accuracy: 0.9903 - val_loss: 0.0571 - val_accuracy: 0.9924\n",
            "Epoch 196/3000\n",
            "21/21 [==============================] - 3s 161ms/step - loss: 0.0308 - accuracy: 0.9917 - val_loss: 0.0562 - val_accuracy: 0.9924\n",
            "Epoch 197/3000\n",
            "21/21 [==============================] - 3s 161ms/step - loss: 0.0353 - accuracy: 0.9909 - val_loss: 0.0514 - val_accuracy: 0.9926\n",
            "Epoch 198/3000\n",
            "21/21 [==============================] - 3s 161ms/step - loss: 0.0386 - accuracy: 0.9902 - val_loss: 0.0574 - val_accuracy: 0.9924\n",
            "Epoch 199/3000\n",
            "21/21 [==============================] - 3s 162ms/step - loss: 0.0470 - accuracy: 0.9901 - val_loss: 0.0488 - val_accuracy: 0.9927\n",
            "Epoch 200/3000\n",
            "21/21 [==============================] - 3s 162ms/step - loss: 0.0325 - accuracy: 0.9917 - val_loss: 0.0481 - val_accuracy: 0.9924\n",
            "Epoch 201/3000\n",
            "21/21 [==============================] - 3s 161ms/step - loss: 0.0350 - accuracy: 0.9909 - val_loss: 0.0479 - val_accuracy: 0.9924\n",
            "Epoch 202/3000\n",
            "21/21 [==============================] - 3s 161ms/step - loss: 0.0351 - accuracy: 0.9908 - val_loss: 0.0558 - val_accuracy: 0.9923\n",
            "Epoch 203/3000\n",
            "21/21 [==============================] - 3s 163ms/step - loss: 0.0359 - accuracy: 0.9914 - val_loss: 0.0540 - val_accuracy: 0.9916\n",
            "Epoch 204/3000\n",
            "21/21 [==============================] - 3s 162ms/step - loss: 0.0402 - accuracy: 0.9891 - val_loss: 0.0563 - val_accuracy: 0.9921\n",
            "Epoch 205/3000\n",
            "21/21 [==============================] - 3s 162ms/step - loss: 0.0340 - accuracy: 0.9901 - val_loss: 0.0506 - val_accuracy: 0.9926\n",
            "Epoch 206/3000\n",
            "21/21 [==============================] - 3s 161ms/step - loss: 0.0328 - accuracy: 0.9906 - val_loss: 0.0647 - val_accuracy: 0.9913\n",
            "Epoch 207/3000\n",
            "21/21 [==============================] - 3s 161ms/step - loss: 0.0398 - accuracy: 0.9903 - val_loss: 0.0544 - val_accuracy: 0.9927\n",
            "Epoch 208/3000\n",
            "21/21 [==============================] - 3s 162ms/step - loss: 0.0314 - accuracy: 0.9907 - val_loss: 0.0541 - val_accuracy: 0.9922\n",
            "Epoch 209/3000\n",
            "21/21 [==============================] - 3s 162ms/step - loss: 0.0344 - accuracy: 0.9913 - val_loss: 0.0545 - val_accuracy: 0.9919\n",
            "Epoch 210/3000\n",
            "21/21 [==============================] - 3s 161ms/step - loss: 0.0343 - accuracy: 0.9905 - val_loss: 0.0541 - val_accuracy: 0.9923\n",
            "Epoch 211/3000\n",
            "21/21 [==============================] - 3s 162ms/step - loss: 0.0377 - accuracy: 0.9906 - val_loss: 0.0526 - val_accuracy: 0.9918\n",
            "Epoch 212/3000\n",
            "21/21 [==============================] - 3s 161ms/step - loss: 0.0329 - accuracy: 0.9916 - val_loss: 0.0594 - val_accuracy: 0.9917\n",
            "Epoch 213/3000\n",
            "21/21 [==============================] - 3s 162ms/step - loss: 0.0349 - accuracy: 0.9909 - val_loss: 0.0604 - val_accuracy: 0.9924\n",
            "Epoch 214/3000\n",
            "21/21 [==============================] - 3s 162ms/step - loss: 0.0368 - accuracy: 0.9902 - val_loss: 0.0574 - val_accuracy: 0.9923\n",
            "Epoch 215/3000\n",
            "21/21 [==============================] - 3s 161ms/step - loss: 0.0327 - accuracy: 0.9908 - val_loss: 0.0595 - val_accuracy: 0.9927\n",
            "Epoch 216/3000\n",
            "21/21 [==============================] - 3s 162ms/step - loss: 0.0357 - accuracy: 0.9913 - val_loss: 0.0513 - val_accuracy: 0.9928\n",
            "Epoch 217/3000\n",
            "21/21 [==============================] - 3s 162ms/step - loss: 0.0322 - accuracy: 0.9914 - val_loss: 0.0477 - val_accuracy: 0.9925\n",
            "Epoch 218/3000\n",
            "21/21 [==============================] - 3s 162ms/step - loss: 0.0343 - accuracy: 0.9914 - val_loss: 0.0602 - val_accuracy: 0.9922\n",
            "Epoch 219/3000\n",
            "21/21 [==============================] - 3s 163ms/step - loss: 0.0398 - accuracy: 0.9903 - val_loss: 0.0583 - val_accuracy: 0.9922\n",
            "Epoch 220/3000\n",
            "21/21 [==============================] - 3s 163ms/step - loss: 0.0354 - accuracy: 0.9903 - val_loss: 0.0544 - val_accuracy: 0.9924\n",
            "Epoch 221/3000\n",
            "21/21 [==============================] - 3s 161ms/step - loss: 0.0348 - accuracy: 0.9910 - val_loss: 0.0497 - val_accuracy: 0.9929\n",
            "Epoch 222/3000\n",
            "21/21 [==============================] - 3s 162ms/step - loss: 0.0374 - accuracy: 0.9903 - val_loss: 0.0576 - val_accuracy: 0.9926\n",
            "Epoch 223/3000\n",
            "21/21 [==============================] - 3s 163ms/step - loss: 0.0340 - accuracy: 0.9907 - val_loss: 0.0588 - val_accuracy: 0.9924\n",
            "Epoch 224/3000\n",
            "21/21 [==============================] - 3s 162ms/step - loss: 0.0397 - accuracy: 0.9902 - val_loss: 0.0634 - val_accuracy: 0.9926\n",
            "Epoch 225/3000\n",
            "21/21 [==============================] - 3s 162ms/step - loss: 0.0418 - accuracy: 0.9897 - val_loss: 0.0557 - val_accuracy: 0.9920\n",
            "Epoch 226/3000\n",
            "21/21 [==============================] - 3s 162ms/step - loss: 0.0383 - accuracy: 0.9903 - val_loss: 0.0641 - val_accuracy: 0.9922\n",
            "Epoch 227/3000\n",
            "21/21 [==============================] - 3s 163ms/step - loss: 0.0373 - accuracy: 0.9907 - val_loss: 0.0534 - val_accuracy: 0.9926\n",
            "Epoch 228/3000\n",
            "21/21 [==============================] - 3s 163ms/step - loss: 0.0380 - accuracy: 0.9909 - val_loss: 0.0510 - val_accuracy: 0.9921\n",
            "Epoch 229/3000\n",
            "21/21 [==============================] - 3s 163ms/step - loss: 0.0351 - accuracy: 0.9911 - val_loss: 0.0521 - val_accuracy: 0.9922\n",
            "Epoch 230/3000\n",
            "21/21 [==============================] - 3s 162ms/step - loss: 0.0301 - accuracy: 0.9923 - val_loss: 0.0472 - val_accuracy: 0.9925\n",
            "Epoch 231/3000\n",
            "21/21 [==============================] - 3s 163ms/step - loss: 0.0352 - accuracy: 0.9917 - val_loss: 0.0489 - val_accuracy: 0.9913\n",
            "Epoch 232/3000\n",
            "21/21 [==============================] - 3s 163ms/step - loss: 0.0337 - accuracy: 0.9908 - val_loss: 0.0462 - val_accuracy: 0.9916\n",
            "Epoch 233/3000\n",
            "21/21 [==============================] - 3s 163ms/step - loss: 0.0368 - accuracy: 0.9900 - val_loss: 0.0476 - val_accuracy: 0.9923\n",
            "Epoch 234/3000\n",
            "21/21 [==============================] - 3s 163ms/step - loss: 0.0379 - accuracy: 0.9904 - val_loss: 0.0588 - val_accuracy: 0.9926\n",
            "Epoch 235/3000\n",
            "21/21 [==============================] - 3s 163ms/step - loss: 0.0347 - accuracy: 0.9907 - val_loss: 0.0577 - val_accuracy: 0.9912\n",
            "Epoch 236/3000\n",
            "21/21 [==============================] - 3s 163ms/step - loss: 0.0314 - accuracy: 0.9916 - val_loss: 0.0503 - val_accuracy: 0.9928\n",
            "Epoch 237/3000\n",
            "21/21 [==============================] - 3s 163ms/step - loss: 0.0343 - accuracy: 0.9920 - val_loss: 0.0515 - val_accuracy: 0.9921\n",
            "Epoch 238/3000\n",
            "21/21 [==============================] - 3s 163ms/step - loss: 0.0346 - accuracy: 0.9905 - val_loss: 0.0551 - val_accuracy: 0.9922\n",
            "Epoch 239/3000\n",
            "21/21 [==============================] - 3s 162ms/step - loss: 0.0340 - accuracy: 0.9913 - val_loss: 0.0540 - val_accuracy: 0.9927\n",
            "Epoch 240/3000\n",
            "21/21 [==============================] - 3s 162ms/step - loss: 0.0322 - accuracy: 0.9903 - val_loss: 0.0565 - val_accuracy: 0.9928\n",
            "Epoch 241/3000\n",
            "21/21 [==============================] - 3s 161ms/step - loss: 0.0365 - accuracy: 0.9907 - val_loss: 0.0582 - val_accuracy: 0.9922\n",
            "Epoch 242/3000\n",
            "21/21 [==============================] - 3s 162ms/step - loss: 0.0369 - accuracy: 0.9917 - val_loss: 0.0508 - val_accuracy: 0.9924\n",
            "Epoch 243/3000\n",
            "21/21 [==============================] - 3s 162ms/step - loss: 0.0370 - accuracy: 0.9908 - val_loss: 0.0527 - val_accuracy: 0.9929\n",
            "Epoch 244/3000\n",
            "21/21 [==============================] - 3s 162ms/step - loss: 0.0389 - accuracy: 0.9903 - val_loss: 0.0557 - val_accuracy: 0.9926\n",
            "Epoch 245/3000\n",
            "21/21 [==============================] - 3s 162ms/step - loss: 0.0348 - accuracy: 0.9910 - val_loss: 0.0489 - val_accuracy: 0.9924\n",
            "Epoch 246/3000\n",
            "21/21 [==============================] - 3s 162ms/step - loss: 0.0288 - accuracy: 0.9925 - val_loss: 0.0561 - val_accuracy: 0.9926\n",
            "Epoch 247/3000\n",
            "21/21 [==============================] - 3s 163ms/step - loss: 0.0384 - accuracy: 0.9900 - val_loss: 0.0550 - val_accuracy: 0.9927\n",
            "Epoch 248/3000\n",
            "21/21 [==============================] - 3s 163ms/step - loss: 0.0370 - accuracy: 0.9901 - val_loss: 0.0540 - val_accuracy: 0.9927\n",
            "Epoch 249/3000\n",
            "21/21 [==============================] - 3s 163ms/step - loss: 0.0340 - accuracy: 0.9915 - val_loss: 0.0517 - val_accuracy: 0.9929\n",
            "Epoch 250/3000\n",
            "21/21 [==============================] - 3s 163ms/step - loss: 0.0345 - accuracy: 0.9911 - val_loss: 0.0696 - val_accuracy: 0.9926\n",
            "Epoch 251/3000\n",
            "21/21 [==============================] - 3s 161ms/step - loss: 0.0433 - accuracy: 0.9903 - val_loss: 0.0513 - val_accuracy: 0.9916\n",
            "Epoch 252/3000\n",
            "21/21 [==============================] - 3s 160ms/step - loss: 0.0408 - accuracy: 0.9894 - val_loss: 0.0515 - val_accuracy: 0.9919\n",
            "Epoch 253/3000\n",
            "21/21 [==============================] - 3s 162ms/step - loss: 0.0383 - accuracy: 0.9898 - val_loss: 0.0528 - val_accuracy: 0.9928\n",
            "Epoch 254/3000\n",
            "21/21 [==============================] - 3s 163ms/step - loss: 0.0327 - accuracy: 0.9912 - val_loss: 0.0537 - val_accuracy: 0.9922\n",
            "Epoch 255/3000\n",
            "21/21 [==============================] - 3s 163ms/step - loss: 0.0342 - accuracy: 0.9909 - val_loss: 0.0532 - val_accuracy: 0.9915\n",
            "Epoch 256/3000\n",
            "21/21 [==============================] - 3s 163ms/step - loss: 0.0359 - accuracy: 0.9902 - val_loss: 0.0531 - val_accuracy: 0.9927\n",
            "Epoch 257/3000\n",
            "21/21 [==============================] - 3s 163ms/step - loss: 0.0365 - accuracy: 0.9913 - val_loss: 0.0492 - val_accuracy: 0.9926\n",
            "Epoch 258/3000\n",
            "21/21 [==============================] - 3s 163ms/step - loss: 0.0354 - accuracy: 0.9901 - val_loss: 0.0630 - val_accuracy: 0.9928\n",
            "Epoch 259/3000\n",
            "21/21 [==============================] - 3s 162ms/step - loss: 0.0383 - accuracy: 0.9901 - val_loss: 0.0566 - val_accuracy: 0.9927\n",
            "Epoch 260/3000\n",
            "21/21 [==============================] - 3s 163ms/step - loss: 0.0359 - accuracy: 0.9910 - val_loss: 0.0573 - val_accuracy: 0.9928\n",
            "Epoch 261/3000\n",
            "21/21 [==============================] - 3s 162ms/step - loss: 0.0335 - accuracy: 0.9916 - val_loss: 0.0587 - val_accuracy: 0.9921\n",
            "Epoch 262/3000\n",
            "21/21 [==============================] - 3s 162ms/step - loss: 0.0412 - accuracy: 0.9897 - val_loss: 0.0500 - val_accuracy: 0.9929\n",
            "Epoch 263/3000\n",
            "21/21 [==============================] - 3s 163ms/step - loss: 0.0380 - accuracy: 0.9907 - val_loss: 0.0541 - val_accuracy: 0.9926\n",
            "Epoch 264/3000\n",
            "21/21 [==============================] - 3s 164ms/step - loss: 0.0341 - accuracy: 0.9907 - val_loss: 0.0613 - val_accuracy: 0.9918\n",
            "Epoch 265/3000\n",
            "21/21 [==============================] - 3s 162ms/step - loss: 0.0335 - accuracy: 0.9907 - val_loss: 0.0571 - val_accuracy: 0.9919\n",
            "Epoch 266/3000\n",
            "21/21 [==============================] - 3s 164ms/step - loss: 0.0351 - accuracy: 0.9908 - val_loss: 0.0543 - val_accuracy: 0.9921\n",
            "Epoch 267/3000\n",
            "21/21 [==============================] - 3s 162ms/step - loss: 0.0326 - accuracy: 0.9913 - val_loss: 0.0566 - val_accuracy: 0.9922\n",
            "Epoch 268/3000\n",
            "21/21 [==============================] - 3s 162ms/step - loss: 0.0339 - accuracy: 0.9916 - val_loss: 0.0572 - val_accuracy: 0.9916\n",
            "Epoch 269/3000\n",
            "21/21 [==============================] - 3s 162ms/step - loss: 0.0355 - accuracy: 0.9912 - val_loss: 0.0458 - val_accuracy: 0.9926\n",
            "Epoch 270/3000\n",
            "21/21 [==============================] - 3s 163ms/step - loss: 0.0343 - accuracy: 0.9908 - val_loss: 0.0494 - val_accuracy: 0.9921\n",
            "Epoch 271/3000\n",
            "21/21 [==============================] - 3s 162ms/step - loss: 0.0356 - accuracy: 0.9912 - val_loss: 0.0507 - val_accuracy: 0.9927\n",
            "Epoch 272/3000\n",
            "21/21 [==============================] - 3s 161ms/step - loss: 0.0327 - accuracy: 0.9919 - val_loss: 0.0588 - val_accuracy: 0.9929\n",
            "Epoch 273/3000\n",
            "21/21 [==============================] - 3s 163ms/step - loss: 0.0320 - accuracy: 0.9914 - val_loss: 0.0520 - val_accuracy: 0.9928\n",
            "Epoch 274/3000\n",
            "21/21 [==============================] - 3s 162ms/step - loss: 0.0374 - accuracy: 0.9908 - val_loss: 0.0538 - val_accuracy: 0.9921\n",
            "Epoch 275/3000\n",
            "21/21 [==============================] - 3s 163ms/step - loss: 0.0376 - accuracy: 0.9905 - val_loss: 0.0536 - val_accuracy: 0.9929\n",
            "Epoch 276/3000\n",
            "21/21 [==============================] - 3s 163ms/step - loss: 0.0390 - accuracy: 0.9903 - val_loss: 0.0579 - val_accuracy: 0.9931\n",
            "Epoch 277/3000\n",
            "21/21 [==============================] - 3s 162ms/step - loss: 0.0351 - accuracy: 0.9911 - val_loss: 0.0527 - val_accuracy: 0.9924\n",
            "Epoch 278/3000\n",
            "21/21 [==============================] - 3s 162ms/step - loss: 0.0352 - accuracy: 0.9914 - val_loss: 0.0590 - val_accuracy: 0.9927\n",
            "Epoch 279/3000\n",
            "21/21 [==============================] - 3s 164ms/step - loss: 0.0307 - accuracy: 0.9912 - val_loss: 0.0548 - val_accuracy: 0.9932\n",
            "Epoch 280/3000\n",
            "21/21 [==============================] - 3s 162ms/step - loss: 0.0326 - accuracy: 0.9918 - val_loss: 0.0510 - val_accuracy: 0.9924\n",
            "Epoch 281/3000\n",
            "21/21 [==============================] - 3s 163ms/step - loss: 0.0359 - accuracy: 0.9907 - val_loss: 0.0507 - val_accuracy: 0.9921\n",
            "Epoch 282/3000\n",
            "21/21 [==============================] - 3s 163ms/step - loss: 0.0331 - accuracy: 0.9908 - val_loss: 0.0477 - val_accuracy: 0.9917\n",
            "Epoch 283/3000\n",
            "21/21 [==============================] - 3s 163ms/step - loss: 0.0357 - accuracy: 0.9903 - val_loss: 0.0452 - val_accuracy: 0.9926\n",
            "Epoch 284/3000\n",
            "21/21 [==============================] - 3s 162ms/step - loss: 0.0387 - accuracy: 0.9910 - val_loss: 0.0429 - val_accuracy: 0.9927\n",
            "Epoch 285/3000\n",
            "21/21 [==============================] - 3s 163ms/step - loss: 0.0340 - accuracy: 0.9913 - val_loss: 0.0552 - val_accuracy: 0.9918\n",
            "Epoch 286/3000\n",
            "21/21 [==============================] - 3s 160ms/step - loss: 0.0348 - accuracy: 0.9908 - val_loss: 0.0506 - val_accuracy: 0.9922\n",
            "Epoch 287/3000\n",
            "21/21 [==============================] - 3s 161ms/step - loss: 0.0364 - accuracy: 0.9907 - val_loss: 0.0558 - val_accuracy: 0.9919\n",
            "Epoch 288/3000\n",
            "21/21 [==============================] - 3s 163ms/step - loss: 0.0355 - accuracy: 0.9909 - val_loss: 0.0514 - val_accuracy: 0.9925\n",
            "Epoch 289/3000\n",
            "21/21 [==============================] - 3s 163ms/step - loss: 0.0307 - accuracy: 0.9920 - val_loss: 0.0480 - val_accuracy: 0.9922\n",
            "Epoch 290/3000\n",
            "21/21 [==============================] - 3s 162ms/step - loss: 0.0332 - accuracy: 0.9915 - val_loss: 0.0536 - val_accuracy: 0.9922\n",
            "Epoch 291/3000\n",
            "21/21 [==============================] - 3s 162ms/step - loss: 0.0304 - accuracy: 0.9916 - val_loss: 0.0480 - val_accuracy: 0.9918\n",
            "Epoch 292/3000\n",
            "21/21 [==============================] - 3s 162ms/step - loss: 0.0357 - accuracy: 0.9908 - val_loss: 0.0485 - val_accuracy: 0.9916\n",
            "Epoch 293/3000\n",
            "21/21 [==============================] - 3s 163ms/step - loss: 0.0406 - accuracy: 0.9914 - val_loss: 0.0516 - val_accuracy: 0.9923\n",
            "Epoch 294/3000\n",
            "21/21 [==============================] - 3s 164ms/step - loss: 0.0356 - accuracy: 0.9902 - val_loss: 0.0538 - val_accuracy: 0.9923\n",
            "Epoch 295/3000\n",
            "21/21 [==============================] - 3s 163ms/step - loss: 0.0353 - accuracy: 0.9914 - val_loss: 0.0537 - val_accuracy: 0.9923\n",
            "Epoch 296/3000\n",
            "21/21 [==============================] - 3s 161ms/step - loss: 0.0347 - accuracy: 0.9897 - val_loss: 0.0467 - val_accuracy: 0.9932\n",
            "Epoch 297/3000\n",
            "21/21 [==============================] - 3s 163ms/step - loss: 0.0342 - accuracy: 0.9910 - val_loss: 0.0515 - val_accuracy: 0.9931\n",
            "Epoch 298/3000\n",
            "21/21 [==============================] - 3s 162ms/step - loss: 0.0351 - accuracy: 0.9910 - val_loss: 0.0481 - val_accuracy: 0.9928\n",
            "Epoch 299/3000\n",
            "21/21 [==============================] - 3s 161ms/step - loss: 0.0342 - accuracy: 0.9917 - val_loss: 0.0494 - val_accuracy: 0.9926\n",
            "Epoch 300/3000\n",
            "21/21 [==============================] - 3s 163ms/step - loss: 0.0393 - accuracy: 0.9892 - val_loss: 0.0503 - val_accuracy: 0.9920\n",
            "Epoch 301/3000\n",
            "21/21 [==============================] - 3s 163ms/step - loss: 0.0425 - accuracy: 0.9900 - val_loss: 0.0464 - val_accuracy: 0.9918\n",
            "Epoch 302/3000\n",
            "21/21 [==============================] - 3s 163ms/step - loss: 0.0323 - accuracy: 0.9919 - val_loss: 0.0553 - val_accuracy: 0.9924\n",
            "Epoch 303/3000\n",
            "21/21 [==============================] - 3s 162ms/step - loss: 0.0354 - accuracy: 0.9910 - val_loss: 0.0527 - val_accuracy: 0.9919\n",
            "Epoch 304/3000\n",
            "21/21 [==============================] - 3s 162ms/step - loss: 0.0378 - accuracy: 0.9908 - val_loss: 0.0561 - val_accuracy: 0.9913\n",
            "Epoch 305/3000\n",
            "21/21 [==============================] - 3s 163ms/step - loss: 0.0412 - accuracy: 0.9904 - val_loss: 0.0535 - val_accuracy: 0.9926\n",
            "Epoch 306/3000\n",
            "21/21 [==============================] - 3s 162ms/step - loss: 0.0357 - accuracy: 0.9899 - val_loss: 0.0508 - val_accuracy: 0.9926\n",
            "Epoch 307/3000\n",
            "21/21 [==============================] - 3s 164ms/step - loss: 0.0362 - accuracy: 0.9910 - val_loss: 0.0554 - val_accuracy: 0.9929\n",
            "Epoch 308/3000\n",
            "21/21 [==============================] - 3s 164ms/step - loss: 0.0352 - accuracy: 0.9909 - val_loss: 0.0443 - val_accuracy: 0.9926\n",
            "Epoch 309/3000\n",
            "21/21 [==============================] - 3s 163ms/step - loss: 0.0376 - accuracy: 0.9910 - val_loss: 0.0498 - val_accuracy: 0.9928\n",
            "Epoch 310/3000\n",
            "21/21 [==============================] - 3s 163ms/step - loss: 0.0337 - accuracy: 0.9912 - val_loss: 0.0471 - val_accuracy: 0.9923\n",
            "Epoch 311/3000\n",
            "21/21 [==============================] - 3s 162ms/step - loss: 0.0316 - accuracy: 0.9915 - val_loss: 0.0540 - val_accuracy: 0.9919\n",
            "Epoch 312/3000\n",
            "21/21 [==============================] - 3s 162ms/step - loss: 0.0357 - accuracy: 0.9908 - val_loss: 0.0510 - val_accuracy: 0.9919\n",
            "Epoch 313/3000\n",
            "21/21 [==============================] - 3s 163ms/step - loss: 0.0362 - accuracy: 0.9912 - val_loss: 0.0582 - val_accuracy: 0.9926\n",
            "Epoch 314/3000\n",
            "21/21 [==============================] - 3s 164ms/step - loss: 0.0352 - accuracy: 0.9905 - val_loss: 0.0487 - val_accuracy: 0.9923\n",
            "Epoch 315/3000\n",
            "21/21 [==============================] - 3s 163ms/step - loss: 0.0325 - accuracy: 0.9912 - val_loss: 0.0446 - val_accuracy: 0.9936\n",
            "Epoch 316/3000\n",
            "21/21 [==============================] - 3s 163ms/step - loss: 0.0325 - accuracy: 0.9912 - val_loss: 0.0489 - val_accuracy: 0.9928\n",
            "Epoch 317/3000\n",
            "21/21 [==============================] - 3s 162ms/step - loss: 0.0346 - accuracy: 0.9912 - val_loss: 0.0538 - val_accuracy: 0.9925\n",
            "Epoch 318/3000\n",
            "21/21 [==============================] - 3s 164ms/step - loss: 0.0378 - accuracy: 0.9906 - val_loss: 0.0650 - val_accuracy: 0.9918\n",
            "Epoch 319/3000\n",
            "21/21 [==============================] - 3s 163ms/step - loss: 0.0352 - accuracy: 0.9908 - val_loss: 0.0496 - val_accuracy: 0.9924\n",
            "Epoch 320/3000\n",
            "21/21 [==============================] - 3s 163ms/step - loss: 0.0323 - accuracy: 0.9914 - val_loss: 0.0493 - val_accuracy: 0.9931\n",
            "Epoch 321/3000\n",
            "21/21 [==============================] - 3s 162ms/step - loss: 0.0349 - accuracy: 0.9917 - val_loss: 0.0497 - val_accuracy: 0.9924\n",
            "Epoch 322/3000\n",
            "21/21 [==============================] - 3s 163ms/step - loss: 0.0367 - accuracy: 0.9912 - val_loss: 0.0453 - val_accuracy: 0.9931\n",
            "Epoch 323/3000\n",
            "21/21 [==============================] - 3s 163ms/step - loss: 0.0361 - accuracy: 0.9915 - val_loss: 0.0564 - val_accuracy: 0.9928\n",
            "Epoch 324/3000\n",
            "21/21 [==============================] - 3s 163ms/step - loss: 0.0317 - accuracy: 0.9907 - val_loss: 0.0487 - val_accuracy: 0.9923\n",
            "Epoch 325/3000\n",
            "21/21 [==============================] - 3s 163ms/step - loss: 0.0318 - accuracy: 0.9928 - val_loss: 0.0511 - val_accuracy: 0.9930\n",
            "Epoch 326/3000\n",
            "21/21 [==============================] - 3s 163ms/step - loss: 0.0341 - accuracy: 0.9903 - val_loss: 0.0538 - val_accuracy: 0.9927\n",
            "Epoch 327/3000\n",
            "21/21 [==============================] - 3s 163ms/step - loss: 0.0334 - accuracy: 0.9913 - val_loss: 0.0478 - val_accuracy: 0.9924\n",
            "Epoch 328/3000\n",
            "21/21 [==============================] - 3s 162ms/step - loss: 0.0368 - accuracy: 0.9899 - val_loss: 0.0450 - val_accuracy: 0.9924\n",
            "Epoch 329/3000\n",
            "21/21 [==============================] - 3s 163ms/step - loss: 0.0427 - accuracy: 0.9899 - val_loss: 0.0450 - val_accuracy: 0.9929\n",
            "Epoch 330/3000\n",
            "21/21 [==============================] - 3s 163ms/step - loss: 0.0372 - accuracy: 0.9905 - val_loss: 0.0532 - val_accuracy: 0.9926\n",
            "Epoch 331/3000\n",
            "21/21 [==============================] - 3s 163ms/step - loss: 0.0311 - accuracy: 0.9919 - val_loss: 0.0559 - val_accuracy: 0.9926\n",
            "Epoch 332/3000\n",
            "21/21 [==============================] - 3s 162ms/step - loss: 0.0372 - accuracy: 0.9904 - val_loss: 0.0572 - val_accuracy: 0.9923\n",
            "Epoch 333/3000\n",
            "21/21 [==============================] - 3s 163ms/step - loss: 0.0374 - accuracy: 0.9912 - val_loss: 0.0506 - val_accuracy: 0.9923\n",
            "Epoch 334/3000\n",
            "21/21 [==============================] - 3s 163ms/step - loss: 0.0386 - accuracy: 0.9900 - val_loss: 0.0468 - val_accuracy: 0.9928\n",
            "Epoch 335/3000\n",
            "21/21 [==============================] - 3s 164ms/step - loss: 0.0368 - accuracy: 0.9901 - val_loss: 0.0558 - val_accuracy: 0.9921\n",
            "Epoch 336/3000\n",
            "21/21 [==============================] - 3s 164ms/step - loss: 0.0342 - accuracy: 0.9912 - val_loss: 0.0490 - val_accuracy: 0.9918\n",
            "Epoch 337/3000\n",
            "21/21 [==============================] - 3s 162ms/step - loss: 0.0327 - accuracy: 0.9913 - val_loss: 0.0462 - val_accuracy: 0.9931\n",
            "Epoch 338/3000\n",
            "21/21 [==============================] - 3s 164ms/step - loss: 0.0356 - accuracy: 0.9904 - val_loss: 0.0503 - val_accuracy: 0.9928\n",
            "Epoch 339/3000\n",
            "21/21 [==============================] - 3s 162ms/step - loss: 0.0274 - accuracy: 0.9925 - val_loss: 0.0528 - val_accuracy: 0.9923\n",
            "Epoch 340/3000\n",
            "21/21 [==============================] - 3s 162ms/step - loss: 0.0339 - accuracy: 0.9911 - val_loss: 0.0567 - val_accuracy: 0.9919\n",
            "Epoch 341/3000\n",
            "21/21 [==============================] - 3s 162ms/step - loss: 0.0365 - accuracy: 0.9918 - val_loss: 0.0473 - val_accuracy: 0.9922\n",
            "Epoch 342/3000\n",
            "21/21 [==============================] - 3s 164ms/step - loss: 0.0334 - accuracy: 0.9912 - val_loss: 0.0470 - val_accuracy: 0.9932\n",
            "Epoch 343/3000\n",
            "21/21 [==============================] - 3s 162ms/step - loss: 0.0326 - accuracy: 0.9917 - val_loss: 0.0466 - val_accuracy: 0.9933\n",
            "Epoch 344/3000\n",
            "21/21 [==============================] - 3s 163ms/step - loss: 0.0352 - accuracy: 0.9908 - val_loss: 0.0555 - val_accuracy: 0.9923\n",
            "Epoch 345/3000\n",
            "21/21 [==============================] - 3s 163ms/step - loss: 0.0375 - accuracy: 0.9909 - val_loss: 0.0613 - val_accuracy: 0.9921\n",
            "Epoch 346/3000\n",
            "21/21 [==============================] - 3s 162ms/step - loss: 0.0369 - accuracy: 0.9908 - val_loss: 0.0507 - val_accuracy: 0.9926\n",
            "Epoch 347/3000\n",
            "21/21 [==============================] - 3s 162ms/step - loss: 0.0324 - accuracy: 0.9917 - val_loss: 0.0564 - val_accuracy: 0.9926\n",
            "Epoch 348/3000\n",
            "21/21 [==============================] - 3s 163ms/step - loss: 0.0314 - accuracy: 0.9909 - val_loss: 0.0494 - val_accuracy: 0.9917\n",
            "Epoch 349/3000\n",
            "21/21 [==============================] - 3s 163ms/step - loss: 0.0366 - accuracy: 0.9903 - val_loss: 0.0495 - val_accuracy: 0.9926\n",
            "Epoch 350/3000\n",
            "21/21 [==============================] - 3s 164ms/step - loss: 0.0408 - accuracy: 0.9898 - val_loss: 0.0507 - val_accuracy: 0.9916\n",
            "Epoch 351/3000\n",
            "21/21 [==============================] - 3s 163ms/step - loss: 0.0351 - accuracy: 0.9911 - val_loss: 0.0561 - val_accuracy: 0.9923\n",
            "Epoch 352/3000\n",
            "21/21 [==============================] - 3s 163ms/step - loss: 0.0357 - accuracy: 0.9906 - val_loss: 0.0423 - val_accuracy: 0.9920\n",
            "Epoch 353/3000\n",
            "21/21 [==============================] - 3s 162ms/step - loss: 0.0363 - accuracy: 0.9915 - val_loss: 0.0473 - val_accuracy: 0.9927\n",
            "Epoch 354/3000\n",
            "21/21 [==============================] - 3s 163ms/step - loss: 0.0409 - accuracy: 0.9906 - val_loss: 0.0583 - val_accuracy: 0.9927\n",
            "Epoch 355/3000\n",
            "21/21 [==============================] - 3s 162ms/step - loss: 0.0320 - accuracy: 0.9908 - val_loss: 0.0461 - val_accuracy: 0.9926\n",
            "Epoch 356/3000\n",
            "21/21 [==============================] - 3s 162ms/step - loss: 0.0351 - accuracy: 0.9908 - val_loss: 0.0504 - val_accuracy: 0.9927\n",
            "Epoch 357/3000\n",
            "21/21 [==============================] - 3s 162ms/step - loss: 0.0379 - accuracy: 0.9906 - val_loss: 0.0544 - val_accuracy: 0.9927\n",
            "Epoch 358/3000\n",
            "21/21 [==============================] - 3s 163ms/step - loss: 0.0389 - accuracy: 0.9908 - val_loss: 0.0521 - val_accuracy: 0.9923\n",
            "Epoch 359/3000\n",
            "21/21 [==============================] - 3s 162ms/step - loss: 0.0424 - accuracy: 0.9894 - val_loss: 0.0498 - val_accuracy: 0.9927\n",
            "Epoch 360/3000\n",
            "21/21 [==============================] - 3s 163ms/step - loss: 0.0339 - accuracy: 0.9910 - val_loss: 0.0432 - val_accuracy: 0.9928\n",
            "Epoch 361/3000\n",
            "21/21 [==============================] - 3s 162ms/step - loss: 0.0414 - accuracy: 0.9902 - val_loss: 0.0465 - val_accuracy: 0.9931\n",
            "Epoch 362/3000\n",
            "21/21 [==============================] - 3s 163ms/step - loss: 0.0355 - accuracy: 0.9901 - val_loss: 0.0533 - val_accuracy: 0.9927\n",
            "Epoch 363/3000\n",
            "21/21 [==============================] - 3s 164ms/step - loss: 0.0326 - accuracy: 0.9910 - val_loss: 0.0516 - val_accuracy: 0.9914\n",
            "Epoch 364/3000\n",
            "21/21 [==============================] - 3s 163ms/step - loss: 0.0364 - accuracy: 0.9905 - val_loss: 0.0528 - val_accuracy: 0.9931\n",
            "Epoch 365/3000\n",
            "21/21 [==============================] - 3s 163ms/step - loss: 0.0388 - accuracy: 0.9906 - val_loss: 0.0542 - val_accuracy: 0.9913\n",
            "Epoch 366/3000\n",
            "21/21 [==============================] - 3s 163ms/step - loss: 0.0358 - accuracy: 0.9912 - val_loss: 0.0436 - val_accuracy: 0.9917\n",
            "Epoch 367/3000\n",
            "21/21 [==============================] - 3s 162ms/step - loss: 0.0325 - accuracy: 0.9921 - val_loss: 0.0545 - val_accuracy: 0.9923\n",
            "Epoch 368/3000\n",
            "21/21 [==============================] - 3s 162ms/step - loss: 0.0306 - accuracy: 0.9915 - val_loss: 0.0642 - val_accuracy: 0.9920\n",
            "Epoch 369/3000\n",
            "21/21 [==============================] - 3s 165ms/step - loss: 0.0359 - accuracy: 0.9902 - val_loss: 0.0485 - val_accuracy: 0.9923\n",
            "Epoch 370/3000\n",
            "21/21 [==============================] - 3s 163ms/step - loss: 0.0348 - accuracy: 0.9907 - val_loss: 0.0530 - val_accuracy: 0.9926\n",
            "Epoch 371/3000\n",
            "21/21 [==============================] - 3s 163ms/step - loss: 0.0418 - accuracy: 0.9908 - val_loss: 0.0508 - val_accuracy: 0.9921\n",
            "Epoch 372/3000\n",
            "21/21 [==============================] - 3s 163ms/step - loss: 0.0363 - accuracy: 0.9909 - val_loss: 0.0547 - val_accuracy: 0.9921\n",
            "Epoch 373/3000\n",
            "21/21 [==============================] - 3s 163ms/step - loss: 0.0416 - accuracy: 0.9903 - val_loss: 0.0596 - val_accuracy: 0.9925\n",
            "Epoch 374/3000\n",
            "21/21 [==============================] - 3s 164ms/step - loss: 0.0441 - accuracy: 0.9898 - val_loss: 0.0566 - val_accuracy: 0.9921\n",
            "Epoch 375/3000\n",
            "21/21 [==============================] - 3s 162ms/step - loss: 0.0334 - accuracy: 0.9913 - val_loss: 0.0492 - val_accuracy: 0.9921\n",
            "Epoch 376/3000\n",
            "21/21 [==============================] - 3s 162ms/step - loss: 0.0398 - accuracy: 0.9902 - val_loss: 0.0488 - val_accuracy: 0.9936\n",
            "Epoch 377/3000\n",
            "21/21 [==============================] - 3s 163ms/step - loss: 0.0413 - accuracy: 0.9903 - val_loss: 0.0590 - val_accuracy: 0.9919\n",
            "Epoch 378/3000\n",
            "21/21 [==============================] - 3s 163ms/step - loss: 0.0410 - accuracy: 0.9899 - val_loss: 0.0626 - val_accuracy: 0.9922\n",
            "Epoch 379/3000\n",
            "21/21 [==============================] - 3s 164ms/step - loss: 0.0428 - accuracy: 0.9899 - val_loss: 0.0565 - val_accuracy: 0.9930\n",
            "Epoch 380/3000\n",
            "21/21 [==============================] - 3s 164ms/step - loss: 0.0338 - accuracy: 0.9913 - val_loss: 0.0499 - val_accuracy: 0.9925\n",
            "Epoch 381/3000\n",
            "21/21 [==============================] - 3s 163ms/step - loss: 0.0391 - accuracy: 0.9909 - val_loss: 0.0492 - val_accuracy: 0.9924\n",
            "Epoch 382/3000\n",
            "21/21 [==============================] - 3s 162ms/step - loss: 0.0381 - accuracy: 0.9902 - val_loss: 0.0539 - val_accuracy: 0.9929\n",
            "Epoch 383/3000\n",
            "21/21 [==============================] - 3s 165ms/step - loss: 0.0314 - accuracy: 0.9916 - val_loss: 0.0493 - val_accuracy: 0.9925\n",
            "Epoch 384/3000\n",
            "21/21 [==============================] - 3s 163ms/step - loss: 0.0340 - accuracy: 0.9910 - val_loss: 0.0555 - val_accuracy: 0.9919\n",
            "Epoch 385/3000\n",
            "21/21 [==============================] - 3s 161ms/step - loss: 0.0358 - accuracy: 0.9907 - val_loss: 0.0519 - val_accuracy: 0.9924\n",
            "Epoch 386/3000\n",
            "21/21 [==============================] - 3s 164ms/step - loss: 0.0355 - accuracy: 0.9910 - val_loss: 0.0650 - val_accuracy: 0.9928\n",
            "Epoch 387/3000\n",
            "21/21 [==============================] - 3s 164ms/step - loss: 0.0338 - accuracy: 0.9903 - val_loss: 0.0457 - val_accuracy: 0.9917\n",
            "Epoch 388/3000\n",
            "21/21 [==============================] - 3s 163ms/step - loss: 0.0402 - accuracy: 0.9894 - val_loss: 0.0454 - val_accuracy: 0.9928\n",
            "Epoch 389/3000\n",
            "21/21 [==============================] - 3s 162ms/step - loss: 0.0367 - accuracy: 0.9906 - val_loss: 0.0599 - val_accuracy: 0.9921\n",
            "Epoch 390/3000\n",
            "21/21 [==============================] - 3s 164ms/step - loss: 0.0372 - accuracy: 0.9911 - val_loss: 0.0493 - val_accuracy: 0.9930\n",
            "Epoch 391/3000\n",
            "21/21 [==============================] - 3s 163ms/step - loss: 0.0321 - accuracy: 0.9920 - val_loss: 0.0636 - val_accuracy: 0.9912\n",
            "Epoch 392/3000\n",
            "21/21 [==============================] - 3s 163ms/step - loss: 0.0387 - accuracy: 0.9905 - val_loss: 0.0469 - val_accuracy: 0.9924\n",
            "Epoch 393/3000\n",
            "21/21 [==============================] - 3s 162ms/step - loss: 0.0376 - accuracy: 0.9908 - val_loss: 0.0523 - val_accuracy: 0.9918\n",
            "Epoch 394/3000\n",
            "21/21 [==============================] - 3s 163ms/step - loss: 0.0387 - accuracy: 0.9898 - val_loss: 0.0495 - val_accuracy: 0.9924\n",
            "Epoch 395/3000\n",
            "21/21 [==============================] - 3s 162ms/step - loss: 0.0434 - accuracy: 0.9897 - val_loss: 0.0455 - val_accuracy: 0.9930\n",
            "Epoch 396/3000\n",
            "21/21 [==============================] - 3s 164ms/step - loss: 0.0336 - accuracy: 0.9911 - val_loss: 0.0495 - val_accuracy: 0.9932\n",
            "Epoch 397/3000\n",
            "21/21 [==============================] - 3s 164ms/step - loss: 0.0340 - accuracy: 0.9908 - val_loss: 0.0568 - val_accuracy: 0.9927\n",
            "Epoch 398/3000\n",
            "21/21 [==============================] - 3s 163ms/step - loss: 0.0394 - accuracy: 0.9898 - val_loss: 0.0523 - val_accuracy: 0.9929\n",
            "Epoch 399/3000\n",
            "21/21 [==============================] - 3s 162ms/step - loss: 0.0362 - accuracy: 0.9904 - val_loss: 0.0486 - val_accuracy: 0.9912\n",
            "Epoch 400/3000\n",
            "21/21 [==============================] - 3s 165ms/step - loss: 0.0349 - accuracy: 0.9906 - val_loss: 0.0457 - val_accuracy: 0.9926\n",
            "Epoch 401/3000\n",
            "21/21 [==============================] - 3s 163ms/step - loss: 0.0327 - accuracy: 0.9918 - val_loss: 0.0536 - val_accuracy: 0.9923\n",
            "Epoch 402/3000\n",
            "21/21 [==============================] - 3s 164ms/step - loss: 0.0370 - accuracy: 0.9910 - val_loss: 0.0644 - val_accuracy: 0.9931\n",
            "Epoch 403/3000\n",
            "21/21 [==============================] - 3s 164ms/step - loss: 0.0377 - accuracy: 0.9911 - val_loss: 0.0538 - val_accuracy: 0.9933\n",
            "Epoch 404/3000\n",
            "21/21 [==============================] - 3s 163ms/step - loss: 0.0362 - accuracy: 0.9920 - val_loss: 0.0460 - val_accuracy: 0.9929\n",
            "Epoch 405/3000\n",
            "21/21 [==============================] - 3s 162ms/step - loss: 0.0321 - accuracy: 0.9915 - val_loss: 0.0536 - val_accuracy: 0.9931\n",
            "Epoch 406/3000\n",
            "21/21 [==============================] - 3s 164ms/step - loss: 0.0410 - accuracy: 0.9902 - val_loss: 0.0571 - val_accuracy: 0.9930\n",
            "Epoch 407/3000\n",
            "21/21 [==============================] - 3s 165ms/step - loss: 0.0358 - accuracy: 0.9899 - val_loss: 0.0506 - val_accuracy: 0.9926\n",
            "Epoch 408/3000\n",
            "21/21 [==============================] - 3s 163ms/step - loss: 0.0371 - accuracy: 0.9906 - val_loss: 0.0458 - val_accuracy: 0.9925\n",
            "Epoch 409/3000\n",
            "21/21 [==============================] - 3s 164ms/step - loss: 0.0418 - accuracy: 0.9894 - val_loss: 0.0497 - val_accuracy: 0.9927\n",
            "Epoch 410/3000\n",
            "21/21 [==============================] - 3s 162ms/step - loss: 0.0337 - accuracy: 0.9912 - val_loss: 0.0477 - val_accuracy: 0.9929\n",
            "Epoch 411/3000\n",
            "21/21 [==============================] - 3s 163ms/step - loss: 0.0315 - accuracy: 0.9915 - val_loss: 0.0528 - val_accuracy: 0.9929\n",
            "Epoch 412/3000\n",
            "21/21 [==============================] - 3s 164ms/step - loss: 0.0368 - accuracy: 0.9897 - val_loss: 0.0473 - val_accuracy: 0.9919\n",
            "Epoch 413/3000\n",
            "21/21 [==============================] - 3s 163ms/step - loss: 0.0350 - accuracy: 0.9904 - val_loss: 0.0510 - val_accuracy: 0.9912\n",
            "Epoch 414/3000\n",
            "21/21 [==============================] - 3s 162ms/step - loss: 0.0401 - accuracy: 0.9898 - val_loss: 0.0481 - val_accuracy: 0.9916\n",
            "Epoch 415/3000\n",
            "21/21 [==============================] - 3s 164ms/step - loss: 0.0362 - accuracy: 0.9908 - val_loss: 0.0496 - val_accuracy: 0.9918\n",
            "Epoch 416/3000\n",
            "21/21 [==============================] - 3s 165ms/step - loss: 0.0352 - accuracy: 0.9911 - val_loss: 0.0538 - val_accuracy: 0.9927\n",
            "Epoch 417/3000\n",
            "21/21 [==============================] - 3s 162ms/step - loss: 0.0375 - accuracy: 0.9902 - val_loss: 0.0529 - val_accuracy: 0.9929\n",
            "Epoch 418/3000\n",
            "21/21 [==============================] - 3s 162ms/step - loss: 0.0352 - accuracy: 0.9922 - val_loss: 0.0504 - val_accuracy: 0.9927\n",
            "Epoch 419/3000\n",
            "21/21 [==============================] - 3s 163ms/step - loss: 0.0350 - accuracy: 0.9912 - val_loss: 0.0505 - val_accuracy: 0.9923\n",
            "Epoch 420/3000\n",
            "21/21 [==============================] - 3s 163ms/step - loss: 0.0320 - accuracy: 0.9920 - val_loss: 0.0491 - val_accuracy: 0.9922\n",
            "Epoch 421/3000\n",
            "21/21 [==============================] - 3s 163ms/step - loss: 0.0378 - accuracy: 0.9896 - val_loss: 0.0478 - val_accuracy: 0.9909\n",
            "Epoch 422/3000\n",
            "21/21 [==============================] - 3s 164ms/step - loss: 0.0392 - accuracy: 0.9915 - val_loss: 0.0541 - val_accuracy: 0.9927\n",
            "Epoch 423/3000\n",
            "21/21 [==============================] - 3s 165ms/step - loss: 0.0374 - accuracy: 0.9905 - val_loss: 0.0534 - val_accuracy: 0.9932\n",
            "Epoch 424/3000\n",
            "21/21 [==============================] - 3s 160ms/step - loss: 0.0344 - accuracy: 0.9916 - val_loss: 0.0550 - val_accuracy: 0.9927\n",
            "Epoch 425/3000\n",
            "21/21 [==============================] - 3s 163ms/step - loss: 0.0435 - accuracy: 0.9901 - val_loss: 0.0481 - val_accuracy: 0.9932\n",
            "Epoch 426/3000\n",
            "21/21 [==============================] - 3s 165ms/step - loss: 0.0320 - accuracy: 0.9915 - val_loss: 0.0561 - val_accuracy: 0.9931\n",
            "Epoch 427/3000\n",
            "21/21 [==============================] - 3s 163ms/step - loss: 0.0278 - accuracy: 0.9923 - val_loss: 0.0482 - val_accuracy: 0.9923\n",
            "Epoch 428/3000\n",
            "21/21 [==============================] - 3s 163ms/step - loss: 0.0408 - accuracy: 0.9905 - val_loss: 0.0533 - val_accuracy: 0.9931\n",
            "Epoch 429/3000\n",
            "21/21 [==============================] - 3s 164ms/step - loss: 0.0405 - accuracy: 0.9905 - val_loss: 0.0559 - val_accuracy: 0.9925\n",
            "Epoch 430/3000\n",
            "21/21 [==============================] - 3s 163ms/step - loss: 0.0360 - accuracy: 0.9909 - val_loss: 0.0428 - val_accuracy: 0.9931\n",
            "Epoch 431/3000\n",
            "21/21 [==============================] - 3s 163ms/step - loss: 0.0325 - accuracy: 0.9914 - val_loss: 0.0531 - val_accuracy: 0.9924\n",
            "Epoch 432/3000\n",
            "21/21 [==============================] - 3s 165ms/step - loss: 0.0344 - accuracy: 0.9909 - val_loss: 0.0545 - val_accuracy: 0.9925\n",
            "Epoch 433/3000\n",
            "21/21 [==============================] - 3s 163ms/step - loss: 0.0299 - accuracy: 0.9923 - val_loss: 0.0462 - val_accuracy: 0.9928\n",
            "Epoch 434/3000\n",
            "21/21 [==============================] - 3s 161ms/step - loss: 0.0350 - accuracy: 0.9913 - val_loss: 0.0426 - val_accuracy: 0.9928\n",
            "Epoch 435/3000\n",
            "21/21 [==============================] - 3s 163ms/step - loss: 0.0348 - accuracy: 0.9915 - val_loss: 0.0527 - val_accuracy: 0.9934\n",
            "Epoch 436/3000\n",
            "21/21 [==============================] - 3s 163ms/step - loss: 0.0409 - accuracy: 0.9912 - val_loss: 0.0527 - val_accuracy: 0.9921\n",
            "Epoch 437/3000\n",
            "21/21 [==============================] - 3s 164ms/step - loss: 0.0362 - accuracy: 0.9915 - val_loss: 0.0492 - val_accuracy: 0.9924\n",
            "Epoch 438/3000\n",
            "21/21 [==============================] - 3s 163ms/step - loss: 0.0364 - accuracy: 0.9906 - val_loss: 0.0478 - val_accuracy: 0.9920\n",
            "Epoch 439/3000\n",
            "21/21 [==============================] - 3s 163ms/step - loss: 0.0391 - accuracy: 0.9910 - val_loss: 0.0499 - val_accuracy: 0.9931\n",
            "Epoch 440/3000\n",
            "21/21 [==============================] - 3s 165ms/step - loss: 0.0339 - accuracy: 0.9916 - val_loss: 0.0496 - val_accuracy: 0.9924\n",
            "Epoch 441/3000\n",
            "21/21 [==============================] - 3s 163ms/step - loss: 0.0325 - accuracy: 0.9912 - val_loss: 0.0491 - val_accuracy: 0.9929\n",
            "Epoch 442/3000\n",
            "21/21 [==============================] - 3s 165ms/step - loss: 0.0393 - accuracy: 0.9908 - val_loss: 0.0459 - val_accuracy: 0.9932\n",
            "Epoch 443/3000\n",
            "21/21 [==============================] - 3s 168ms/step - loss: 0.0327 - accuracy: 0.9911 - val_loss: 0.0498 - val_accuracy: 0.9932\n",
            "Epoch 444/3000\n",
            "21/21 [==============================] - 3s 162ms/step - loss: 0.0323 - accuracy: 0.9914 - val_loss: 0.0492 - val_accuracy: 0.9926\n",
            "Epoch 445/3000\n",
            "21/21 [==============================] - 3s 163ms/step - loss: 0.0365 - accuracy: 0.9915 - val_loss: 0.0516 - val_accuracy: 0.9924\n",
            "Epoch 446/3000\n",
            "21/21 [==============================] - 3s 162ms/step - loss: 0.0346 - accuracy: 0.9911 - val_loss: 0.0438 - val_accuracy: 0.9924\n",
            "Epoch 447/3000\n",
            "21/21 [==============================] - 3s 162ms/step - loss: 0.0309 - accuracy: 0.9918 - val_loss: 0.0481 - val_accuracy: 0.9933\n",
            "Epoch 448/3000\n",
            "21/21 [==============================] - 3s 163ms/step - loss: 0.0317 - accuracy: 0.9917 - val_loss: 0.0477 - val_accuracy: 0.9932\n",
            "Epoch 449/3000\n",
            "21/21 [==============================] - 3s 163ms/step - loss: 0.0386 - accuracy: 0.9902 - val_loss: 0.0440 - val_accuracy: 0.9911\n",
            "Epoch 450/3000\n",
            "21/21 [==============================] - 3s 162ms/step - loss: 0.0343 - accuracy: 0.9907 - val_loss: 0.0447 - val_accuracy: 0.9932\n",
            "Epoch 451/3000\n",
            "21/21 [==============================] - 3s 164ms/step - loss: 0.0414 - accuracy: 0.9905 - val_loss: 0.0477 - val_accuracy: 0.9932\n",
            "Epoch 452/3000\n",
            "21/21 [==============================] - 3s 163ms/step - loss: 0.0464 - accuracy: 0.9900 - val_loss: 0.0415 - val_accuracy: 0.9922\n",
            "Epoch 453/3000\n",
            "21/21 [==============================] - 3s 163ms/step - loss: 0.0325 - accuracy: 0.9916 - val_loss: 0.0574 - val_accuracy: 0.9927\n",
            "Epoch 454/3000\n",
            "21/21 [==============================] - 3s 162ms/step - loss: 0.0378 - accuracy: 0.9907 - val_loss: 0.0497 - val_accuracy: 0.9931\n",
            "Epoch 455/3000\n",
            "21/21 [==============================] - 3s 164ms/step - loss: 0.0386 - accuracy: 0.9903 - val_loss: 0.0496 - val_accuracy: 0.9932\n",
            "Epoch 456/3000\n",
            "21/21 [==============================] - 3s 164ms/step - loss: 0.0344 - accuracy: 0.9918 - val_loss: 0.0485 - val_accuracy: 0.9930\n",
            "Epoch 457/3000\n",
            "21/21 [==============================] - 3s 163ms/step - loss: 0.0329 - accuracy: 0.9909 - val_loss: 0.0566 - val_accuracy: 0.9921\n",
            "Epoch 458/3000\n",
            "21/21 [==============================] - 3s 163ms/step - loss: 0.0367 - accuracy: 0.9909 - val_loss: 0.0524 - val_accuracy: 0.9921\n",
            "Epoch 459/3000\n",
            "21/21 [==============================] - 3s 162ms/step - loss: 0.0368 - accuracy: 0.9907 - val_loss: 0.0470 - val_accuracy: 0.9933\n",
            "Epoch 460/3000\n",
            "21/21 [==============================] - 3s 164ms/step - loss: 0.0372 - accuracy: 0.9906 - val_loss: 0.0477 - val_accuracy: 0.9933\n",
            "Epoch 461/3000\n",
            "21/21 [==============================] - 3s 164ms/step - loss: 0.0344 - accuracy: 0.9907 - val_loss: 0.0548 - val_accuracy: 0.9929\n",
            "Epoch 462/3000\n",
            "21/21 [==============================] - 3s 162ms/step - loss: 0.0370 - accuracy: 0.9904 - val_loss: 0.0503 - val_accuracy: 0.9931\n",
            "Epoch 463/3000\n",
            "21/21 [==============================] - 3s 163ms/step - loss: 0.0385 - accuracy: 0.9912 - val_loss: 0.0488 - val_accuracy: 0.9918\n",
            "Epoch 464/3000\n",
            "21/21 [==============================] - 3s 162ms/step - loss: 0.0340 - accuracy: 0.9912 - val_loss: 0.0511 - val_accuracy: 0.9923\n",
            "Epoch 465/3000\n",
            "21/21 [==============================] - 3s 161ms/step - loss: 0.0384 - accuracy: 0.9909 - val_loss: 0.0456 - val_accuracy: 0.9930\n",
            "Epoch 466/3000\n",
            "21/21 [==============================] - 3s 164ms/step - loss: 0.0394 - accuracy: 0.9910 - val_loss: 0.0508 - val_accuracy: 0.9936\n",
            "Epoch 467/3000\n",
            "21/21 [==============================] - 3s 161ms/step - loss: 0.0352 - accuracy: 0.9908 - val_loss: 0.0509 - val_accuracy: 0.9924\n",
            "Epoch 468/3000\n",
            "21/21 [==============================] - 3s 162ms/step - loss: 0.0353 - accuracy: 0.9914 - val_loss: 0.0469 - val_accuracy: 0.9928\n",
            "Epoch 469/3000\n",
            "21/21 [==============================] - 3s 163ms/step - loss: 0.0345 - accuracy: 0.9908 - val_loss: 0.0482 - val_accuracy: 0.9933\n",
            "Epoch 470/3000\n",
            "21/21 [==============================] - 3s 161ms/step - loss: 0.0344 - accuracy: 0.9901 - val_loss: 0.0384 - val_accuracy: 0.9927\n",
            "Epoch 471/3000\n",
            "21/21 [==============================] - 3s 161ms/step - loss: 0.0394 - accuracy: 0.9908 - val_loss: 0.0622 - val_accuracy: 0.9909\n",
            "Epoch 472/3000\n",
            "21/21 [==============================] - 3s 164ms/step - loss: 0.0548 - accuracy: 0.9889 - val_loss: 0.0492 - val_accuracy: 0.9926\n",
            "Epoch 473/3000\n",
            "21/21 [==============================] - 3s 163ms/step - loss: 0.0339 - accuracy: 0.9914 - val_loss: 0.0485 - val_accuracy: 0.9928\n",
            "Epoch 474/3000\n",
            "21/21 [==============================] - 3s 164ms/step - loss: 0.0386 - accuracy: 0.9907 - val_loss: 0.0487 - val_accuracy: 0.9932\n",
            "Epoch 475/3000\n",
            "21/21 [==============================] - 3s 162ms/step - loss: 0.0355 - accuracy: 0.9911 - val_loss: 0.0463 - val_accuracy: 0.9927\n",
            "Epoch 476/3000\n",
            "21/21 [==============================] - 3s 163ms/step - loss: 0.0338 - accuracy: 0.9905 - val_loss: 0.0551 - val_accuracy: 0.9923\n",
            "Epoch 477/3000\n",
            "21/21 [==============================] - 3s 163ms/step - loss: 0.0360 - accuracy: 0.9909 - val_loss: 0.0456 - val_accuracy: 0.9918\n",
            "Epoch 478/3000\n",
            "21/21 [==============================] - 3s 162ms/step - loss: 0.0373 - accuracy: 0.9902 - val_loss: 0.0517 - val_accuracy: 0.9933\n",
            "Epoch 479/3000\n",
            "21/21 [==============================] - 3s 162ms/step - loss: 0.0358 - accuracy: 0.9912 - val_loss: 0.0452 - val_accuracy: 0.9927\n",
            "Epoch 480/3000\n",
            "21/21 [==============================] - 3s 162ms/step - loss: 0.0321 - accuracy: 0.9911 - val_loss: 0.0538 - val_accuracy: 0.9925\n",
            "Epoch 481/3000\n",
            "21/21 [==============================] - 3s 163ms/step - loss: 0.0376 - accuracy: 0.9896 - val_loss: 0.0546 - val_accuracy: 0.9927\n",
            "Epoch 482/3000\n",
            "21/21 [==============================] - 3s 162ms/step - loss: 0.0400 - accuracy: 0.9904 - val_loss: 0.0430 - val_accuracy: 0.9931\n",
            "Epoch 483/3000\n",
            "21/21 [==============================] - 3s 162ms/step - loss: 0.0332 - accuracy: 0.9918 - val_loss: 0.0479 - val_accuracy: 0.9929\n",
            "Epoch 484/3000\n",
            "21/21 [==============================] - 3s 162ms/step - loss: 0.0331 - accuracy: 0.9923 - val_loss: 0.0430 - val_accuracy: 0.9931\n",
            "Epoch 485/3000\n",
            "21/21 [==============================] - 3s 162ms/step - loss: 0.0381 - accuracy: 0.9903 - val_loss: 0.0447 - val_accuracy: 0.9932\n",
            "Epoch 486/3000\n",
            "21/21 [==============================] - 3s 162ms/step - loss: 0.0373 - accuracy: 0.9916 - val_loss: 0.0452 - val_accuracy: 0.9923\n",
            "Epoch 487/3000\n",
            "21/21 [==============================] - 3s 163ms/step - loss: 0.0442 - accuracy: 0.9899 - val_loss: 0.0382 - val_accuracy: 0.9934\n",
            "Epoch 488/3000\n",
            "21/21 [==============================] - 3s 163ms/step - loss: 0.0402 - accuracy: 0.9905 - val_loss: 0.0508 - val_accuracy: 0.9931\n",
            "Epoch 489/3000\n",
            "21/21 [==============================] - 3s 162ms/step - loss: 0.0338 - accuracy: 0.9913 - val_loss: 0.0468 - val_accuracy: 0.9926\n",
            "Epoch 490/3000\n",
            "21/21 [==============================] - 3s 163ms/step - loss: 0.0396 - accuracy: 0.9903 - val_loss: 0.0455 - val_accuracy: 0.9935\n",
            "Epoch 491/3000\n",
            "21/21 [==============================] - 3s 162ms/step - loss: 0.0311 - accuracy: 0.9911 - val_loss: 0.0496 - val_accuracy: 0.9937\n",
            "Epoch 492/3000\n",
            "21/21 [==============================] - 3s 161ms/step - loss: 0.0342 - accuracy: 0.9908 - val_loss: 0.0456 - val_accuracy: 0.9926\n",
            "Epoch 493/3000\n",
            "21/21 [==============================] - 3s 164ms/step - loss: 0.0429 - accuracy: 0.9889 - val_loss: 0.0498 - val_accuracy: 0.9931\n",
            "Epoch 494/3000\n",
            "21/21 [==============================] - 3s 162ms/step - loss: 0.0346 - accuracy: 0.9916 - val_loss: 0.0547 - val_accuracy: 0.9932\n",
            "Epoch 495/3000\n",
            "21/21 [==============================] - 3s 164ms/step - loss: 0.0287 - accuracy: 0.9923 - val_loss: 0.0402 - val_accuracy: 0.9918\n",
            "Epoch 496/3000\n",
            "21/21 [==============================] - 3s 161ms/step - loss: 0.0382 - accuracy: 0.9897 - val_loss: 0.0429 - val_accuracy: 0.9933\n",
            "Epoch 497/3000\n",
            "21/21 [==============================] - 3s 162ms/step - loss: 0.0342 - accuracy: 0.9917 - val_loss: 0.0401 - val_accuracy: 0.9927\n",
            "Epoch 498/3000\n",
            "21/21 [==============================] - 3s 163ms/step - loss: 0.0358 - accuracy: 0.9910 - val_loss: 0.0520 - val_accuracy: 0.9934\n",
            "Epoch 499/3000\n",
            "21/21 [==============================] - 3s 163ms/step - loss: 0.0359 - accuracy: 0.9907 - val_loss: 0.0456 - val_accuracy: 0.9927\n",
            "Epoch 500/3000\n",
            "21/21 [==============================] - 3s 162ms/step - loss: 0.0363 - accuracy: 0.9909 - val_loss: 0.0515 - val_accuracy: 0.9914\n",
            "Epoch 501/3000\n",
            "21/21 [==============================] - 3s 163ms/step - loss: 0.0442 - accuracy: 0.9897 - val_loss: 0.0505 - val_accuracy: 0.9932\n",
            "Epoch 502/3000\n",
            "21/21 [==============================] - 3s 162ms/step - loss: 0.0345 - accuracy: 0.9910 - val_loss: 0.0438 - val_accuracy: 0.9924\n",
            "Epoch 503/3000\n",
            "21/21 [==============================] - 3s 161ms/step - loss: 0.0365 - accuracy: 0.9899 - val_loss: 0.0458 - val_accuracy: 0.9927\n",
            "Epoch 504/3000\n",
            "21/21 [==============================] - 3s 162ms/step - loss: 0.0336 - accuracy: 0.9909 - val_loss: 0.0576 - val_accuracy: 0.9932\n",
            "Epoch 505/3000\n",
            "21/21 [==============================] - 3s 162ms/step - loss: 0.0361 - accuracy: 0.9904 - val_loss: 0.0499 - val_accuracy: 0.9927\n",
            "Epoch 506/3000\n",
            "21/21 [==============================] - 3s 162ms/step - loss: 0.0324 - accuracy: 0.9921 - val_loss: 0.0447 - val_accuracy: 0.9937\n",
            "Epoch 507/3000\n",
            "21/21 [==============================] - 3s 166ms/step - loss: 0.0384 - accuracy: 0.9921 - val_loss: 0.0499 - val_accuracy: 0.9930\n",
            "Epoch 508/3000\n",
            "21/21 [==============================] - 3s 163ms/step - loss: 0.0511 - accuracy: 0.9887 - val_loss: 0.0469 - val_accuracy: 0.9923\n",
            "Epoch 509/3000\n",
            "21/21 [==============================] - 3s 162ms/step - loss: 0.0389 - accuracy: 0.9892 - val_loss: 0.0676 - val_accuracy: 0.9925\n",
            "Epoch 510/3000\n",
            "21/21 [==============================] - 3s 162ms/step - loss: 0.0354 - accuracy: 0.9917 - val_loss: 0.0522 - val_accuracy: 0.9934\n",
            "Epoch 511/3000\n",
            "21/21 [==============================] - 3s 162ms/step - loss: 0.0375 - accuracy: 0.9901 - val_loss: 0.0469 - val_accuracy: 0.9924\n",
            "Epoch 512/3000\n",
            "21/21 [==============================] - 3s 163ms/step - loss: 0.0372 - accuracy: 0.9909 - val_loss: 0.0475 - val_accuracy: 0.9918\n",
            "Epoch 513/3000\n",
            "21/21 [==============================] - 3s 163ms/step - loss: 0.0321 - accuracy: 0.9918 - val_loss: 0.0413 - val_accuracy: 0.9937\n",
            "Epoch 514/3000\n",
            "21/21 [==============================] - 3s 163ms/step - loss: 0.0396 - accuracy: 0.9909 - val_loss: 0.0444 - val_accuracy: 0.9936\n",
            "Epoch 515/3000\n",
            "21/21 [==============================] - 3s 163ms/step - loss: 0.0398 - accuracy: 0.9893 - val_loss: 0.0536 - val_accuracy: 0.9928\n",
            "Epoch 516/3000\n",
            "21/21 [==============================] - 3s 163ms/step - loss: 0.0373 - accuracy: 0.9901 - val_loss: 0.0407 - val_accuracy: 0.9933\n",
            "Epoch 517/3000\n",
            "21/21 [==============================] - 3s 163ms/step - loss: 0.0319 - accuracy: 0.9917 - val_loss: 0.0442 - val_accuracy: 0.9929\n",
            "Epoch 518/3000\n",
            "21/21 [==============================] - 3s 162ms/step - loss: 0.0362 - accuracy: 0.9905 - val_loss: 0.0550 - val_accuracy: 0.9926\n",
            "Epoch 519/3000\n",
            "21/21 [==============================] - 3s 162ms/step - loss: 0.0401 - accuracy: 0.9902 - val_loss: 0.0462 - val_accuracy: 0.9934\n",
            "Epoch 520/3000\n",
            "21/21 [==============================] - 3s 163ms/step - loss: 0.0329 - accuracy: 0.9913 - val_loss: 0.0449 - val_accuracy: 0.9935\n",
            "Epoch 521/3000\n",
            "21/21 [==============================] - 3s 162ms/step - loss: 0.0341 - accuracy: 0.9916 - val_loss: 0.0504 - val_accuracy: 0.9924\n",
            "Epoch 522/3000\n",
            "21/21 [==============================] - 3s 161ms/step - loss: 0.0382 - accuracy: 0.9913 - val_loss: 0.0506 - val_accuracy: 0.9931\n",
            "Epoch 523/3000\n",
            "21/21 [==============================] - 3s 162ms/step - loss: 0.0376 - accuracy: 0.9904 - val_loss: 0.0507 - val_accuracy: 0.9911\n",
            "Epoch 524/3000\n",
            "21/21 [==============================] - 3s 163ms/step - loss: 0.0380 - accuracy: 0.9909 - val_loss: 0.0474 - val_accuracy: 0.9924\n",
            "Epoch 525/3000\n",
            "21/21 [==============================] - 3s 164ms/step - loss: 0.0348 - accuracy: 0.9913 - val_loss: 0.0493 - val_accuracy: 0.9926\n",
            "Epoch 526/3000\n",
            "21/21 [==============================] - 3s 163ms/step - loss: 0.0384 - accuracy: 0.9906 - val_loss: 0.0447 - val_accuracy: 0.9920\n",
            "Epoch 527/3000\n",
            "21/21 [==============================] - 3s 164ms/step - loss: 0.0345 - accuracy: 0.9914 - val_loss: 0.0477 - val_accuracy: 0.9932\n",
            "Epoch 528/3000\n",
            "21/21 [==============================] - 3s 163ms/step - loss: 0.0337 - accuracy: 0.9915 - val_loss: 0.0507 - val_accuracy: 0.9919\n",
            "Epoch 529/3000\n",
            "21/21 [==============================] - 3s 163ms/step - loss: 0.0341 - accuracy: 0.9918 - val_loss: 0.0553 - val_accuracy: 0.9918\n",
            "Epoch 530/3000\n",
            "21/21 [==============================] - 3s 163ms/step - loss: 0.0332 - accuracy: 0.9920 - val_loss: 0.0542 - val_accuracy: 0.9923\n",
            "Epoch 531/3000\n",
            "21/21 [==============================] - 3s 163ms/step - loss: 0.0365 - accuracy: 0.9916 - val_loss: 0.0576 - val_accuracy: 0.9925\n",
            "Epoch 532/3000\n",
            "21/21 [==============================] - 3s 162ms/step - loss: 0.0421 - accuracy: 0.9906 - val_loss: 0.0520 - val_accuracy: 0.9922\n",
            "Epoch 533/3000\n",
            "21/21 [==============================] - 3s 162ms/step - loss: 0.0349 - accuracy: 0.9905 - val_loss: 0.0477 - val_accuracy: 0.9924\n",
            "Epoch 534/3000\n",
            "21/21 [==============================] - 3s 163ms/step - loss: 0.0318 - accuracy: 0.9925 - val_loss: 0.0569 - val_accuracy: 0.9917\n",
            "Epoch 535/3000\n",
            "21/21 [==============================] - 3s 163ms/step - loss: 0.0415 - accuracy: 0.9902 - val_loss: 0.0567 - val_accuracy: 0.9926\n",
            "Epoch 536/3000\n",
            "21/21 [==============================] - 3s 163ms/step - loss: 0.0337 - accuracy: 0.9909 - val_loss: 0.0512 - val_accuracy: 0.9936\n",
            "Epoch 537/3000\n",
            "21/21 [==============================] - 3s 163ms/step - loss: 0.0343 - accuracy: 0.9920 - val_loss: 0.0524 - val_accuracy: 0.9926\n",
            "Epoch 538/3000\n",
            "21/21 [==============================] - 3s 165ms/step - loss: 0.0332 - accuracy: 0.9915 - val_loss: 0.0557 - val_accuracy: 0.9911\n",
            "Epoch 539/3000\n",
            "21/21 [==============================] - 3s 162ms/step - loss: 0.0354 - accuracy: 0.9911 - val_loss: 0.0546 - val_accuracy: 0.9914\n",
            "Epoch 540/3000\n",
            "21/21 [==============================] - 3s 164ms/step - loss: 0.0472 - accuracy: 0.9883 - val_loss: 0.0503 - val_accuracy: 0.9931\n",
            "Epoch 541/3000\n",
            "21/21 [==============================] - 3s 164ms/step - loss: 0.0339 - accuracy: 0.9922 - val_loss: 0.0580 - val_accuracy: 0.9916\n",
            "Epoch 542/3000\n",
            "21/21 [==============================] - 3s 163ms/step - loss: 0.0360 - accuracy: 0.9907 - val_loss: 0.0465 - val_accuracy: 0.9928\n",
            "Epoch 543/3000\n",
            "21/21 [==============================] - 3s 163ms/step - loss: 0.0341 - accuracy: 0.9910 - val_loss: 0.0588 - val_accuracy: 0.9923\n",
            "Epoch 544/3000\n",
            "21/21 [==============================] - 3s 163ms/step - loss: 0.0347 - accuracy: 0.9903 - val_loss: 0.0485 - val_accuracy: 0.9929\n",
            "Epoch 545/3000\n",
            "21/21 [==============================] - 3s 162ms/step - loss: 0.0358 - accuracy: 0.9912 - val_loss: 0.0513 - val_accuracy: 0.9927\n",
            "Epoch 546/3000\n",
            "21/21 [==============================] - 3s 163ms/step - loss: 0.0407 - accuracy: 0.9910 - val_loss: 0.0482 - val_accuracy: 0.9920\n",
            "Epoch 547/3000\n",
            "21/21 [==============================] - 3s 164ms/step - loss: 0.0302 - accuracy: 0.9917 - val_loss: 0.0492 - val_accuracy: 0.9931\n",
            "Epoch 548/3000\n",
            "21/21 [==============================] - 3s 165ms/step - loss: 0.0367 - accuracy: 0.9900 - val_loss: 0.0468 - val_accuracy: 0.9928\n",
            "Epoch 549/3000\n",
            "21/21 [==============================] - 3s 163ms/step - loss: 0.0378 - accuracy: 0.9904 - val_loss: 0.0481 - val_accuracy: 0.9927\n",
            "Epoch 550/3000\n",
            "21/21 [==============================] - 3s 163ms/step - loss: 0.0335 - accuracy: 0.9921 - val_loss: 0.0484 - val_accuracy: 0.9924\n",
            "Epoch 551/3000\n",
            "21/21 [==============================] - 3s 161ms/step - loss: 0.0362 - accuracy: 0.9916 - val_loss: 0.0519 - val_accuracy: 0.9930\n",
            "Epoch 552/3000\n",
            "21/21 [==============================] - 3s 162ms/step - loss: 0.0429 - accuracy: 0.9886 - val_loss: 0.0528 - val_accuracy: 0.9922\n",
            "Epoch 553/3000\n",
            "21/21 [==============================] - 3s 163ms/step - loss: 0.0347 - accuracy: 0.9915 - val_loss: 0.0426 - val_accuracy: 0.9926\n",
            "Epoch 554/3000\n",
            "21/21 [==============================] - 3s 162ms/step - loss: 0.0348 - accuracy: 0.9905 - val_loss: 0.0507 - val_accuracy: 0.9918\n",
            "Epoch 555/3000\n",
            "21/21 [==============================] - 3s 163ms/step - loss: 0.0384 - accuracy: 0.9897 - val_loss: 0.0523 - val_accuracy: 0.9929\n",
            "Epoch 556/3000\n",
            "21/21 [==============================] - 3s 162ms/step - loss: 0.0387 - accuracy: 0.9912 - val_loss: 0.0523 - val_accuracy: 0.9921\n",
            "Epoch 557/3000\n",
            "21/21 [==============================] - 3s 165ms/step - loss: 0.0340 - accuracy: 0.9921 - val_loss: 0.0636 - val_accuracy: 0.9936\n",
            "Epoch 558/3000\n",
            "21/21 [==============================] - 3s 163ms/step - loss: 0.0505 - accuracy: 0.9894 - val_loss: 0.0473 - val_accuracy: 0.9928\n",
            "Epoch 559/3000\n",
            "21/21 [==============================] - 3s 162ms/step - loss: 0.0265 - accuracy: 0.9923 - val_loss: 0.0469 - val_accuracy: 0.9929\n",
            "Epoch 560/3000\n",
            "21/21 [==============================] - 3s 163ms/step - loss: 0.0347 - accuracy: 0.9898 - val_loss: 0.0543 - val_accuracy: 0.9923\n",
            "Epoch 561/3000\n",
            "21/21 [==============================] - 3s 160ms/step - loss: 0.0384 - accuracy: 0.9904 - val_loss: 0.0412 - val_accuracy: 0.9933\n",
            "Epoch 562/3000\n",
            "21/21 [==============================] - 3s 164ms/step - loss: 0.0372 - accuracy: 0.9910 - val_loss: 0.0477 - val_accuracy: 0.9932\n",
            "Epoch 563/3000\n",
            "21/21 [==============================] - 3s 163ms/step - loss: 0.0320 - accuracy: 0.9920 - val_loss: 0.0590 - val_accuracy: 0.9928\n",
            "Epoch 564/3000\n",
            "21/21 [==============================] - 3s 162ms/step - loss: 0.0349 - accuracy: 0.9913 - val_loss: 0.0371 - val_accuracy: 0.9928\n",
            "Epoch 565/3000\n",
            "21/21 [==============================] - 3s 162ms/step - loss: 0.0347 - accuracy: 0.9906 - val_loss: 0.0562 - val_accuracy: 0.9933\n",
            "Epoch 566/3000\n",
            "21/21 [==============================] - 3s 165ms/step - loss: 0.0357 - accuracy: 0.9903 - val_loss: 0.0473 - val_accuracy: 0.9934\n",
            "Epoch 567/3000\n",
            "21/21 [==============================] - 3s 163ms/step - loss: 0.0356 - accuracy: 0.9909 - val_loss: 0.0503 - val_accuracy: 0.9932\n",
            "Epoch 568/3000\n",
            "21/21 [==============================] - 3s 163ms/step - loss: 0.0401 - accuracy: 0.9911 - val_loss: 0.0468 - val_accuracy: 0.9928\n",
            "Epoch 569/3000\n",
            "21/21 [==============================] - 3s 163ms/step - loss: 0.0353 - accuracy: 0.9917 - val_loss: 0.0570 - val_accuracy: 0.9919\n",
            "Epoch 570/3000\n",
            "21/21 [==============================] - 3s 162ms/step - loss: 0.0374 - accuracy: 0.9910 - val_loss: 0.0685 - val_accuracy: 0.9930\n",
            "Epoch 571/3000\n",
            "21/21 [==============================] - 3s 163ms/step - loss: 0.0371 - accuracy: 0.9908 - val_loss: 0.0484 - val_accuracy: 0.9928\n",
            "Epoch 572/3000\n",
            "21/21 [==============================] - 3s 164ms/step - loss: 0.0391 - accuracy: 0.9899 - val_loss: 0.0517 - val_accuracy: 0.9924\n",
            "Epoch 573/3000\n",
            "21/21 [==============================] - 3s 162ms/step - loss: 0.0351 - accuracy: 0.9911 - val_loss: 0.0421 - val_accuracy: 0.9927\n",
            "Epoch 574/3000\n",
            "21/21 [==============================] - 3s 162ms/step - loss: 0.0376 - accuracy: 0.9911 - val_loss: 0.0498 - val_accuracy: 0.9922\n",
            "Epoch 575/3000\n",
            "21/21 [==============================] - 3s 163ms/step - loss: 0.0414 - accuracy: 0.9900 - val_loss: 0.0464 - val_accuracy: 0.9932\n",
            "Epoch 576/3000\n",
            "21/21 [==============================] - 3s 161ms/step - loss: 0.0359 - accuracy: 0.9911 - val_loss: 0.0476 - val_accuracy: 0.9929\n",
            "Epoch 577/3000\n",
            "21/21 [==============================] - 3s 163ms/step - loss: 0.0348 - accuracy: 0.9924 - val_loss: 0.0415 - val_accuracy: 0.9923\n",
            "Epoch 578/3000\n",
            "21/21 [==============================] - 3s 162ms/step - loss: 0.0325 - accuracy: 0.9918 - val_loss: 0.0506 - val_accuracy: 0.9923\n",
            "Epoch 579/3000\n",
            "21/21 [==============================] - 3s 164ms/step - loss: 0.0361 - accuracy: 0.9904 - val_loss: 0.0435 - val_accuracy: 0.9928\n",
            "Epoch 580/3000\n",
            "21/21 [==============================] - 3s 161ms/step - loss: 0.0385 - accuracy: 0.9906 - val_loss: 0.0506 - val_accuracy: 0.9928\n",
            "Epoch 581/3000\n",
            "21/21 [==============================] - 3s 162ms/step - loss: 0.0400 - accuracy: 0.9901 - val_loss: 0.0457 - val_accuracy: 0.9928\n",
            "Epoch 582/3000\n",
            "21/21 [==============================] - 3s 163ms/step - loss: 0.0341 - accuracy: 0.9902 - val_loss: 0.0456 - val_accuracy: 0.9921\n",
            "Epoch 583/3000\n",
            "21/21 [==============================] - 3s 163ms/step - loss: 0.0340 - accuracy: 0.9910 - val_loss: 0.0495 - val_accuracy: 0.9931\n",
            "Epoch 584/3000\n",
            "21/21 [==============================] - 3s 162ms/step - loss: 0.0401 - accuracy: 0.9912 - val_loss: 0.0544 - val_accuracy: 0.9933\n",
            "Epoch 585/3000\n",
            "21/21 [==============================] - 3s 163ms/step - loss: 0.0356 - accuracy: 0.9922 - val_loss: 0.0454 - val_accuracy: 0.9926\n",
            "Epoch 586/3000\n",
            "21/21 [==============================] - 3s 163ms/step - loss: 0.0343 - accuracy: 0.9906 - val_loss: 0.0675 - val_accuracy: 0.9921\n",
            "Epoch 587/3000\n",
            "21/21 [==============================] - 3s 163ms/step - loss: 0.0361 - accuracy: 0.9898 - val_loss: 0.0536 - val_accuracy: 0.9926\n",
            "Epoch 588/3000\n",
            "21/21 [==============================] - 3s 162ms/step - loss: 0.0386 - accuracy: 0.9901 - val_loss: 0.0582 - val_accuracy: 0.9924\n",
            "Epoch 589/3000\n",
            "21/21 [==============================] - 3s 163ms/step - loss: 0.0405 - accuracy: 0.9905 - val_loss: 0.0457 - val_accuracy: 0.9919\n",
            "Epoch 590/3000\n",
            "21/21 [==============================] - 3s 166ms/step - loss: 0.0340 - accuracy: 0.9908 - val_loss: 0.0599 - val_accuracy: 0.9930\n",
            "Epoch 591/3000\n",
            "21/21 [==============================] - 3s 163ms/step - loss: 0.0352 - accuracy: 0.9919 - val_loss: 0.0460 - val_accuracy: 0.9930\n",
            "Epoch 592/3000\n",
            "21/21 [==============================] - 3s 162ms/step - loss: 0.0340 - accuracy: 0.9907 - val_loss: 0.0570 - val_accuracy: 0.9929\n",
            "Epoch 593/3000\n",
            "21/21 [==============================] - 3s 162ms/step - loss: 0.0335 - accuracy: 0.9912 - val_loss: 0.0504 - val_accuracy: 0.9928\n",
            "Epoch 594/3000\n",
            "21/21 [==============================] - 3s 163ms/step - loss: 0.0386 - accuracy: 0.9907 - val_loss: 0.0476 - val_accuracy: 0.9933\n",
            "Epoch 595/3000\n",
            "21/21 [==============================] - 3s 163ms/step - loss: 0.0372 - accuracy: 0.9910 - val_loss: 0.0475 - val_accuracy: 0.9922\n",
            "Epoch 596/3000\n",
            "21/21 [==============================] - 3s 161ms/step - loss: 0.0445 - accuracy: 0.9898 - val_loss: 0.0447 - val_accuracy: 0.9930\n",
            "Epoch 597/3000\n",
            "21/21 [==============================] - 3s 162ms/step - loss: 0.0341 - accuracy: 0.9921 - val_loss: 0.0469 - val_accuracy: 0.9937\n",
            "Epoch 598/3000\n",
            "21/21 [==============================] - 3s 162ms/step - loss: 0.0312 - accuracy: 0.9924 - val_loss: 0.0460 - val_accuracy: 0.9931\n",
            "Epoch 599/3000\n",
            "21/21 [==============================] - 3s 164ms/step - loss: 0.0406 - accuracy: 0.9904 - val_loss: 0.0504 - val_accuracy: 0.9924\n",
            "Epoch 600/3000\n",
            "21/21 [==============================] - 3s 164ms/step - loss: 0.0389 - accuracy: 0.9905 - val_loss: 0.0476 - val_accuracy: 0.9930\n",
            "Epoch 601/3000\n",
            "21/21 [==============================] - 3s 162ms/step - loss: 0.0397 - accuracy: 0.9889 - val_loss: 0.0403 - val_accuracy: 0.9922\n",
            "Epoch 602/3000\n",
            "21/21 [==============================] - 3s 163ms/step - loss: 0.0334 - accuracy: 0.9909 - val_loss: 0.0544 - val_accuracy: 0.9927\n",
            "Epoch 603/3000\n",
            "21/21 [==============================] - 3s 163ms/step - loss: 0.0359 - accuracy: 0.9910 - val_loss: 0.0495 - val_accuracy: 0.9938\n",
            "Epoch 604/3000\n",
            "21/21 [==============================] - 3s 164ms/step - loss: 0.0459 - accuracy: 0.9899 - val_loss: 0.0582 - val_accuracy: 0.9918\n",
            "Epoch 605/3000\n",
            "21/21 [==============================] - 3s 161ms/step - loss: 0.0320 - accuracy: 0.9915 - val_loss: 0.0485 - val_accuracy: 0.9935\n",
            "Epoch 606/3000\n",
            "21/21 [==============================] - 3s 163ms/step - loss: 0.0369 - accuracy: 0.9909 - val_loss: 0.0480 - val_accuracy: 0.9924\n",
            "Epoch 607/3000\n",
            "21/21 [==============================] - 3s 162ms/step - loss: 0.0389 - accuracy: 0.9894 - val_loss: 0.0408 - val_accuracy: 0.9933\n",
            "Epoch 608/3000\n",
            "21/21 [==============================] - 3s 161ms/step - loss: 0.0373 - accuracy: 0.9913 - val_loss: 0.0439 - val_accuracy: 0.9932\n",
            "Epoch 609/3000\n",
            "21/21 [==============================] - 3s 163ms/step - loss: 0.0365 - accuracy: 0.9902 - val_loss: 0.0413 - val_accuracy: 0.9933\n",
            "Epoch 610/3000\n",
            "21/21 [==============================] - 3s 163ms/step - loss: 0.0323 - accuracy: 0.9918 - val_loss: 0.0484 - val_accuracy: 0.9923\n",
            "Epoch 611/3000\n",
            "21/21 [==============================] - 3s 162ms/step - loss: 0.0375 - accuracy: 0.9892 - val_loss: 0.0606 - val_accuracy: 0.9928\n",
            "Epoch 612/3000\n",
            "21/21 [==============================] - 3s 162ms/step - loss: 0.0394 - accuracy: 0.9903 - val_loss: 0.0494 - val_accuracy: 0.9928\n",
            "Epoch 613/3000\n",
            "21/21 [==============================] - 3s 161ms/step - loss: 0.0350 - accuracy: 0.9912 - val_loss: 0.0505 - val_accuracy: 0.9936\n",
            "Epoch 614/3000\n",
            "21/21 [==============================] - 3s 163ms/step - loss: 0.0357 - accuracy: 0.9911 - val_loss: 0.0588 - val_accuracy: 0.9928\n",
            "Epoch 615/3000\n",
            "21/21 [==============================] - 3s 162ms/step - loss: 0.0383 - accuracy: 0.9912 - val_loss: 0.0486 - val_accuracy: 0.9926\n",
            "Epoch 616/3000\n",
            "21/21 [==============================] - 3s 162ms/step - loss: 0.0309 - accuracy: 0.9917 - val_loss: 0.0434 - val_accuracy: 0.9928\n",
            "Epoch 617/3000\n",
            "21/21 [==============================] - 3s 164ms/step - loss: 0.0368 - accuracy: 0.9900 - val_loss: 0.0577 - val_accuracy: 0.9900\n",
            "Epoch 618/3000\n",
            "21/21 [==============================] - 3s 163ms/step - loss: 0.0417 - accuracy: 0.9901 - val_loss: 0.0472 - val_accuracy: 0.9929\n",
            "Epoch 619/3000\n",
            "21/21 [==============================] - 3s 162ms/step - loss: 0.0381 - accuracy: 0.9910 - val_loss: 0.0521 - val_accuracy: 0.9933\n",
            "Epoch 620/3000\n",
            "21/21 [==============================] - 3s 163ms/step - loss: 0.0353 - accuracy: 0.9913 - val_loss: 0.0520 - val_accuracy: 0.9910\n",
            "Epoch 621/3000\n",
            "21/21 [==============================] - 3s 165ms/step - loss: 0.0355 - accuracy: 0.9903 - val_loss: 0.0430 - val_accuracy: 0.9917\n",
            "Epoch 622/3000\n",
            "21/21 [==============================] - 3s 163ms/step - loss: 0.0351 - accuracy: 0.9900 - val_loss: 0.0456 - val_accuracy: 0.9909\n",
            "Epoch 623/3000\n",
            "21/21 [==============================] - 3s 162ms/step - loss: 0.0427 - accuracy: 0.9893 - val_loss: 0.0513 - val_accuracy: 0.9926\n",
            "Epoch 624/3000\n",
            "21/21 [==============================] - 3s 163ms/step - loss: 0.0330 - accuracy: 0.9914 - val_loss: 0.0532 - val_accuracy: 0.9933\n",
            "Epoch 625/3000\n",
            "21/21 [==============================] - 3s 163ms/step - loss: 0.0386 - accuracy: 0.9908 - val_loss: 0.0547 - val_accuracy: 0.9919\n",
            "Epoch 626/3000\n",
            "21/21 [==============================] - 3s 163ms/step - loss: 0.0414 - accuracy: 0.9903 - val_loss: 0.0491 - val_accuracy: 0.9930\n",
            "Epoch 627/3000\n",
            "21/21 [==============================] - 3s 162ms/step - loss: 0.0334 - accuracy: 0.9914 - val_loss: 0.0463 - val_accuracy: 0.9923\n",
            "Epoch 628/3000\n",
            "21/21 [==============================] - 3s 163ms/step - loss: 0.0390 - accuracy: 0.9904 - val_loss: 0.0466 - val_accuracy: 0.9936\n",
            "Epoch 629/3000\n",
            "21/21 [==============================] - 3s 162ms/step - loss: 0.0402 - accuracy: 0.9895 - val_loss: 0.0512 - val_accuracy: 0.9933\n",
            "Epoch 630/3000\n",
            "21/21 [==============================] - 3s 162ms/step - loss: 0.0391 - accuracy: 0.9900 - val_loss: 0.0521 - val_accuracy: 0.9933\n",
            "Epoch 631/3000\n",
            "21/21 [==============================] - 3s 162ms/step - loss: 0.0329 - accuracy: 0.9913 - val_loss: 0.0464 - val_accuracy: 0.9921\n",
            "Epoch 632/3000\n",
            "21/21 [==============================] - 3s 162ms/step - loss: 0.0394 - accuracy: 0.9892 - val_loss: 0.0540 - val_accuracy: 0.9930\n",
            "Epoch 633/3000\n",
            "21/21 [==============================] - 3s 163ms/step - loss: 0.0346 - accuracy: 0.9921 - val_loss: 0.0555 - val_accuracy: 0.9923\n",
            "Epoch 634/3000\n",
            "21/21 [==============================] - 3s 162ms/step - loss: 0.0423 - accuracy: 0.9911 - val_loss: 0.0532 - val_accuracy: 0.9929\n",
            "Epoch 635/3000\n",
            "21/21 [==============================] - 3s 161ms/step - loss: 0.0357 - accuracy: 0.9905 - val_loss: 0.0481 - val_accuracy: 0.9924\n",
            "Epoch 636/3000\n",
            "21/21 [==============================] - 3s 161ms/step - loss: 0.0322 - accuracy: 0.9914 - val_loss: 0.0491 - val_accuracy: 0.9930\n",
            "Epoch 637/3000\n",
            "21/21 [==============================] - 3s 162ms/step - loss: 0.0476 - accuracy: 0.9888 - val_loss: 0.0451 - val_accuracy: 0.9934\n",
            "Epoch 638/3000\n",
            "21/21 [==============================] - 3s 162ms/step - loss: 0.0357 - accuracy: 0.9906 - val_loss: 0.0436 - val_accuracy: 0.9928\n",
            "Epoch 639/3000\n",
            "21/21 [==============================] - 3s 163ms/step - loss: 0.0391 - accuracy: 0.9899 - val_loss: 0.0548 - val_accuracy: 0.9927\n",
            "Epoch 640/3000\n",
            "21/21 [==============================] - 3s 161ms/step - loss: 0.0363 - accuracy: 0.9914 - val_loss: 0.0436 - val_accuracy: 0.9916\n",
            "Epoch 641/3000\n",
            "21/21 [==============================] - 3s 160ms/step - loss: 0.0382 - accuracy: 0.9897 - val_loss: 0.0457 - val_accuracy: 0.9913\n",
            "Epoch 642/3000\n",
            "21/21 [==============================] - 3s 162ms/step - loss: 0.0366 - accuracy: 0.9900 - val_loss: 0.0539 - val_accuracy: 0.9932\n",
            "Epoch 643/3000\n",
            "21/21 [==============================] - 3s 161ms/step - loss: 0.0496 - accuracy: 0.9891 - val_loss: 0.0500 - val_accuracy: 0.9921\n",
            "Epoch 644/3000\n",
            "21/21 [==============================] - 3s 162ms/step - loss: 0.0396 - accuracy: 0.9903 - val_loss: 0.0498 - val_accuracy: 0.9924\n",
            "Epoch 645/3000\n",
            "21/21 [==============================] - 3s 163ms/step - loss: 0.0323 - accuracy: 0.9914 - val_loss: 0.0473 - val_accuracy: 0.9926\n",
            "Epoch 646/3000\n",
            "21/21 [==============================] - 3s 162ms/step - loss: 0.0350 - accuracy: 0.9921 - val_loss: 0.0489 - val_accuracy: 0.9918\n",
            "Epoch 647/3000\n",
            "21/21 [==============================] - 3s 161ms/step - loss: 0.0423 - accuracy: 0.9896 - val_loss: 0.0473 - val_accuracy: 0.9926\n",
            "Epoch 648/3000\n",
            "21/21 [==============================] - 3s 161ms/step - loss: 0.0349 - accuracy: 0.9911 - val_loss: 0.0441 - val_accuracy: 0.9931\n",
            "Epoch 649/3000\n",
            "21/21 [==============================] - 3s 164ms/step - loss: 0.0440 - accuracy: 0.9897 - val_loss: 0.0572 - val_accuracy: 0.9927\n",
            "Epoch 650/3000\n",
            "21/21 [==============================] - 3s 161ms/step - loss: 0.0351 - accuracy: 0.9910 - val_loss: 0.0496 - val_accuracy: 0.9909\n",
            "Epoch 651/3000\n",
            "21/21 [==============================] - 3s 161ms/step - loss: 0.0380 - accuracy: 0.9906 - val_loss: 0.0538 - val_accuracy: 0.9919\n",
            "Epoch 652/3000\n",
            "21/21 [==============================] - 3s 162ms/step - loss: 0.0466 - accuracy: 0.9898 - val_loss: 0.0504 - val_accuracy: 0.9934\n",
            "Epoch 653/3000\n",
            "21/21 [==============================] - 3s 164ms/step - loss: 0.0412 - accuracy: 0.9898 - val_loss: 0.0533 - val_accuracy: 0.9919\n",
            "Epoch 654/3000\n",
            "21/21 [==============================] - 3s 163ms/step - loss: 0.0378 - accuracy: 0.9907 - val_loss: 0.0633 - val_accuracy: 0.9920\n",
            "Epoch 655/3000\n",
            "21/21 [==============================] - 3s 164ms/step - loss: 0.0362 - accuracy: 0.9909 - val_loss: 0.0447 - val_accuracy: 0.9929\n",
            "Epoch 656/3000\n",
            "21/21 [==============================] - 3s 162ms/step - loss: 0.0309 - accuracy: 0.9915 - val_loss: 0.0415 - val_accuracy: 0.9909\n",
            "Epoch 657/3000\n",
            "21/21 [==============================] - 3s 162ms/step - loss: 0.0361 - accuracy: 0.9911 - val_loss: 0.0449 - val_accuracy: 0.9931\n",
            "Epoch 658/3000\n",
            "21/21 [==============================] - 3s 164ms/step - loss: 0.0384 - accuracy: 0.9911 - val_loss: 0.0517 - val_accuracy: 0.9924\n",
            "Epoch 659/3000\n",
            "21/21 [==============================] - 3s 161ms/step - loss: 0.0419 - accuracy: 0.9898 - val_loss: 0.0455 - val_accuracy: 0.9919\n",
            "Epoch 660/3000\n",
            "21/21 [==============================] - 3s 164ms/step - loss: 0.0373 - accuracy: 0.9900 - val_loss: 0.0512 - val_accuracy: 0.9934\n",
            "Epoch 661/3000\n",
            "21/21 [==============================] - 3s 163ms/step - loss: 0.0396 - accuracy: 0.9895 - val_loss: 0.0517 - val_accuracy: 0.9923\n",
            "Epoch 662/3000\n",
            "21/21 [==============================] - 3s 163ms/step - loss: 0.0423 - accuracy: 0.9888 - val_loss: 0.0471 - val_accuracy: 0.9934\n",
            "Epoch 663/3000\n",
            "21/21 [==============================] - 3s 163ms/step - loss: 0.0378 - accuracy: 0.9917 - val_loss: 0.0541 - val_accuracy: 0.9925\n",
            "Epoch 664/3000\n",
            "21/21 [==============================] - 3s 163ms/step - loss: 0.0382 - accuracy: 0.9895 - val_loss: 0.0539 - val_accuracy: 0.9927\n",
            "Epoch 00664: early stopping\n",
            "CPU times: user 36min 42s, sys: 30.1 s, total: 37min 12s\n",
            "Wall time: 37min 39s\n"
          ],
          "name": "stdout"
        }
      ]
    },
    {
      "cell_type": "markdown",
      "metadata": {
        "id": "LR4rB1_0K_5Q"
      },
      "source": [
        ""
      ]
    },
    {
      "cell_type": "code",
      "metadata": {
        "colab": {
          "base_uri": "https://localhost:8080/",
          "height": 279
        },
        "id": "aito1rLlulDu",
        "outputId": "b4f24ab8-b15e-4368-a668-9646a08c81bb"
      },
      "source": [
        "#グラフ表示\n",
        "plt.plot(log.history['loss'], label='loss')\n",
        "plt.plot(log.history['val_loss'], label='val_loss')\n",
        "plt.legend(frameon=False) #凡例フレームを表示しない\n",
        "plt.xlabel('epochs')\n",
        "plt.ylabel('clossentropy')\n",
        "plt.show()"
      ],
      "execution_count": null,
      "outputs": [
        {
          "output_type": "display_data",
          "data": {
            "image/png": "[encoded data removed]",
            "text/plain": [
              "<Figure size 432x288 with 1 Axes>"
            ]
          },
          "metadata": {
            "tags": [],
            "needs_background": "light"
          }
        }
      ]
    },
    {
      "cell_type": "code",
      "metadata": {
        "colab": {
          "base_uri": "https://localhost:8080/"
        },
        "id": "gmynvCjswS0P",
        "outputId": "ab258b69-8c3f-415f-8a91-e991563be6d7"
      },
      "source": [
        "#モデルの評価(テストデータによる評価)\n",
        "y_pred = model.predict_classes(x_test_g)\n",
        "\n",
        "print(classification_report(y_pred, y_test))"
      ],
      "execution_count": null,
      "outputs": [
        {
          "output_type": "stream",
          "text": [
            "/usr/local/lib/python3.7/dist-packages/tensorflow/python/keras/engine/sequential.py:450: UserWarning: `model.predict_classes()` is deprecated and will be removed after 2021-01-01. Please use instead:* `np.argmax(model.predict(x), axis=-1)`,   if your model does multi-class classification   (e.g. if it uses a `softmax` last-layer activation).* `(model.predict(x) > 0.5).astype(\"int32\")`,   if your model does binary classification   (e.g. if it uses a `sigmoid` last-layer activation).\n",
            "  warnings.warn('`model.predict_classes()` is deprecated and '\n"
          ],
          "name": "stderr"
        },
        {
          "output_type": "stream",
          "text": [
            "              precision    recall  f1-score   support\n",
            "\n",
            "           0       0.98      0.98      0.98      1002\n",
            "           1       0.96      0.99      0.97       967\n",
            "           2       0.94      0.96      0.95       985\n",
            "           3       0.99      0.97      0.98      1022\n",
            "           4       0.95      0.96      0.96       992\n",
            "           5       0.96      0.99      0.97       977\n",
            "           6       0.98      0.97      0.98      1014\n",
            "           7       0.99      0.99      0.99      1004\n",
            "           8       0.99      0.96      0.98      1031\n",
            "           9       0.99      0.98      0.98      1006\n",
            "\n",
            "    accuracy                           0.97     10000\n",
            "   macro avg       0.97      0.97      0.97     10000\n",
            "weighted avg       0.97      0.97      0.97     10000\n",
            "\n"
          ],
          "name": "stdout"
        }
      ]
    }
  ]
}